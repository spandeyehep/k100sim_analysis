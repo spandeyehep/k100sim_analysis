{
 "cells": [
  {
   "cell_type": "code",
   "execution_count": 15,
   "id": "5e91128d",
   "metadata": {},
   "outputs": [],
   "source": [
    "import os, sys\n",
    "import uproot, awkward\n",
    "import ROOT as rt\n",
    "import numpy as np\n",
    "from array import array\n",
    "from mpl_toolkits import mplot3d\n",
    "import matplotlib.pyplot as plt\n",
    "import numpy as np\n",
    "from tqdm import tqdm\n",
    "import pandas as pd"
   ]
  },
  {
   "cell_type": "code",
   "execution_count": 16,
   "id": "730506cb",
   "metadata": {},
   "outputs": [],
   "source": [
    "events_in_this_sim = 50000"
   ]
  },
  {
   "cell_type": "code",
   "execution_count": 120,
   "id": "0165466e",
   "metadata": {},
   "outputs": [
    {
     "name": "stdout",
     "output_type": "stream",
     "text": [
      "name                 | typename                 | interpretation                \n",
      "---------------------+--------------------------+-------------------------------\n",
      "fEvent               | int32_t                  | AsDtype('>i4')\n",
      "fNeutron_energy      | double                   | AsDtype('>f8')\n",
      "fNeutronX            | double                   | AsDtype('>f8')\n",
      "fNeutronY            | double                   | AsDtype('>f8')\n",
      "fNeutronZ            | double                   | AsDtype('>f8')\n",
      "fPDGID               | int32_t                  | AsDtype('>i4')\n",
      "fsec_KE              | double                   | AsDtype('>f8')\n"
     ]
    },
    {
     "data": {
      "text/html": [
       "<div>\n",
       "<style scoped>\n",
       "    .dataframe tbody tr th:only-of-type {\n",
       "        vertical-align: middle;\n",
       "    }\n",
       "\n",
       "    .dataframe tbody tr th {\n",
       "        vertical-align: top;\n",
       "    }\n",
       "\n",
       "    .dataframe thead th {\n",
       "        text-align: right;\n",
       "    }\n",
       "</style>\n",
       "<table border=\"1\" class=\"dataframe\">\n",
       "  <thead>\n",
       "    <tr style=\"text-align: right;\">\n",
       "      <th></th>\n",
       "      <th>EV</th>\n",
       "      <th>neutronE</th>\n",
       "      <th>x</th>\n",
       "      <th>y</th>\n",
       "      <th>z</th>\n",
       "      <th>pid</th>\n",
       "      <th>KE</th>\n",
       "    </tr>\n",
       "  </thead>\n",
       "  <tbody>\n",
       "    <tr>\n",
       "      <th>0</th>\n",
       "      <td>217</td>\n",
       "      <td>2.500000e-08</td>\n",
       "      <td>0.0</td>\n",
       "      <td>0.0</td>\n",
       "      <td>900.156207</td>\n",
       "      <td>22</td>\n",
       "      <td>7.196675</td>\n",
       "    </tr>\n",
       "    <tr>\n",
       "      <th>1</th>\n",
       "      <td>217</td>\n",
       "      <td>2.500000e-08</td>\n",
       "      <td>0.0</td>\n",
       "      <td>0.0</td>\n",
       "      <td>900.156207</td>\n",
       "      <td>22</td>\n",
       "      <td>2.999199</td>\n",
       "    </tr>\n",
       "    <tr>\n",
       "      <th>2</th>\n",
       "      <td>217</td>\n",
       "      <td>2.500000e-08</td>\n",
       "      <td>0.0</td>\n",
       "      <td>0.0</td>\n",
       "      <td>900.156207</td>\n",
       "      <td>320740</td>\n",
       "      <td>0.000374</td>\n",
       "    </tr>\n",
       "    <tr>\n",
       "      <th>3</th>\n",
       "      <td>258</td>\n",
       "      <td>2.500000e-08</td>\n",
       "      <td>0.0</td>\n",
       "      <td>0.0</td>\n",
       "      <td>899.922450</td>\n",
       "      <td>22</td>\n",
       "      <td>5.429043</td>\n",
       "    </tr>\n",
       "    <tr>\n",
       "      <th>4</th>\n",
       "      <td>258</td>\n",
       "      <td>2.500000e-08</td>\n",
       "      <td>0.0</td>\n",
       "      <td>0.0</td>\n",
       "      <td>899.922450</td>\n",
       "      <td>22</td>\n",
       "      <td>0.068708</td>\n",
       "    </tr>\n",
       "  </tbody>\n",
       "</table>\n",
       "</div>"
      ],
      "text/plain": [
       "    EV      neutronE    x    y           z     pid        KE\n",
       "0  217  2.500000e-08  0.0  0.0  900.156207      22  7.196675\n",
       "1  217  2.500000e-08  0.0  0.0  900.156207      22  2.999199\n",
       "2  217  2.500000e-08  0.0  0.0  900.156207  320740  0.000374\n",
       "3  258  2.500000e-08  0.0  0.0  899.922450      22  5.429043\n",
       "4  258  2.500000e-08  0.0  0.0  899.922450      22  0.068708"
      ]
     },
     "execution_count": 120,
     "metadata": {},
     "output_type": "execute_result"
    }
   ],
   "source": [
    "dir_ = '.'\n",
    "inFile_k100 = '%s/mySim_50k_1mm_placedFarSide_HP_G4Flags.root'%(dir_)\n",
    "\n",
    "file_k100 = uproot.open(inFile_k100)\n",
    "if(not file_k100):\n",
    "    print(\"could not open file: %s\"%(inFile_k100))\n",
    "    sys.exit(0)\n",
    "    \n",
    "tree = file_k100[\"Hits\"]\n",
    "\n",
    "if(not tree):\n",
    "    print(\"simtree does not exist in file: %s\"%(file_k100))\n",
    "    sys.exit(0)\n",
    "\n",
    "tree.show()\n",
    "EV = tree['fEvent'].array(library='np')\n",
    "neutronE = tree['fNeutron_energy'].array(library='np')\n",
    "x = tree['fNeutronX'].array(library='np')\n",
    "y = tree['fNeutronY'].array(library='np')\n",
    "z = tree['fNeutronZ'].array(library='np')\n",
    "pid = tree['fPDGID'].array(library='np')\n",
    "KE = tree['fsec_KE'].array(library='np')\n",
    "\n",
    "\n",
    "df = pd.DataFrame( {'EV' : EV,\n",
    "                    'neutronE' : neutronE,\n",
    "                    'x' : x,\n",
    "                    'y' : y,\n",
    "                    'z' : z,\n",
    "                    'pid' : pid,\n",
    "                    'KE' : KE}\n",
    "                 )\n",
    "df.head(5)"
   ]
  },
  {
   "cell_type": "code",
   "execution_count": 121,
   "id": "5307d748",
   "metadata": {},
   "outputs": [
    {
     "data": {
      "text/plain": [
       "514"
      ]
     },
     "execution_count": 121,
     "metadata": {},
     "output_type": "execute_result"
    }
   ],
   "source": [
    "len(np.unique(df.EV))"
   ]
  },
  {
   "cell_type": "code",
   "execution_count": 122,
   "id": "c5b78058",
   "metadata": {},
   "outputs": [
    {
     "data": {
      "text/html": [
       "<div>\n",
       "<style scoped>\n",
       "    .dataframe tbody tr th:only-of-type {\n",
       "        vertical-align: middle;\n",
       "    }\n",
       "\n",
       "    .dataframe tbody tr th {\n",
       "        vertical-align: top;\n",
       "    }\n",
       "\n",
       "    .dataframe thead th {\n",
       "        text-align: right;\n",
       "    }\n",
       "</style>\n",
       "<table border=\"1\" class=\"dataframe\">\n",
       "  <thead>\n",
       "    <tr style=\"text-align: right;\">\n",
       "      <th></th>\n",
       "      <th>EV</th>\n",
       "      <th>neutronE</th>\n",
       "      <th>x</th>\n",
       "      <th>y</th>\n",
       "      <th>z</th>\n",
       "      <th>pid</th>\n",
       "      <th>KE</th>\n",
       "    </tr>\n",
       "  </thead>\n",
       "  <tbody>\n",
       "    <tr>\n",
       "      <th>2</th>\n",
       "      <td>217</td>\n",
       "      <td>2.500000e-08</td>\n",
       "      <td>0.00000</td>\n",
       "      <td>0.000000</td>\n",
       "      <td>900.156207</td>\n",
       "      <td>320740</td>\n",
       "      <td>0.000374</td>\n",
       "    </tr>\n",
       "    <tr>\n",
       "      <th>8</th>\n",
       "      <td>258</td>\n",
       "      <td>2.500000e-08</td>\n",
       "      <td>0.00000</td>\n",
       "      <td>0.000000</td>\n",
       "      <td>899.922450</td>\n",
       "      <td>320740</td>\n",
       "      <td>0.000284</td>\n",
       "    </tr>\n",
       "    <tr>\n",
       "      <th>15</th>\n",
       "      <td>319</td>\n",
       "      <td>2.500000e-08</td>\n",
       "      <td>0.00000</td>\n",
       "      <td>0.000000</td>\n",
       "      <td>900.272464</td>\n",
       "      <td>320740</td>\n",
       "      <td>0.000401</td>\n",
       "    </tr>\n",
       "    <tr>\n",
       "      <th>20</th>\n",
       "      <td>463</td>\n",
       "      <td>2.500000e-08</td>\n",
       "      <td>0.00000</td>\n",
       "      <td>0.000000</td>\n",
       "      <td>900.322476</td>\n",
       "      <td>320740</td>\n",
       "      <td>0.000356</td>\n",
       "    </tr>\n",
       "    <tr>\n",
       "      <th>26</th>\n",
       "      <td>530</td>\n",
       "      <td>2.500000e-08</td>\n",
       "      <td>0.00000</td>\n",
       "      <td>0.000000</td>\n",
       "      <td>900.080129</td>\n",
       "      <td>320740</td>\n",
       "      <td>0.000055</td>\n",
       "    </tr>\n",
       "    <tr>\n",
       "      <th>...</th>\n",
       "      <td>...</td>\n",
       "      <td>...</td>\n",
       "      <td>...</td>\n",
       "      <td>...</td>\n",
       "      <td>...</td>\n",
       "      <td>...</td>\n",
       "      <td>...</td>\n",
       "    </tr>\n",
       "    <tr>\n",
       "      <th>2261</th>\n",
       "      <td>49442</td>\n",
       "      <td>2.500000e-08</td>\n",
       "      <td>0.00000</td>\n",
       "      <td>0.000000</td>\n",
       "      <td>900.364377</td>\n",
       "      <td>320730</td>\n",
       "      <td>0.000193</td>\n",
       "    </tr>\n",
       "    <tr>\n",
       "      <th>2267</th>\n",
       "      <td>49562</td>\n",
       "      <td>2.500000e-08</td>\n",
       "      <td>0.00000</td>\n",
       "      <td>0.000000</td>\n",
       "      <td>900.366102</td>\n",
       "      <td>320740</td>\n",
       "      <td>0.000446</td>\n",
       "    </tr>\n",
       "    <tr>\n",
       "      <th>2271</th>\n",
       "      <td>49598</td>\n",
       "      <td>2.344541e-08</td>\n",
       "      <td>3.54382</td>\n",
       "      <td>67.308941</td>\n",
       "      <td>900.110166</td>\n",
       "      <td>320740</td>\n",
       "      <td>0.000293</td>\n",
       "    </tr>\n",
       "    <tr>\n",
       "      <th>2274</th>\n",
       "      <td>49620</td>\n",
       "      <td>2.500000e-08</td>\n",
       "      <td>0.00000</td>\n",
       "      <td>0.000000</td>\n",
       "      <td>900.093243</td>\n",
       "      <td>320710</td>\n",
       "      <td>0.000358</td>\n",
       "    </tr>\n",
       "    <tr>\n",
       "      <th>2278</th>\n",
       "      <td>49673</td>\n",
       "      <td>2.500000e-08</td>\n",
       "      <td>0.00000</td>\n",
       "      <td>0.000000</td>\n",
       "      <td>899.974187</td>\n",
       "      <td>320740</td>\n",
       "      <td>0.000125</td>\n",
       "    </tr>\n",
       "  </tbody>\n",
       "</table>\n",
       "<p>514 rows × 7 columns</p>\n",
       "</div>"
      ],
      "text/plain": [
       "         EV      neutronE        x          y           z     pid        KE\n",
       "2       217  2.500000e-08  0.00000   0.000000  900.156207  320740  0.000374\n",
       "8       258  2.500000e-08  0.00000   0.000000  899.922450  320740  0.000284\n",
       "15      319  2.500000e-08  0.00000   0.000000  900.272464  320740  0.000401\n",
       "20      463  2.500000e-08  0.00000   0.000000  900.322476  320740  0.000356\n",
       "26      530  2.500000e-08  0.00000   0.000000  900.080129  320740  0.000055\n",
       "...     ...           ...      ...        ...         ...     ...       ...\n",
       "2261  49442  2.500000e-08  0.00000   0.000000  900.364377  320730  0.000193\n",
       "2267  49562  2.500000e-08  0.00000   0.000000  900.366102  320740  0.000446\n",
       "2271  49598  2.344541e-08  3.54382  67.308941  900.110166  320740  0.000293\n",
       "2274  49620  2.500000e-08  0.00000   0.000000  900.093243  320710  0.000358\n",
       "2278  49673  2.500000e-08  0.00000   0.000000  899.974187  320740  0.000125\n",
       "\n",
       "[514 rows x 7 columns]"
      ]
     },
     "execution_count": 122,
     "metadata": {},
     "output_type": "execute_result"
    }
   ],
   "source": [
    "#df[int(df.pid/1e4) == 320710]\n",
    "df[(df.pid/1e4).astype(int) == 32]"
   ]
  },
  {
   "cell_type": "code",
   "execution_count": 123,
   "id": "c394d4b1",
   "metadata": {},
   "outputs": [],
   "source": [
    "Ge70 = df[df.pid == 320710]\n",
    "Ge71 = df[df.pid == 320720]\n",
    "Ge72 = df[df.pid == 320730]\n",
    "Ge73 = df[df.pid == 320740]\n",
    "Ge74 = df[df.pid == 320750]\n",
    "Ge75 = df[df.pid == 320760]\n",
    "Ge76 = df[df.pid == 320770]"
   ]
  },
  {
   "cell_type": "code",
   "execution_count": 124,
   "id": "12e256f1",
   "metadata": {},
   "outputs": [
    {
     "name": "stdout",
     "output_type": "stream",
     "text": [
      "Ge 70 = 0.278\n",
      "Ge 71 = 0.000\n",
      "Ge 72 = 0.115\n",
      "Ge 73 = 0.512\n",
      "Ge 74 = 0.091\n",
      "Ge 75 = 0.000\n",
      "Ge 76 = 0.004\n"
     ]
    }
   ],
   "source": [
    "total = len(Ge70) + len(Ge71) + len(Ge72) + len(Ge73) + len(Ge74) + len(Ge75) + len(Ge76)\n",
    "print('Ge 70 = %0.3f'%(len(Ge70)/total))\n",
    "print('Ge 71 = %0.3f'%(len(Ge71)/total))\n",
    "print('Ge 72 = %0.3f'%(len(Ge72)/total))\n",
    "print('Ge 73 = %0.3f'%(len(Ge73)/total))\n",
    "print('Ge 74 = %0.3f'%(len(Ge74)/total))\n",
    "print('Ge 75 = %0.3f'%(len(Ge75)/total))\n",
    "print('Ge 76 = %0.3f'%(len(Ge76)/total))\n"
   ]
  },
  {
   "cell_type": "code",
   "execution_count": 125,
   "id": "5a534448",
   "metadata": {},
   "outputs": [
    {
     "name": "stderr",
     "output_type": "stream",
     "text": [
      "Warning in <TROOT::Append>: Replacing existing TH1: h_evt (Potential memory leak).\n"
     ]
    },
    {
     "data": {
      "image/png": "[encoded data removed]",
      "text/plain": [
       "<IPython.core.display.Image object>"
      ]
     },
     "metadata": {},
     "output_type": "display_data"
    }
   ],
   "source": [
    "isotope = df[df.pid == 320710]\n",
    "h_evt = rt.TH1F('h_evt','h_evt',5000,0,50000)\n",
    "for i in range(len(isotope)):\n",
    "    h_evt.Fill(isotope.iloc[i].EV)\n",
    "\n",
    "c = rt.TCanvas()\n",
    "h_evt.Draw()\n",
    "rt.gPad.SetLogy()\n",
    "c.Draw()"
   ]
  },
  {
   "cell_type": "code",
   "execution_count": 126,
   "id": "2b0f3f67",
   "metadata": {},
   "outputs": [
    {
     "name": "stderr",
     "output_type": "stream",
     "text": [
      "Warning in <TROOT::Append>: Replacing existing TH1: h_x_y_Ge70Cap (Potential memory leak).\n"
     ]
    },
    {
     "data": {
      "image/png": "[encoded data removed]",
      "text/plain": [
       "<IPython.core.display.Image object>"
      ]
     },
     "metadata": {},
     "output_type": "display_data"
    }
   ],
   "source": [
    "h_x_y_Ge70Cap = rt.TH2F('h_x_y_Ge70Cap','h_x_y_Ge70Cap',20,-10,10,20,-10,10)\n",
    "\n",
    "for i in range(len(Ge70)):\n",
    "    h_x_y_Ge70Cap.Fill(Ge70.iloc[i].x/10,Ge70.iloc[i].y/10)\n",
    "    \n",
    "c = rt.TCanvas()\n",
    "h_x_y_Ge70Cap.Draw('colz')\n",
    "rt.gPad.SetLogz()\n",
    "c.Draw()"
   ]
  },
  {
   "cell_type": "code",
   "execution_count": 66,
   "id": "84257549",
   "metadata": {},
   "outputs": [
    {
     "data": {
      "text/plain": [
       "7.0278"
      ]
     },
     "execution_count": 66,
     "metadata": {},
     "output_type": "execute_result"
    }
   ],
   "source": [
    "((318)/50000)*1105"
   ]
  },
  {
   "cell_type": "code",
   "execution_count": 127,
   "id": "646d75ec",
   "metadata": {},
   "outputs": [],
   "source": [
    "Nncap = 143\n",
    "Nneutron = 50000\n",
    "dt = 0.1 #in cm\n",
    "N_A = 6.022e23 # avogadro's number\n",
    "# Al\n",
    "# density = 2.7 #g/cm3\n",
    "# molar_mass = 26.98 # g/mol\n",
    "#Ge\n",
    "density = 5.323 #g/cm3\n",
    "molar_mass = 72.61 # g/mol\n",
    "abundance = 0.205\n",
    "\n",
    "n = abundance* (density/molar_mass) * N_A #atoms per unit volume\n"
   ]
  },
  {
   "cell_type": "code",
   "execution_count": 128,
   "id": "caa0d090",
   "metadata": {},
   "outputs": [],
   "source": [
    "cross_section = (Nncap/Nneutron)*(1.0/(n*dt))*1e24"
   ]
  },
  {
   "cell_type": "code",
   "execution_count": 129,
   "id": "9cfdb320",
   "metadata": {},
   "outputs": [
    {
     "data": {
      "text/plain": [
       "3.160176880340024"
      ]
     },
     "execution_count": 129,
     "metadata": {},
     "output_type": "execute_result"
    }
   ],
   "source": [
    "cross_section"
   ]
  },
  {
   "cell_type": "code",
   "execution_count": 24,
   "id": "88fd3a50",
   "metadata": {},
   "outputs": [
    {
     "data": {
      "text/plain": [
       "0.6605504587155964"
      ]
     },
     "execution_count": 24,
     "metadata": {},
     "output_type": "execute_result"
    }
   ],
   "source": [
    "144/218"
   ]
  },
  {
   "cell_type": "code",
   "execution_count": null,
   "id": "27a8c2d9",
   "metadata": {},
   "outputs": [],
   "source": []
  }
 ],
 "metadata": {
  "kernelspec": {
   "display_name": "Python 3 (ipykernel)",
   "language": "python",
   "name": "python3"
  },
  "language_info": {
   "codemirror_mode": {
    "name": "ipython",
    "version": 3
   },
   "file_extension": ".py",
   "mimetype": "text/x-python",
   "name": "python",
   "nbconvert_exporter": "python",
   "pygments_lexer": "ipython3",
   "version": "3.10.0"
  }
 },
 "nbformat": 4,
 "nbformat_minor": 5
}
