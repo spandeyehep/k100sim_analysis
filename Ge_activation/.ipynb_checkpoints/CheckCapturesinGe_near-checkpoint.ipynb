{
 "cells": [
  {
   "cell_type": "code",
   "execution_count": 2,
   "id": "5e91128d",
   "metadata": {},
   "outputs": [
    {
     "name": "stdout",
     "output_type": "stream",
     "text": [
      "Welcome to JupyROOT 6.26/02\n"
     ]
    }
   ],
   "source": [
    "import os, sys\n",
    "import uproot, awkward\n",
    "import ROOT as rt\n",
    "import numpy as np\n",
    "from array import array\n",
    "from mpl_toolkits import mplot3d\n",
    "import matplotlib.pyplot as plt\n",
    "import numpy as np\n",
    "from tqdm import tqdm\n",
    "import pandas as pd"
   ]
  },
  {
   "cell_type": "code",
   "execution_count": 3,
   "id": "730506cb",
   "metadata": {},
   "outputs": [],
   "source": [
    "save_dir = \"near\"\n",
    "events_in_this_sim = 500e6"
   ]
  },
  {
   "cell_type": "code",
   "execution_count": 4,
   "id": "0165466e",
   "metadata": {},
   "outputs": [
    {
     "data": {
      "text/html": [
       "<div>\n",
       "<style scoped>\n",
       "    .dataframe tbody tr th:only-of-type {\n",
       "        vertical-align: middle;\n",
       "    }\n",
       "\n",
       "    .dataframe tbody tr th {\n",
       "        vertical-align: top;\n",
       "    }\n",
       "\n",
       "    .dataframe thead th {\n",
       "        text-align: right;\n",
       "    }\n",
       "</style>\n",
       "<table border=\"1\" class=\"dataframe\">\n",
       "  <thead>\n",
       "    <tr style=\"text-align: right;\">\n",
       "      <th></th>\n",
       "      <th>EV</th>\n",
       "      <th>Type</th>\n",
       "      <th>TS</th>\n",
       "      <th>E1</th>\n",
       "      <th>D3</th>\n",
       "      <th>DT</th>\n",
       "      <th>nCap</th>\n",
       "      <th>P</th>\n",
       "      <th>time1</th>\n",
       "      <th>Edep</th>\n",
       "      <th>flag</th>\n",
       "    </tr>\n",
       "  </thead>\n",
       "  <tbody>\n",
       "    <tr>\n",
       "      <th>0</th>\n",
       "      <td>7</td>\n",
       "      <td>[2112]</td>\n",
       "      <td>[100066]</td>\n",
       "      <td>[2.0816506e-05]</td>\n",
       "      <td>[0.0]</td>\n",
       "      <td>[1]</td>\n",
       "      <td>[0]</td>\n",
       "      <td>[0]</td>\n",
       "      <td>[2323.463]</td>\n",
       "      <td>0.000000</td>\n",
       "      <td>False</td>\n",
       "    </tr>\n",
       "    <tr>\n",
       "      <th>1</th>\n",
       "      <td>33</td>\n",
       "      <td>[22, 22, 22]</td>\n",
       "      <td>[400015, 400017, 400016]</td>\n",
       "      <td>[3.0500848, 3.0500848, 3.0500848]</td>\n",
       "      <td>[0.0, 0.0, 0.0]</td>\n",
       "      <td>[1001, 1001, 1002]</td>\n",
       "      <td>[0, 0, 0]</td>\n",
       "      <td>[100000, 100000, 100000]</td>\n",
       "      <td>[8.499902, 8.499902, 8.499902]</td>\n",
       "      <td>0.000000</td>\n",
       "      <td>False</td>\n",
       "    </tr>\n",
       "    <tr>\n",
       "      <th>2</th>\n",
       "      <td>62</td>\n",
       "      <td>[2112]</td>\n",
       "      <td>[100009]</td>\n",
       "      <td>[7.5317245]</td>\n",
       "      <td>[0.0]</td>\n",
       "      <td>[1001]</td>\n",
       "      <td>[0]</td>\n",
       "      <td>[0]</td>\n",
       "      <td>[20.03959]</td>\n",
       "      <td>0.000000</td>\n",
       "      <td>False</td>\n",
       "    </tr>\n",
       "    <tr>\n",
       "      <th>3</th>\n",
       "      <td>121</td>\n",
       "      <td>[2112, 2112, 72032, 72032]</td>\n",
       "      <td>[400032, 400033, 5500001, 5500002]</td>\n",
       "      <td>[0.0010354193, 0.0010043379, 3.1109077e-05, 0.0]</td>\n",
       "      <td>[0.0, 0.0, 3.1109077e-05, 0.0]</td>\n",
       "      <td>[1, 1, 1, 1]</td>\n",
       "      <td>[0, 0, 0, 0]</td>\n",
       "      <td>[100000, 100000, 400000, 400000]</td>\n",
       "      <td>[443.67398, 487.20966, 443.6743, 443.6743]</td>\n",
       "      <td>0.000031</td>\n",
       "      <td>False</td>\n",
       "    </tr>\n",
       "    <tr>\n",
       "      <th>4</th>\n",
       "      <td>206</td>\n",
       "      <td>[2112, 2112, 2112, 2112, 2112, 23011, 23011]</td>\n",
       "      <td>[100006, 100015, 100013, 100014, 100016, 80000...</td>\n",
       "      <td>[1.8547027, 0.0021337483, 0.002318669, 0.00213...</td>\n",
       "      <td>[0.0, 0.0, 0.0, 0.0, 0.0, 0.0001849831, 0.0]</td>\n",
       "      <td>[1001, 1001, 1002, 1002, 1002, 1002, 1002]</td>\n",
       "      <td>[0, 0, 0, 0, 0, 0, 0]</td>\n",
       "      <td>[0, 0, 0, 0, 0, 100000, 100000]</td>\n",
       "      <td>[38.72792, 141.57367, 98.24316, 141.57367, 141...</td>\n",
       "      <td>0.000185</td>\n",
       "      <td>False</td>\n",
       "    </tr>\n",
       "  </tbody>\n",
       "</table>\n",
       "</div>"
      ],
      "text/plain": [
       "    EV                                          Type  \\\n",
       "0    7                                        [2112]   \n",
       "1   33                                  [22, 22, 22]   \n",
       "2   62                                        [2112]   \n",
       "3  121                    [2112, 2112, 72032, 72032]   \n",
       "4  206  [2112, 2112, 2112, 2112, 2112, 23011, 23011]   \n",
       "\n",
       "                                                  TS  \\\n",
       "0                                           [100066]   \n",
       "1                           [400015, 400017, 400016]   \n",
       "2                                           [100009]   \n",
       "3                 [400032, 400033, 5500001, 5500002]   \n",
       "4  [100006, 100015, 100013, 100014, 100016, 80000...   \n",
       "\n",
       "                                                  E1  \\\n",
       "0                                    [2.0816506e-05]   \n",
       "1                  [3.0500848, 3.0500848, 3.0500848]   \n",
       "2                                        [7.5317245]   \n",
       "3   [0.0010354193, 0.0010043379, 3.1109077e-05, 0.0]   \n",
       "4  [1.8547027, 0.0021337483, 0.002318669, 0.00213...   \n",
       "\n",
       "                                             D3  \\\n",
       "0                                         [0.0]   \n",
       "1                               [0.0, 0.0, 0.0]   \n",
       "2                                         [0.0]   \n",
       "3                [0.0, 0.0, 3.1109077e-05, 0.0]   \n",
       "4  [0.0, 0.0, 0.0, 0.0, 0.0, 0.0001849831, 0.0]   \n",
       "\n",
       "                                           DT                   nCap  \\\n",
       "0                                         [1]                    [0]   \n",
       "1                          [1001, 1001, 1002]              [0, 0, 0]   \n",
       "2                                      [1001]                    [0]   \n",
       "3                                [1, 1, 1, 1]           [0, 0, 0, 0]   \n",
       "4  [1001, 1001, 1002, 1002, 1002, 1002, 1002]  [0, 0, 0, 0, 0, 0, 0]   \n",
       "\n",
       "                                  P  \\\n",
       "0                               [0]   \n",
       "1          [100000, 100000, 100000]   \n",
       "2                               [0]   \n",
       "3  [100000, 100000, 400000, 400000]   \n",
       "4   [0, 0, 0, 0, 0, 100000, 100000]   \n",
       "\n",
       "                                               time1      Edep   flag  \n",
       "0                                         [2323.463]  0.000000  False  \n",
       "1                     [8.499902, 8.499902, 8.499902]  0.000000  False  \n",
       "2                                         [20.03959]  0.000000  False  \n",
       "3         [443.67398, 487.20966, 443.6743, 443.6743]  0.000031  False  \n",
       "4  [38.72792, 141.57367, 98.24316, 141.57367, 141...  0.000185  False  "
      ]
     },
     "execution_count": 4,
     "metadata": {},
     "output_type": "execute_result"
    }
   ],
   "source": [
    "dir_ = '/Users/shubhampandey/work/geant4/k100sim_anthony/sim_files'\n",
    "if(save_dir == \"far\"):\n",
    "    inFile_k100 = '%s/Ge_activation/k100_500M_Ge_Activation_far.root'%(dir_)\n",
    "elif(save_dir == \"near\"):\n",
    "    inFile_k100 = '%s/Ge_activation/k100_500M_Ge_Activation_near.root'%(dir_)\n",
    "else:\n",
    "    print(\"Incorrect option\")\n",
    "\n",
    "file_k100 = uproot.open(inFile_k100)\n",
    "if(not file_k100):\n",
    "    print(\"could not open file: %s\"%(inFile_k100))\n",
    "    sys.exit(0)\n",
    "    \n",
    "tree_k100 = file_k100[\"simtree\"]\n",
    "\n",
    "if(not tree_k100):\n",
    "    print(\"simtree does not exist in file: %s\"%(file_k100))\n",
    "    sys.exit(0)\n",
    "\n",
    "EV = tree_k100[\"EV\"].array(library=\"np\")\n",
    "#EV = EV - 1\n",
    "Type = tree_k100[\"Type\"].array(library=\"np\")\n",
    "TS = tree_k100[\"TS\"].array(library=\"np\")\n",
    "E1 = tree_k100[\"E1\"].array(library=\"np\")\n",
    "D3 = tree_k100[\"D3\"].array(library=\"np\")\n",
    "DT = tree_k100[\"DT\"].array(library=\"np\")\n",
    "nCap = tree_k100[\"nCap\"].array(library=\"np\")\n",
    "time1 = tree_k100[\"time1\"].array(library=\"np\")\n",
    "P = tree_k100[\"P\"].array(library=\"np\")\n",
    "\n",
    "k100 = pd.DataFrame( {'EV' : EV,\n",
    "                  'Type' : Type,\n",
    "                      'TS' : TS,\n",
    "                  'E1' : E1,\n",
    "                  'D3' : D3,\n",
    "                      'DT' : DT,\n",
    "                     'nCap' : nCap,\n",
    "                      'P' : P,\n",
    "                     'time1' : time1}\n",
    "                 )\n",
    "k100['Edep'] = k100.D3.map(sum)\n",
    "k100['flag'] = k100.nCap.map(sum).astype(bool)\n",
    "k100.head(5)"
   ]
  },
  {
   "cell_type": "code",
   "execution_count": 38,
   "id": "ef38e29b",
   "metadata": {},
   "outputs": [
    {
     "data": {
      "text/plain": [
       "8       8046\n",
       "19     15201\n",
       "21     15520\n",
       "22     15612\n",
       "23     16324\n",
       "26     18904\n",
       "32     23018\n",
       "33     23544\n",
       "35     23985\n",
       "37     25208\n",
       "39     25659\n",
       "40     25956\n",
       "41     26352\n",
       "55     33756\n",
       "62     35591\n",
       "83     46613\n",
       "87     49172\n",
       "89     50490\n",
       "92     53456\n",
       "104    58243\n",
       "Name: EV, dtype: int64"
      ]
     },
     "execution_count": 38,
     "metadata": {},
     "output_type": "execute_result"
    }
   ],
   "source": [
    "k100[k100.flag == True].EV[0:20]"
   ]
  },
  {
   "cell_type": "code",
   "execution_count": 24,
   "id": "1ba42fdb",
   "metadata": {},
   "outputs": [
    {
     "data": {
      "text/plain": [
       "128053"
      ]
     },
     "execution_count": 24,
     "metadata": {},
     "output_type": "execute_result"
    }
   ],
   "source": [
    "index = np.where(k100.iloc[19].nCap == 1)[0][0]\n",
    "k100.iloc[19].Type[index+1]"
   ]
  },
  {
   "cell_type": "code",
   "execution_count": 49,
   "id": "11684ac9",
   "metadata": {},
   "outputs": [
    {
     "name": "stdout",
     "output_type": "stream",
     "text": [
      "nCap : Type : P : E1 :: 0 : 2112 : 0 : 100080 : 0.00\n",
      "nCap : Type : P : E1 :: 1 : 2112 : 0 : 100081 : 0.00\n",
      "nCap : Type : P : E1 :: 0 : 128053 : 100000 : 7100001 : 0.00\n",
      "nCap : Type : P : E1 :: 0 : 128053 : 100000 : 7100002 : 0.00\n",
      "nCap : Type : P : E1 :: 0 : 11 : 7100000 : 7400001 : 0.30\n",
      "nCap : Type : P : E1 :: 0 : -12 : 7100000 : 7300001 : 1.83\n",
      "nCap : Type : P : E1 :: 0 : -12 : 7100000 : 7300003 : 1.83\n",
      "nCap : Type : P : E1 :: 0 : 128054 : 7100000 : 7200001 : 0.00\n",
      "nCap : Type : P : E1 :: 0 : 128054 : 7100000 : 7200002 : 0.00\n",
      "nCap : Type : P : E1 :: 0 : 22 : 100000 : 7000001 : 0.13\n",
      "nCap : Type : P : E1 :: 0 : 11 : 7000000 : 9300001 : 0.00\n",
      "nCap : Type : P : E1 :: 0 : 11 : 7000000 : 9200001 : 0.00\n",
      "nCap : Type : P : E1 :: 0 : 11 : 7000000 : 9100001 : 0.00\n",
      "nCap : Type : P : E1 :: 0 : 11 : 7000000 : 9000001 : 0.00\n",
      "nCap : Type : P : E1 :: 0 : 11 : 7000000 : 8900001 : 0.00\n",
      "nCap : Type : P : E1 :: 0 : 11 : 7000000 : 8800001 : 0.00\n",
      "nCap : Type : P : E1 :: 0 : 11 : 7000000 : 8700001 : 0.00\n",
      "nCap : Type : P : E1 :: 0 : 11 : 7000000 : 8600001 : 0.00\n",
      "nCap : Type : P : E1 :: 0 : 11 : 7000000 : 8500001 : 0.00\n",
      "nCap : Type : P : E1 :: 0 : 11 : 7000000 : 8400001 : 0.00\n",
      "nCap : Type : P : E1 :: 0 : 11 : 7000000 : 8300001 : 0.00\n",
      "nCap : Type : P : E1 :: 0 : 11 : 7000000 : 8200001 : 0.00\n",
      "nCap : Type : P : E1 :: 0 : 11 : 7000000 : 8100001 : 0.00\n",
      "nCap : Type : P : E1 :: 0 : 11 : 7000000 : 8000001 : 0.00\n",
      "nCap : Type : P : E1 :: 0 : 11 : 7000000 : 7900001 : 0.00\n",
      "nCap : Type : P : E1 :: 0 : 11 : 7000000 : 7800001 : 0.00\n",
      "nCap : Type : P : E1 :: 0 : 11 : 7000000 : 7700001 : 0.00\n",
      "nCap : Type : P : E1 :: 0 : 22 : 7000000 : 7600001 : 0.03\n",
      "nCap : Type : P : E1 :: 0 : 22 : 7000000 : 7600002 : 0.03\n",
      "nCap : Type : P : E1 :: 0 : 11 : 7600000 : 10100001 : 0.00\n",
      "nCap : Type : P : E1 :: 0 : 11 : 7600000 : 10000001 : 0.00\n",
      "nCap : Type : P : E1 :: 0 : 11 : 7600000 : 9900001 : 0.00\n",
      "nCap : Type : P : E1 :: 0 : 11 : 7600000 : 9800001 : 0.00\n",
      "nCap : Type : P : E1 :: 0 : 11 : 7600000 : 9700001 : 0.00\n",
      "nCap : Type : P : E1 :: 0 : 11 : 7600000 : 9600001 : 0.00\n",
      "nCap : Type : P : E1 :: 0 : 11 : 7600000 : 9500001 : 0.00\n",
      "nCap : Type : P : E1 :: 0 : 11 : 7600000 : 9400001 : 0.02\n",
      "nCap : Type : P : E1 :: 0 : 11 : 7000000 : 7500001 : 0.10\n",
      "nCap : Type : P : E1 :: 0 : 22 : 100000 : 6900001 : 6.69\n",
      "nCap : Type : P : E1 :: 0 : 22 : 100000 : 6900003 : 6.69\n",
      "nCap : Type : P : E1 :: 0 : 127053 : 100000 : 6800001 : 0.00\n",
      "nCap : Type : P : E1 :: 0 : 127053 : 100000 : 6800002 : 0.00\n",
      "nCap : Type : P : E1 :: 0 : -12 : 7100000 : 7300002 : 1.83\n",
      "nCap : Type : P : E1 :: 0 : 22 : 100000 : 6900002 : 6.69\n"
     ]
    }
   ],
   "source": [
    "#k100.iloc[19].nCap\n",
    "k = 23\n",
    "for i in range(len(k100.iloc[k].nCap)):\n",
    "    print('nCap : Type : P : E1 :: %d : %d : %d : %d : %0.2f'%(k100.iloc[k].nCap[i],k100.iloc[k].Type[i],k100.iloc[k].P[i],k100.iloc[k].TS[i],k100.iloc[k].E1[i]))"
   ]
  },
  {
   "cell_type": "code",
   "execution_count": 9,
   "id": "c822bad7",
   "metadata": {},
   "outputs": [],
   "source": [
    "def neutronE(df_):\n",
    "    #a = (np.dstack((df_.DT,df_.D3)))[0]\n",
    "    if(df_.flag == True):\n",
    "        index = np.where(df_.nCap == 1)[0][0]\n",
    "        return df_.E1[index]\n",
    "    else:\n",
    "        return -1"
   ]
  },
  {
   "cell_type": "code",
   "execution_count": 5,
   "id": "7b4a8567",
   "metadata": {},
   "outputs": [],
   "source": [
    "def isotope(df_):\n",
    "    #a = (np.dstack((df_.DT,df_.D3)))[0]\n",
    "    if(df_.flag == True):\n",
    "        index = np.where(df_.nCap == 1)[0][0]\n",
    "        return df_.Type[index+1]\n",
    "    else:\n",
    "        return -1\n"
   ]
  },
  {
   "cell_type": "code",
   "execution_count": 6,
   "id": "892cb9e4",
   "metadata": {},
   "outputs": [],
   "source": [
    "def nCap_gamma(df_):\n",
    "    gammas = []\n",
    "    if(df_.flag == True):\n",
    "        index = np.where(df_.nCap == 1)[0][0]\n",
    "        if(df_.Type[index] != 2112):\n",
    "            print ('Capture without neutron?')\n",
    "            sys.exit(0)\n",
    "        track = int(df_.TS[index]/100000)\n",
    "        \n",
    "        indices = np.where(df_.Type == 22)[0]\n",
    "        for i in indices:\n",
    "            track_temp = int(df_.TS[i]/100000)*100000\n",
    "            step_temp = df_.TS[i] - (track_temp)\n",
    "            if((df_.P[i] == track*1e5) & (step_temp == 1)):\n",
    "                gammas.append(df_.E1[i])\n",
    "    return gammas"
   ]
  },
  {
   "cell_type": "code",
   "execution_count": 7,
   "id": "a9cffbb2",
   "metadata": {},
   "outputs": [],
   "source": [
    "k100['isotope'] = k100.apply(isotope,axis=1)"
   ]
  },
  {
   "cell_type": "code",
   "execution_count": 8,
   "id": "d3ee7483",
   "metadata": {},
   "outputs": [],
   "source": [
    "k100['gamma'] = k100.apply(nCap_gamma,axis=1)"
   ]
  },
  {
   "cell_type": "code",
   "execution_count": 10,
   "id": "7d61ae39",
   "metadata": {},
   "outputs": [],
   "source": [
    "k100['neutronE'] = k100.apply(neutronE,axis=1)"
   ]
  },
  {
   "cell_type": "code",
   "execution_count": 12,
   "id": "e911917f",
   "metadata": {},
   "outputs": [
    {
     "data": {
      "text/html": [
       "<div>\n",
       "<style scoped>\n",
       "    .dataframe tbody tr th:only-of-type {\n",
       "        vertical-align: middle;\n",
       "    }\n",
       "\n",
       "    .dataframe tbody tr th {\n",
       "        vertical-align: top;\n",
       "    }\n",
       "\n",
       "    .dataframe thead th {\n",
       "        text-align: right;\n",
       "    }\n",
       "</style>\n",
       "<table border=\"1\" class=\"dataframe\">\n",
       "  <thead>\n",
       "    <tr style=\"text-align: right;\">\n",
       "      <th></th>\n",
       "      <th>EV</th>\n",
       "      <th>Type</th>\n",
       "      <th>TS</th>\n",
       "      <th>E1</th>\n",
       "      <th>D3</th>\n",
       "      <th>DT</th>\n",
       "      <th>nCap</th>\n",
       "      <th>P</th>\n",
       "      <th>time1</th>\n",
       "      <th>Edep</th>\n",
       "      <th>flag</th>\n",
       "      <th>isotope</th>\n",
       "      <th>gamma</th>\n",
       "    </tr>\n",
       "  </thead>\n",
       "  <tbody>\n",
       "    <tr>\n",
       "      <th>0</th>\n",
       "      <td>7</td>\n",
       "      <td>[2112]</td>\n",
       "      <td>[100066]</td>\n",
       "      <td>[2.0816506e-05]</td>\n",
       "      <td>[0.0]</td>\n",
       "      <td>[1]</td>\n",
       "      <td>[0]</td>\n",
       "      <td>[0]</td>\n",
       "      <td>[2323.463]</td>\n",
       "      <td>0.000000</td>\n",
       "      <td>False</td>\n",
       "      <td>-1</td>\n",
       "      <td>[]</td>\n",
       "    </tr>\n",
       "    <tr>\n",
       "      <th>1</th>\n",
       "      <td>33</td>\n",
       "      <td>[22, 22, 22]</td>\n",
       "      <td>[400015, 400017, 400016]</td>\n",
       "      <td>[3.0500848, 3.0500848, 3.0500848]</td>\n",
       "      <td>[0.0, 0.0, 0.0]</td>\n",
       "      <td>[1001, 1001, 1002]</td>\n",
       "      <td>[0, 0, 0]</td>\n",
       "      <td>[100000, 100000, 100000]</td>\n",
       "      <td>[8.499902, 8.499902, 8.499902]</td>\n",
       "      <td>0.000000</td>\n",
       "      <td>False</td>\n",
       "      <td>-1</td>\n",
       "      <td>[]</td>\n",
       "    </tr>\n",
       "    <tr>\n",
       "      <th>2</th>\n",
       "      <td>62</td>\n",
       "      <td>[2112]</td>\n",
       "      <td>[100009]</td>\n",
       "      <td>[7.5317245]</td>\n",
       "      <td>[0.0]</td>\n",
       "      <td>[1001]</td>\n",
       "      <td>[0]</td>\n",
       "      <td>[0]</td>\n",
       "      <td>[20.03959]</td>\n",
       "      <td>0.000000</td>\n",
       "      <td>False</td>\n",
       "      <td>-1</td>\n",
       "      <td>[]</td>\n",
       "    </tr>\n",
       "    <tr>\n",
       "      <th>3</th>\n",
       "      <td>121</td>\n",
       "      <td>[2112, 2112, 72032, 72032]</td>\n",
       "      <td>[400032, 400033, 5500001, 5500002]</td>\n",
       "      <td>[0.0010354193, 0.0010043379, 3.1109077e-05, 0.0]</td>\n",
       "      <td>[0.0, 0.0, 3.1109077e-05, 0.0]</td>\n",
       "      <td>[1, 1, 1, 1]</td>\n",
       "      <td>[0, 0, 0, 0]</td>\n",
       "      <td>[100000, 100000, 400000, 400000]</td>\n",
       "      <td>[443.67398, 487.20966, 443.6743, 443.6743]</td>\n",
       "      <td>0.000031</td>\n",
       "      <td>False</td>\n",
       "      <td>-1</td>\n",
       "      <td>[]</td>\n",
       "    </tr>\n",
       "    <tr>\n",
       "      <th>4</th>\n",
       "      <td>206</td>\n",
       "      <td>[2112, 2112, 2112, 2112, 2112, 23011, 23011]</td>\n",
       "      <td>[100006, 100015, 100013, 100014, 100016, 80000...</td>\n",
       "      <td>[1.8547027, 0.0021337483, 0.002318669, 0.00213...</td>\n",
       "      <td>[0.0, 0.0, 0.0, 0.0, 0.0, 0.0001849831, 0.0]</td>\n",
       "      <td>[1001, 1001, 1002, 1002, 1002, 1002, 1002]</td>\n",
       "      <td>[0, 0, 0, 0, 0, 0, 0]</td>\n",
       "      <td>[0, 0, 0, 0, 0, 100000, 100000]</td>\n",
       "      <td>[38.72792, 141.57367, 98.24316, 141.57367, 141...</td>\n",
       "      <td>0.000185</td>\n",
       "      <td>False</td>\n",
       "      <td>-1</td>\n",
       "      <td>[]</td>\n",
       "    </tr>\n",
       "    <tr>\n",
       "      <th>5</th>\n",
       "      <td>406</td>\n",
       "      <td>[2112]</td>\n",
       "      <td>[100029]</td>\n",
       "      <td>[0.00036585436]</td>\n",
       "      <td>[0.0]</td>\n",
       "      <td>[1001]</td>\n",
       "      <td>[0]</td>\n",
       "      <td>[0]</td>\n",
       "      <td>[3060.5928]</td>\n",
       "      <td>0.000000</td>\n",
       "      <td>False</td>\n",
       "      <td>-1</td>\n",
       "      <td>[]</td>\n",
       "    </tr>\n",
       "    <tr>\n",
       "      <th>6</th>\n",
       "      <td>426</td>\n",
       "      <td>[2112, 2112, 2112, 2112]</td>\n",
       "      <td>[100011, 100024, 100023, 100025]</td>\n",
       "      <td>[0.13999395, 0.0010362096, 0.0010362096, 0.001...</td>\n",
       "      <td>[0.0, 0.0, 0.0, 0.0]</td>\n",
       "      <td>[1001, 1001, 1002, 1002]</td>\n",
       "      <td>[0, 0, 0, 0]</td>\n",
       "      <td>[0, 0, 0, 0]</td>\n",
       "      <td>[126.609375, 350.6493, 350.6493, 350.6493]</td>\n",
       "      <td>0.000000</td>\n",
       "      <td>False</td>\n",
       "      <td>-1</td>\n",
       "      <td>[]</td>\n",
       "    </tr>\n",
       "    <tr>\n",
       "      <th>7</th>\n",
       "      <td>432</td>\n",
       "      <td>[22, 11, 11, 11, 11, 11, 11, 11, 11, 11, 11, 1...</td>\n",
       "      <td>[9800010, 14000001, 13900001, 13800001, 137000...</td>\n",
       "      <td>[0.18839343, 3.786e-05, 1.802e-05, 2.762e-05, ...</td>\n",
       "      <td>[0.00026663, 3.786e-05, 1.802e-05, 2.762e-05, ...</td>\n",
       "      <td>[1001, 1001, 1001, 1001, 1001, 1001, 1001, 100...</td>\n",
       "      <td>[0, 0, 0, 0, 0, 0, 0, 0, 0, 0, 0, 0, 0, 0, 0, ...</td>\n",
       "      <td>[100000, 9800000, 9800000, 9800000, 9800000, 9...</td>\n",
       "      <td>[469988.0, 469988.0, 469988.0, 469988.0, 46998...</td>\n",
       "      <td>0.188393</td>\n",
       "      <td>False</td>\n",
       "      <td>-1</td>\n",
       "      <td>[]</td>\n",
       "    </tr>\n",
       "    <tr>\n",
       "      <th>8</th>\n",
       "      <td>512</td>\n",
       "      <td>[2112]</td>\n",
       "      <td>[400011]</td>\n",
       "      <td>[2.27404]</td>\n",
       "      <td>[0.0]</td>\n",
       "      <td>[1]</td>\n",
       "      <td>[0]</td>\n",
       "      <td>[100000]</td>\n",
       "      <td>[19.490091]</td>\n",
       "      <td>0.000000</td>\n",
       "      <td>False</td>\n",
       "      <td>-1</td>\n",
       "      <td>[]</td>\n",
       "    </tr>\n",
       "    <tr>\n",
       "      <th>9</th>\n",
       "      <td>529</td>\n",
       "      <td>[22, 11, 11, 11, 11, 11, 11, 11, 11, 11, 11, 1...</td>\n",
       "      <td>[8500016, 11900001, 11800001, 11700001, 116000...</td>\n",
       "      <td>[0.061141063, 3.9e-05, 3.964e-05, 1.624e-05, 2...</td>\n",
       "      <td>[0.00029941, 3.9e-05, 3.964e-05, 1.624e-05, 2....</td>\n",
       "      <td>[1001, 1001, 1001, 1001, 1001, 1001, 1001, 100...</td>\n",
       "      <td>[0, 0, 0, 0, 0, 0, 0, 0, 0, 0, 0, 0, 0, 0, 0, ...</td>\n",
       "      <td>[100000, 8500000, 8500000, 8500000, 8500000, 8...</td>\n",
       "      <td>[316013.1, 316013.1, 316013.1, 316013.1, 31601...</td>\n",
       "      <td>0.061141</td>\n",
       "      <td>False</td>\n",
       "      <td>-1</td>\n",
       "      <td>[]</td>\n",
       "    </tr>\n",
       "  </tbody>\n",
       "</table>\n",
       "</div>"
      ],
      "text/plain": [
       "    EV                                               Type  \\\n",
       "0    7                                             [2112]   \n",
       "1   33                                       [22, 22, 22]   \n",
       "2   62                                             [2112]   \n",
       "3  121                         [2112, 2112, 72032, 72032]   \n",
       "4  206       [2112, 2112, 2112, 2112, 2112, 23011, 23011]   \n",
       "5  406                                             [2112]   \n",
       "6  426                           [2112, 2112, 2112, 2112]   \n",
       "7  432  [22, 11, 11, 11, 11, 11, 11, 11, 11, 11, 11, 1...   \n",
       "8  512                                             [2112]   \n",
       "9  529  [22, 11, 11, 11, 11, 11, 11, 11, 11, 11, 11, 1...   \n",
       "\n",
       "                                                  TS  \\\n",
       "0                                           [100066]   \n",
       "1                           [400015, 400017, 400016]   \n",
       "2                                           [100009]   \n",
       "3                 [400032, 400033, 5500001, 5500002]   \n",
       "4  [100006, 100015, 100013, 100014, 100016, 80000...   \n",
       "5                                           [100029]   \n",
       "6                   [100011, 100024, 100023, 100025]   \n",
       "7  [9800010, 14000001, 13900001, 13800001, 137000...   \n",
       "8                                           [400011]   \n",
       "9  [8500016, 11900001, 11800001, 11700001, 116000...   \n",
       "\n",
       "                                                  E1  \\\n",
       "0                                    [2.0816506e-05]   \n",
       "1                  [3.0500848, 3.0500848, 3.0500848]   \n",
       "2                                        [7.5317245]   \n",
       "3   [0.0010354193, 0.0010043379, 3.1109077e-05, 0.0]   \n",
       "4  [1.8547027, 0.0021337483, 0.002318669, 0.00213...   \n",
       "5                                    [0.00036585436]   \n",
       "6  [0.13999395, 0.0010362096, 0.0010362096, 0.001...   \n",
       "7  [0.18839343, 3.786e-05, 1.802e-05, 2.762e-05, ...   \n",
       "8                                          [2.27404]   \n",
       "9  [0.061141063, 3.9e-05, 3.964e-05, 1.624e-05, 2...   \n",
       "\n",
       "                                                  D3  \\\n",
       "0                                              [0.0]   \n",
       "1                                    [0.0, 0.0, 0.0]   \n",
       "2                                              [0.0]   \n",
       "3                     [0.0, 0.0, 3.1109077e-05, 0.0]   \n",
       "4       [0.0, 0.0, 0.0, 0.0, 0.0, 0.0001849831, 0.0]   \n",
       "5                                              [0.0]   \n",
       "6                               [0.0, 0.0, 0.0, 0.0]   \n",
       "7  [0.00026663, 3.786e-05, 1.802e-05, 2.762e-05, ...   \n",
       "8                                              [0.0]   \n",
       "9  [0.00029941, 3.9e-05, 3.964e-05, 1.624e-05, 2....   \n",
       "\n",
       "                                                  DT  \\\n",
       "0                                                [1]   \n",
       "1                                 [1001, 1001, 1002]   \n",
       "2                                             [1001]   \n",
       "3                                       [1, 1, 1, 1]   \n",
       "4         [1001, 1001, 1002, 1002, 1002, 1002, 1002]   \n",
       "5                                             [1001]   \n",
       "6                           [1001, 1001, 1002, 1002]   \n",
       "7  [1001, 1001, 1001, 1001, 1001, 1001, 1001, 100...   \n",
       "8                                                [1]   \n",
       "9  [1001, 1001, 1001, 1001, 1001, 1001, 1001, 100...   \n",
       "\n",
       "                                                nCap  \\\n",
       "0                                                [0]   \n",
       "1                                          [0, 0, 0]   \n",
       "2                                                [0]   \n",
       "3                                       [0, 0, 0, 0]   \n",
       "4                              [0, 0, 0, 0, 0, 0, 0]   \n",
       "5                                                [0]   \n",
       "6                                       [0, 0, 0, 0]   \n",
       "7  [0, 0, 0, 0, 0, 0, 0, 0, 0, 0, 0, 0, 0, 0, 0, ...   \n",
       "8                                                [0]   \n",
       "9  [0, 0, 0, 0, 0, 0, 0, 0, 0, 0, 0, 0, 0, 0, 0, ...   \n",
       "\n",
       "                                                   P  \\\n",
       "0                                                [0]   \n",
       "1                           [100000, 100000, 100000]   \n",
       "2                                                [0]   \n",
       "3                   [100000, 100000, 400000, 400000]   \n",
       "4                    [0, 0, 0, 0, 0, 100000, 100000]   \n",
       "5                                                [0]   \n",
       "6                                       [0, 0, 0, 0]   \n",
       "7  [100000, 9800000, 9800000, 9800000, 9800000, 9...   \n",
       "8                                           [100000]   \n",
       "9  [100000, 8500000, 8500000, 8500000, 8500000, 8...   \n",
       "\n",
       "                                               time1      Edep   flag  \\\n",
       "0                                         [2323.463]  0.000000  False   \n",
       "1                     [8.499902, 8.499902, 8.499902]  0.000000  False   \n",
       "2                                         [20.03959]  0.000000  False   \n",
       "3         [443.67398, 487.20966, 443.6743, 443.6743]  0.000031  False   \n",
       "4  [38.72792, 141.57367, 98.24316, 141.57367, 141...  0.000185  False   \n",
       "5                                        [3060.5928]  0.000000  False   \n",
       "6         [126.609375, 350.6493, 350.6493, 350.6493]  0.000000  False   \n",
       "7  [469988.0, 469988.0, 469988.0, 469988.0, 46998...  0.188393  False   \n",
       "8                                        [19.490091]  0.000000  False   \n",
       "9  [316013.1, 316013.1, 316013.1, 316013.1, 31601...  0.061141  False   \n",
       "\n",
       "   isotope gamma  \n",
       "0       -1    []  \n",
       "1       -1    []  \n",
       "2       -1    []  \n",
       "3       -1    []  \n",
       "4       -1    []  \n",
       "5       -1    []  \n",
       "6       -1    []  \n",
       "7       -1    []  \n",
       "8       -1    []  \n",
       "9       -1    []  "
      ]
     },
     "execution_count": 12,
     "metadata": {},
     "output_type": "execute_result"
    }
   ],
   "source": [
    "k100.head(10)"
   ]
  },
  {
   "cell_type": "code",
   "execution_count": 50,
   "id": "83b023f3",
   "metadata": {},
   "outputs": [
    {
     "data": {
      "text/plain": [
       "[0.13360475, 6.6923447]"
      ]
     },
     "execution_count": 50,
     "metadata": {},
     "output_type": "execute_result"
    }
   ],
   "source": [
    "k100.iloc[23].gamma"
   ]
  },
  {
   "cell_type": "code",
   "execution_count": 30,
   "id": "7c6bfbeb",
   "metadata": {},
   "outputs": [
    {
     "data": {
      "text/plain": [
       "2469      74032\n",
       "7717      71032\n",
       "8838      71032\n",
       "11565     71032\n",
       "19054     74032\n",
       "          ...  \n",
       "975835    74032\n",
       "976119    71032\n",
       "977494    71032\n",
       "977833    74032\n",
       "978416    71032\n",
       "Name: isotope, Length: 575, dtype: int64"
      ]
     },
     "execution_count": 30,
     "metadata": {},
     "output_type": "execute_result"
    }
   ],
   "source": [
    "k100[(k100.isotope != -1) & (k100.isotope != 128053) & (k100.isotope != 24011)].isotope"
   ]
  },
  {
   "cell_type": "code",
   "execution_count": 13,
   "id": "ee531455",
   "metadata": {},
   "outputs": [
    {
     "data": {
      "text/plain": [
       "263         2.032044\n",
       "263         5.383758\n",
       "323         0.499908\n",
       "323         1.098564\n",
       "323          5.81717\n",
       "              ...   \n",
       "21203651    6.707429\n",
       "21203737    3.076632\n",
       "21203737    4.339111\n",
       "21204603    1.139477\n",
       "21204603    6.276237\n",
       "Name: gamma, Length: 186007, dtype: object"
      ]
     },
     "execution_count": 13,
     "metadata": {},
     "output_type": "execute_result"
    }
   ],
   "source": [
    "k100[k100.isotope == 71032].gamma.explode()"
   ]
  },
  {
   "cell_type": "code",
   "execution_count": 14,
   "id": "a52a86a2",
   "metadata": {},
   "outputs": [
    {
     "data": {
      "image/png": "[encoded data removed]",
      "text/plain": [
       "<Figure size 1008x432 with 1 Axes>"
      ]
     },
     "metadata": {
      "needs_background": "light"
     },
     "output_type": "display_data"
    }
   ],
   "source": [
    "fig = plt.figure(figsize=(14.0,6.0))\n",
    "Egamma = k100[k100.isotope == 71032].gamma.explode()\n",
    "plt.hist(Egamma,bins=500, range=[0,8])\n",
    "plt.xlabel('Energy [MeV]')\n",
    "plt.ylabel('counts')\n",
    "plt.title(\"Gamma energy when nCap on Ge-70\")\n",
    "   \n",
    "\n",
    "plt.show()"
   ]
  },
  {
   "cell_type": "code",
   "execution_count": 1,
   "id": "8a905d8d",
   "metadata": {},
   "outputs": [
    {
     "ename": "NameError",
     "evalue": "name 'k100' is not defined",
     "output_type": "error",
     "traceback": [
      "\u001b[0;31m---------------------------------------------------------------------------\u001b[0m",
      "\u001b[0;31mNameError\u001b[0m                                 Traceback (most recent call last)",
      "Input \u001b[0;32mIn [1]\u001b[0m, in \u001b[0;36m<cell line: 1>\u001b[0;34m()\u001b[0m\n\u001b[0;32m----> 1\u001b[0m \u001b[43mk100\u001b[49m[k100\u001b[38;5;241m.\u001b[39misotope \u001b[38;5;241m==\u001b[39m \u001b[38;5;241m71032\u001b[39m]\u001b[38;5;241m.\u001b[39mcount()\n",
      "\u001b[0;31mNameError\u001b[0m: name 'k100' is not defined"
     ]
    }
   ],
   "source": [
    "k100[k100.isotope == 71032].count()"
   ]
  },
  {
   "cell_type": "code",
   "execution_count": 9,
   "id": "92f4e920",
   "metadata": {},
   "outputs": [
    {
     "data": {
      "text/plain": [
       "367.3165137614679"
      ]
     },
     "execution_count": 9,
     "metadata": {},
     "output_type": "execute_result"
    }
   ],
   "source": [
    "80075/218"
   ]
  },
  {
   "cell_type": "code",
   "execution_count": 10,
   "id": "aca07a77",
   "metadata": {},
   "outputs": [
    {
     "data": {
      "text/plain": [
       "482.37951807228916"
      ]
     },
     "execution_count": 10,
     "metadata": {},
     "output_type": "execute_result"
    }
   ],
   "source": [
    "(80075/166)"
   ]
  },
  {
   "cell_type": "code",
   "execution_count": null,
   "id": "fc6a1194",
   "metadata": {},
   "outputs": [],
   "source": []
  },
  {
   "cell_type": "code",
   "execution_count": 11,
   "id": "cc24a02b",
   "metadata": {},
   "outputs": [
    {
     "data": {
      "image/png": "[encoded data removed]",
      "text/plain": [
       "<Figure size 1008x432 with 1 Axes>"
      ]
     },
     "metadata": {
      "needs_background": "light"
     },
     "output_type": "display_data"
    }
   ],
   "source": [
    "fig = plt.figure(figsize=(14.0,6.0))\n",
    "Eneutron = k100[k100.isotope == 71032].neutronE.explode()\n",
    "plt.hist(np.log10(Eneutron),bins=240, range=[-10,2])\n",
    "plt.xlabel('Energy [MeV]')\n",
    "plt.ylabel('counts')\n",
    "plt.title(\"neutron energy when nCap on Ge-70\")\n",
    "   \n",
    "\n",
    "plt.show()"
   ]
  },
  {
   "cell_type": "code",
   "execution_count": null,
   "id": "f41597ff",
   "metadata": {},
   "outputs": [],
   "source": []
  },
  {
   "cell_type": "code",
   "execution_count": null,
   "id": "523da986",
   "metadata": {},
   "outputs": [],
   "source": []
  },
  {
   "cell_type": "code",
   "execution_count": null,
   "id": "d9fb8308",
   "metadata": {},
   "outputs": [],
   "source": []
  },
  {
   "cell_type": "code",
   "execution_count": null,
   "id": "b26b11e2",
   "metadata": {},
   "outputs": [],
   "source": []
  },
  {
   "cell_type": "code",
   "execution_count": null,
   "id": "68759606",
   "metadata": {},
   "outputs": [],
   "source": []
  },
  {
   "cell_type": "code",
   "execution_count": null,
   "id": "6d2fcb2c",
   "metadata": {},
   "outputs": [],
   "source": []
  },
  {
   "cell_type": "code",
   "execution_count": null,
   "id": "345f228d",
   "metadata": {},
   "outputs": [],
   "source": []
  }
 ],
 "metadata": {
  "kernelspec": {
   "display_name": "Python 3 (ipykernel)",
   "language": "python",
   "name": "python3"
  },
  "language_info": {
   "codemirror_mode": {
    "name": "ipython",
    "version": 3
   },
   "file_extension": ".py",
   "mimetype": "text/x-python",
   "name": "python",
   "nbconvert_exporter": "python",
   "pygments_lexer": "ipython3",
   "version": "3.10.0"
  }
 },
 "nbformat": 4,
 "nbformat_minor": 5
}
