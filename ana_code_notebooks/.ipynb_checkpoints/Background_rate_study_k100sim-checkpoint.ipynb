{
 "cells": [
  {
   "cell_type": "code",
   "execution_count": 1,
   "id": "2bbc4fd2",
   "metadata": {},
   "outputs": [
    {
     "name": "stdout",
     "output_type": "stream",
     "text": [
      "Welcome to JupyROOT 6.26/02\n"
     ]
    }
   ],
   "source": [
    "import os, sys\n",
    "import uproot, awkward\n",
    "import ROOT as rt\n",
    "import numpy as np\n",
    "from array import array\n",
    "from mpl_toolkits import mplot3d\n",
    "import matplotlib.pyplot as plt\n",
    "import numpy as np\n",
    "from tqdm import tqdm"
   ]
  },
  {
   "cell_type": "code",
   "execution_count": 2,
   "id": "9619c9f0",
   "metadata": {},
   "outputs": [],
   "source": [
    "\n",
    "inFile_k100 = '/Users/shubhampandey/work/geant4/k100sim_anthony/sim_files/sim_300M_PuBe_sourceAndshields_boronBox_walls_shields/sim_300M_PuBe_sourceAndshields_boronBox_walls_floor_boronShield_V6H6_1inch.root'\n",
    "#inFile_k100 = '/Users/shubhampandey/work/geant4/k100sim_anthony/sim_files/sim_300M_PuBe_sourceAndshields_boronBox_walls_shields/sim_300M_PuBe_sourceAndshields_boronBox_walls_floor_boronShield_V6H6_2inch.root'\n",
    "\n",
    "file_k100 = uproot.open(inFile_k100)\n",
    "if(not file_k100):\n",
    "    print(\"could not open file: %s\"%(inFile_k100))\n",
    "    sys.exit(0)\n",
    "    \n",
    "tree_k100 = file_k100[\"simtree\"]\n",
    "\n",
    "if(not tree_k100):\n",
    "    print(\"simtree does not exist in file: %s\"%(file_k100))\n",
    "    sys.exit(0)\n",
    "\n",
    "save_ = False\n",
    "textOnTop = rt.TLatex()\n",
    "textOnTop.SetTextSize(0.05)"
   ]
  },
  {
   "cell_type": "markdown",
   "id": "8e7e121d",
   "metadata": {},
   "source": [
    "### livetime : 21.8 seconds for 50 M events"
   ]
  },
  {
   "cell_type": "code",
   "execution_count": 3,
   "id": "ae02eb7a",
   "metadata": {},
   "outputs": [
    {
     "name": "stdout",
     "output_type": "stream",
     "text": [
      "Total livetime =  130.8 seconds\n"
     ]
    }
   ],
   "source": [
    "livetime = 300 * (21.8/50)\n",
    "print (\"Total livetime = \",livetime,\"seconds\")"
   ]
  },
  {
   "cell_type": "raw",
   "id": "13d49433",
   "metadata": {
    "scrolled": true
   },
   "source": [
    "tree_k100.show()\n",
    "#save_ = True"
   ]
  },
  {
   "cell_type": "code",
   "execution_count": 4,
   "id": "1f73c778",
   "metadata": {},
   "outputs": [],
   "source": [
    "# From k100sim\n",
    "EV = tree_k100[\"EV\"].array(library=\"np\")\n",
    "P = tree_k100[\"P\"].array(library=\"np\")\n",
    "Type = tree_k100[\"Type\"].array(library=\"np\")\n",
    "DT = tree_k100[\"DT\"].array(library=\"np\")\n",
    "TS = tree_k100[\"TS\"].array(library=\"np\")\n",
    "E1 = tree_k100[\"E1\"].array(library=\"np\")\n",
    "D3 = tree_k100[\"D3\"].array(library=\"np\")\n",
    "X1 = tree_k100[\"X1\"].array(library=\"np\")\n",
    "Y1 = tree_k100[\"Y1\"].array(library=\"np\")\n",
    "Z1 = tree_k100[\"Z1\"].array(library=\"np\")\n",
    "X3 = tree_k100[\"X3\"].array(library=\"np\")\n",
    "Y3 = tree_k100[\"Y3\"].array(library=\"np\")\n",
    "Z3 = tree_k100[\"Z3\"].array(library=\"np\")\n",
    "time1 = tree_k100[\"time1\"].array(library=\"np\")\n",
    "time3 = tree_k100[\"time3\"].array(library=\"np\")\n",
    "nCap = tree_k100[\"nCap\"].array(library=\"np\")\n",
    "\n",
    "# canvas\n",
    "c = rt.TCanvas(\"c\",\"c\",800,600)"
   ]
  },
  {
   "cell_type": "code",
   "execution_count": 5,
   "id": "23d1040a",
   "metadata": {},
   "outputs": [
    {
     "name": "stderr",
     "output_type": "stream",
     "text": [
      "100%|██████████████████████████████████████████████████████████████████████████████████████████████████████████████████████████████| 1637037/1637037 [00:14<00:00, 112719.91it/s]\n"
     ]
    },
    {
     "name": "stdout",
     "output_type": "stream",
     "text": [
      "Total events = 1637037\n",
      "Events with no registered neutrons in detector = 1222973\n",
      "Events with registered neutrons in NaI+Si = 414064\n",
      "Total neutron capture events = 59751 out of 414064 events.\n",
      "Total neutron capture events in Si = 20 out of 59751 events.\n",
      "Total neutron capture events in NaI = 59731 out of 59751 events.\n"
     ]
    }
   ],
   "source": [
    "total_capture_events = 0\n",
    "capture_in_si = 0\n",
    "capture_in_NaI = 0\n",
    "events_with_no_neutron = []\n",
    "events_with_neutron = []\n",
    "events_with_nCap_in_NaI = []\n",
    "events_with_nCap_in_Si = []\n",
    "debug_count = 0\n",
    "\n",
    "\n",
    "for i in tqdm(range(len(EV))):\n",
    "    tracks = TS[i]/100000\n",
    "    tracks = tracks.astype('int32')\n",
    "    neutron_tracks = tracks[Type[i] == 2112]\n",
    "    neutron_parents = P[i][Type[i] == 2112]\n",
    "    if(len(neutron_tracks) == 0): # No neutron in the event\n",
    "        events_with_no_neutron.append(i)\n",
    "        continue\n",
    "        \n",
    "    unique_tracks, indices = np.unique(neutron_tracks, return_index=True)\n",
    "    \n",
    "    events_with_neutron.append(i) \n",
    "    neutron_energy = E1[i][Type[i] == 2112]\n",
    "    neutron_parents = P[i][Type[i] == 2112]\n",
    "    neutron_DT = DT[i][Type[i] == 2112]\n",
    "    neutron_D3 = D3[i][Type[i] == 2112]\n",
    "    neutron_X1 = X1[i][Type[i] == 2112]\n",
    "    neutron_Y1 = Y1[i][Type[i] == 2112]\n",
    "    neutron_Z1 = Z1[i][Type[i] == 2112]\n",
    "    neutron_X3 = X3[i][Type[i] == 2112]\n",
    "    neutron_Y3 = Y3[i][Type[i] == 2112]\n",
    "    neutron_Z3 = Z3[i][Type[i] == 2112]\n",
    "    neutron_capture = nCap[i][Type[i] == 2112]\n",
    "    neutron_tracks = TS[i][Type[i] == 2112]\n",
    "    parent_neutron_en = (neutron_energy)[0]\n",
    "    parent_neutron_X3 = (neutron_X3)[0]\n",
    "    parent_neutron_Y3 = (neutron_Y3)[0]\n",
    "    parent_neutron_Z3 = (neutron_Z3)[0]\n",
    "    parent_neutron_DT = (neutron_DT)[0]\n",
    "    \n",
    "    nCap_Si_neutron_track = -1\n",
    "    nCap_Si = False\n",
    "    for i_ncap in (np.where(neutron_capture == 1))[0]:\n",
    "        Edep_ncap = neutron_D3[i_ncap]\n",
    "        if(Edep_ncap > 0.):\n",
    "            print(\"non zero Edep %f on nCap by neutron for event = %d\"%(Edep_ncap,i))\n",
    "        total_capture_events += 1\n",
    "        dx = neutron_X3[i_ncap] - neutron_X1[i_ncap]\n",
    "        dy = neutron_Y3[i_ncap] - neutron_Y1[i_ncap]\n",
    "        dz = neutron_Z3[i_ncap] - neutron_Z1[i_ncap]\n",
    "       \n",
    "        if(neutron_DT[i_ncap] == 1):\n",
    "            capture_in_si += 1\n",
    "            events_with_nCap_in_Si.append(i)\n",
    "            nCap_Si = True\n",
    "            nCap_Si_neutron_track = int(neutron_tracks[i_ncap]/100000)*100000\n",
    "        else:\n",
    "            capture_in_NaI += 1\n",
    "            events_with_nCap_in_NaI.append(i)\n",
    "    \n",
    "    if(nCap_Si):\n",
    "        esum_gammas = 0.\n",
    "        n_gammas = 0\n",
    "        \n",
    "        for j,capture in enumerate(nCap[i]):\n",
    "            track_temp = int(TS[i][j]/100000)*100000\n",
    "            step_temp = TS[i][j] - (track_temp)\n",
    "            if(P[i][j] == nCap_Si_neutron_track and step_temp == 1):\n",
    "                if(Type[i][j] == 22):\n",
    "                    esum_gammas += E1[i][j]\n",
    "                    n_gammas += 1\n",
    "\n",
    "        if(debug_count < 10 and n_gammas >= 9):\n",
    "            print(\"%d photons, %f MeV Edep for event %d\"%(n_gammas, esum_gammas, i))\n",
    "            debug_count += 1\n",
    "    \n",
    "                \n",
    "    \n",
    "        \n",
    "print (\"Total events = %d\"%(len(EV)))\n",
    "print (\"Events with no registered neutrons in detector = %d\"%(len(events_with_no_neutron)))\n",
    "print (\"Events with registered neutrons in NaI+Si = %d\"%(len(events_with_neutron)))\n",
    "print (\"Total neutron capture events = %d out of %d events.\"%(total_capture_events,len(events_with_neutron)))\n",
    "print (\"Total neutron capture events in Si = %d out of %d events.\"%(capture_in_si,total_capture_events))\n",
    "print (\"Total neutron capture events in NaI = %d out of %d events.\"%(capture_in_NaI,total_capture_events))"
   ]
  },
  {
   "cell_type": "code",
   "execution_count": 6,
   "id": "2f175431",
   "metadata": {},
   "outputs": [
    {
     "name": "stdout",
     "output_type": "stream",
     "text": [
      "nCap rate in NaI = 456.66 Hz\n",
      "nCap rate in Si = 0.15 Hz\n"
     ]
    }
   ],
   "source": [
    "nCap_NaI_rate = float(capture_in_NaI)/livetime\n",
    "nCap_Si_rate = float(capture_in_si)/livetime\n",
    "print (\"nCap rate in NaI = %0.2f Hz\"%(nCap_NaI_rate))\n",
    "print (\"nCap rate in Si = %0.2f Hz\"%(nCap_Si_rate))"
   ]
  },
  {
   "cell_type": "markdown",
   "id": "a6d23759",
   "metadata": {},
   "source": [
    "## Background study in NaI"
   ]
  },
  {
   "cell_type": "code",
   "execution_count": 7,
   "id": "c9974f40",
   "metadata": {},
   "outputs": [
    {
     "name": "stderr",
     "output_type": "stream",
     "text": [
      "  0%|                                                                                                                                    | 850/1637037 [00:00<06:20, 4305.69it/s]"
     ]
    },
    {
     "name": "stdout",
     "output_type": "stream",
     "text": [
      "event number with Edep_NaI > 10 MeV = 11, nCap-Nai? 0\n",
      "event number with Edep_NaI > 10 MeV = 64, nCap-Nai? 1\n",
      "event number with Edep_NaI > 10 MeV = 65, nCap-Nai? 1\n",
      "event number with Edep_NaI > 10 MeV = 158, nCap-Nai? 1\n",
      "event number with Edep_NaI > 10 MeV = 205, nCap-Nai? 1\n",
      "event number with Edep_NaI > 10 MeV = 374, nCap-Nai? 1\n",
      "event number with Edep_NaI > 10 MeV = 385, nCap-Nai? 1\n",
      "event number with Edep_NaI > 10 MeV = 623, nCap-Nai? 1\n"
     ]
    },
    {
     "name": "stderr",
     "output_type": "stream",
     "text": [
      "  0%|▏                                                                                                                                  | 1758/1637037 [00:00<06:07, 4444.85it/s]"
     ]
    },
    {
     "name": "stdout",
     "output_type": "stream",
     "text": [
      "event number with Edep_NaI > 10 MeV = 996, nCap-Nai? 0\n",
      "event number with Edep_NaI > 10 MeV = 1225, nCap-Nai? 1\n"
     ]
    },
    {
     "name": "stderr",
     "output_type": "stream",
     "text": [
      "100%|████████████████████████████████████████████████████████████████████████████████████████████████████████████████████████████████| 1637037/1637037 [06:09<00:00, 4425.09it/s]\n"
     ]
    },
    {
     "name": "stdout",
     "output_type": "stream",
     "text": [
      "Events with neutrons passing through NaI = 412959\n",
      "Events with neutrons passing through NaI and nCap = 59730\n",
      "nCap in NaI event fraction = 14.46%\n",
      "Total event count with Edep NaI > 0. = 1305035\n",
      "Total Event count between 3 and 10 MeV = 102324\n",
      "Total Event count for (3 < Edep <  10 MeV) && (Edep_tile < 10 MeV) = 101390\n",
      "Ncap-in-NaI Event count for (3 < Edep <  10 MeV) && (Edep_tile < 10 MeV) = 33447\n",
      "\n",
      "\n",
      "Total event rate in NaI trigger window = 775.15 Hz\n"
     ]
    },
    {
     "name": "stderr",
     "output_type": "stream",
     "text": [
      "Warning in <TROOT::Append>: Replacing existing TH1: h_neutron_NaI (Potential memory leak).\n"
     ]
    }
   ],
   "source": [
    "#background study\n",
    "\n",
    "h_k100sim_bkg_si_Edep = rt.TH1F(\"h_k100sim_bkg_si_Edep\",\"Energy deposited in Si on non-nCap events\",500,0,50)\n",
    "h_k100sim_bkg_si_Edep.GetXaxis().SetTitle(\"Energy [MeV]\")\n",
    "\n",
    "h_k100sim_bkg_si_Edep_withTimeCut = rt.TH1F(\"h_k100sim_bkg_si_Edep_withTimeCut\",\"Energy deposited in Si on non-nCap events < 1ms\",500,0,50)\n",
    "h_k100sim_bkg_si_Edep_withTimeCut.GetXaxis().SetTitle(\"Energy [MeV]\")\n",
    "\n",
    "h_k100sim_bkg_NaI_Edep = rt.TH1F(\"h_k100sim_bkg_NaI_Edep\",\"Energy deposited in NaI on non-nCap events\",500,0,50)\n",
    "h_k100sim_bkg_NaI_Edep.GetXaxis().SetTitle(\"Energy [MeV]\")\n",
    "\n",
    "h_k100sim_bkg_NaI_Edep_withTimeCut = rt.TH1F(\"h_k100sim_bkg_NaI_Edep_withTimeCut\",\"Energy deposited in NaI on non-nCap events  < 1ms\",500,0,50)\n",
    "h_k100sim_bkg_NaI_Edep_withTimeCut.GetXaxis().SetTitle(\"Energy [MeV]\")\n",
    "\n",
    "h_k100sim_bkg_NaI_Edep_NaiNcap = rt.TH1F(\"h_k100sim_bkg_NaI_Edep_NaiNcap\",\"Energy deposited in NaI on non-nCap events (Ncap in NaI)\",500,0,50)\n",
    "h_k100sim_bkg_NaI_Edep_NaiNcap.GetXaxis().SetTitle(\"Energy [MeV]\")\n",
    "\n",
    "h_tile_multiplicity = rt.TH1F(\"h_tile_multiplicity\",\"Numbers of tiles with non-zero Edep\",25,0,25)\n",
    "h_tile_multiplicity.GetXaxis().SetTitle(\"Multiplicity\")\n",
    "\n",
    "h_tile_energy = rt.TH1F(\"h_tile_energy\",\"Edep in individual tiles\",2500,0,50)\n",
    "h_tile_energy.GetXaxis().SetTitle(\"Energy [MeV]\")\n",
    "\n",
    "h_neutron_NaI = rt.TH1F(\"h_neutron_NaI\",\"Energy of neutrons flux in NaI\",1500,-10,5)\n",
    "h_neutron_NaI.GetXaxis().SetTitle(\"log10(Neutron [MeV])\")\n",
    "\n",
    "h_neutron_NaI_nCap = rt.TH1F(\"h_neutron_NaI\",\"Energy of neutrons flux in NaI on nCap\",1500,-10,5)\n",
    "h_neutron_NaI_nCap.GetXaxis().SetTitle(\"log10(Neutron [MeV])\")\n",
    "\n",
    "h_edep_NaI_time = rt.TH1F(\"h_edep_NaI_time\",\"time3\",355,-0.5,35)\n",
    "h_edep_NaI_time.GetXaxis().SetTitle(\"log10(time3 [ns])\")\n",
    "\n",
    "\n",
    "h_k100sim_bkg_NaI_Edep_withTimeCut_vs_tile_multiplicity = rt.TH2F(\"h_k100sim_bkg_NaI_Edep_withTimeCut_vs_tile_multiplicity\",\"Nai Edep vs multiplicity\",500,0,50,25,0,25)\n",
    "h_k100sim_bkg_NaI_Edep_withTimeCut_vs_tile_multiplicity.GetXaxis().SetTitle(\"Energy [MeV]\")\n",
    "h_k100sim_bkg_NaI_Edep_withTimeCut_vs_tile_multiplicity.GetYaxis().SetTitle(\"Multiplicity\")\n",
    "\n",
    "\n",
    "debug_count = 0\n",
    "Edep_tiles = np.zeros(23)\n",
    "\n",
    "total_event_count = 0\n",
    "event_count_3_10MeV = 0\n",
    "total_event_count_in_trig_window = 0\n",
    "ncap_nai_event_count_in_trig_window = 0\n",
    "\n",
    "neutron_in_NaI = 0\n",
    "neutron_in_NaI_nCap = 0\n",
    "\n",
    "events_with_NaI_Edep_10MeV_or_more = []\n",
    "\n",
    "for i in tqdm(range(len(EV))):\n",
    "#     if(i > 100000):\n",
    "#         break\n",
    "    ncap_si = False\n",
    "    edep_si = 0.\n",
    "    edep_nai = 0.\n",
    "    edep_si_tCut = 0.\n",
    "    edep_nai_tCut = 0.\n",
    "    ncap_nai = False\n",
    "    Edep_tiles_temp = np.zeros(23)\n",
    "    neutron_energy = 0.\n",
    "    neutron_energy_nCap = 0.\n",
    "    \n",
    "#     tracks = TS[i]/100000\n",
    "#     tracks = tracks.astype('int32')\n",
    "#     neutron_tracks = tracks[(Type[i] == 2112)]\n",
    "#     neutron_energy = E1[i][Type[i] == 2112]\n",
    "#     neutron_DT = DT[i][Type[i] == 2112]\n",
    "#     neutron_capture = nCap[i][Type[i] == 2112]\n",
    "#     unique_tracks, indices = np.unique(neutron_tracks, return_index=True)\n",
    "    \n",
    "#     neutron_energy = neutron_energy[indices]\n",
    "#     neutron_capture = neutron_capture[indices]\n",
    "#     neutron_tracks = neutron_tracks[indices]\n",
    "    \n",
    "    first_step_in_detector = True\n",
    "    TS_debug = -1\n",
    "    for j,capture in enumerate(nCap[i]):\n",
    "        if(capture == True and DT[i][j] == 1):\n",
    "            ncap_si = True\n",
    "            break\n",
    "        if(Type[i][j] == 2112 and DT[i][j] != 1 and first_step_in_detector):\n",
    "            neutron_energy = E1[i][j]\n",
    "            TS_debug = TS[i][j]\n",
    "            first_step_in_detector = False\n",
    "            \n",
    "#             track = int(TS[i][j]/100000)\n",
    "#             step = TS[i][j] - track\n",
    "#             if(step == 1):\n",
    "#                 neutron_energy = E1[i][j]\n",
    "                \n",
    "        if(capture == True and DT[i][j] != 1):\n",
    "            ncap_nai = True\n",
    "#             if(TS[i][j] != TS_debug):\n",
    "#                 print(\"something is worng with neuton in NaI @ event %d\"%(i))\n",
    "#                 sys.exit(0)\n",
    "            if(Type[i][j] != 2112):\n",
    "                print(\"Neutron capture without neutron?? Check event = %d\"%(i))\n",
    "                sys.exit()\n",
    "            else:\n",
    "                neutron_energy_nCap = E1[i][j]\n",
    "            \n",
    "        if(DT[i][j] == 1):\n",
    "            edep_si += D3[i][j]\n",
    "            if(time3[i][j] < 1.e6 or True):\n",
    "                edep_si_tCut += D3[i][j]\n",
    "        else:\n",
    "            edep_nai += D3[i][j]\n",
    "            h_edep_NaI_time.Fill(np.log10(time3[i][j]))\n",
    "            if(time3[i][j] < 1.e6 or True):\n",
    "                edep_nai_tCut += D3[i][j]\n",
    "                if(DT[i][j] > 2000):\n",
    "                    Edep_tiles_temp[DT[i][j] - 2000 - 1] += D3[i][j]\n",
    "                else:\n",
    "                    Edep_tiles_temp[DT[i][j] - 1000 - 1 + 20] += D3[i][j]\n",
    "                \n",
    "    if(ncap_si):\n",
    "        continue\n",
    "    \n",
    "    h_k100sim_bkg_si_Edep.Fill(edep_si)\n",
    "    h_k100sim_bkg_NaI_Edep.Fill(edep_nai)\n",
    "    h_k100sim_bkg_si_Edep_withTimeCut.Fill(edep_si_tCut)\n",
    "    if(edep_nai_tCut > 0.):\n",
    "        h_k100sim_bkg_NaI_Edep_withTimeCut.Fill(edep_nai_tCut)\n",
    "        if(ncap_nai):\n",
    "            h_k100sim_bkg_NaI_Edep_NaiNcap.Fill(edep_nai_tCut)\n",
    "        \n",
    "    Edep_tiles += Edep_tiles_temp\n",
    "    \n",
    "    \n",
    "    \n",
    "    n_tiles = np.count_nonzero(Edep_tiles_temp)\n",
    "    h_tile_multiplicity.Fill(n_tiles)\n",
    "    h_k100sim_bkg_NaI_Edep_withTimeCut_vs_tile_multiplicity.Fill(edep_nai_tCut,n_tiles)\n",
    "    \n",
    "    tile_10MeV_veto = False\n",
    "    energy_in_trig_window = 0.  # This is the energy sum of panels with energies between 3 and 10 MeV each panel\n",
    "    for j,energy in enumerate(Edep_tiles_temp):\n",
    "        h_tile_energy.Fill(energy)\n",
    "        if(energy > 10.):\n",
    "            tile_10MeV_veto = True\n",
    "        if(energy > 3. and energy < 10. ):\n",
    "            energy_in_trig_window += energy\n",
    "    \n",
    "    if(edep_nai > 0.):\n",
    "        total_event_count += 1\n",
    "        \n",
    "    if(energy_in_trig_window > .0):\n",
    "        event_count_3_10MeV += 1\n",
    "        if(not tile_10MeV_veto):\n",
    "            total_event_count_in_trig_window += 1\n",
    "            if(ncap_nai):\n",
    "                ncap_nai_event_count_in_trig_window += 1\n",
    "    \n",
    "    if(neutron_energy > 0.):\n",
    "        h_neutron_NaI.Fill(np.log10(neutron_energy))\n",
    "        neutron_in_NaI += 1\n",
    "    if(neutron_energy_nCap > 0.):\n",
    "        h_neutron_NaI_nCap.Fill(np.log10(neutron_energy_nCap))\n",
    "        neutron_in_NaI_nCap += 1\n",
    "        \n",
    "\n",
    "       \n",
    "    if(edep_nai > 10.):\n",
    "        events_with_NaI_Edep_10MeV_or_more.append(i)\n",
    "        if(debug_count < 10):\n",
    "            print(\"event number with Edep_NaI > 10 MeV = %d, nCap-Nai? %d\"%(i,ncap_nai))\n",
    "            debug_count += 1\n",
    "    if(edep_nai_tCut > 1. and debug_count < 2 and False):\n",
    "        for j,energy in enumerate(Edep_tiles_temp):\n",
    "            print (\"Tile : Edep :: %d : %f\"%(j,energy))\n",
    "        print(\"Event : total esum :: %d : %f \"%(i,edep_nai_tCut))\n",
    "        debug_count += 1\n",
    "\n",
    "\n",
    "print (\"Events with neutrons passing through NaI = %d\"%(neutron_in_NaI))\n",
    "print (\"Events with neutrons passing through NaI and nCap = %d\"%(neutron_in_NaI_nCap))\n",
    "print (\"nCap in NaI event fraction = %0.2f%%\"%(100*neutron_in_NaI_nCap/neutron_in_NaI))\n",
    "print (\"Total event count with Edep NaI > 0. = %d\"%(total_event_count))\n",
    "print (\"Total Event count between 3 and 10 MeV = %d\"%(event_count_3_10MeV))\n",
    "\n",
    "print (\"Total Event count for (3 < Edep <  10 MeV) && (Edep_tile < 10 MeV) = %d\"%(total_event_count_in_trig_window))\n",
    "print (\"Ncap-in-NaI Event count for (3 < Edep <  10 MeV) && (Edep_tile < 10 MeV) = %d\"%(ncap_nai_event_count_in_trig_window))\n",
    "\n",
    "print(\"\\n\\nTotal event rate in NaI trigger window = %0.2f Hz\"%(total_event_count_in_trig_window/livetime))"
   ]
  },
  {
   "cell_type": "code",
   "execution_count": null,
   "id": "03380fb9",
   "metadata": {},
   "outputs": [],
   "source": [
    "print(\"Total event rate in trigger window = %0.2f Hz\"%(float(total_event_count_in_trig_window)/livetime))"
   ]
  },
  {
   "cell_type": "code",
   "execution_count": 8,
   "id": "69363624",
   "metadata": {},
   "outputs": [
    {
     "data": {
      "image/png": "[encoded data removed]",
      "text/plain": [
       "<IPython.core.display.Image object>"
      ]
     },
     "metadata": {},
     "output_type": "display_data"
    }
   ],
   "source": [
    "#%jsroot on\n",
    "rt.gPad.SetLogy()\n",
    "h_k100sim_bkg_si_Edep.Draw()\n",
    "c.Draw()\n",
    "if(save_):\n",
    "    c.SaveAs(\"./background_study/h_k100sim_bkg_si_Edep.png\")"
   ]
  },
  {
   "cell_type": "code",
   "execution_count": 9,
   "id": "e4ccbd9e",
   "metadata": {},
   "outputs": [
    {
     "data": {
      "image/png": "[encoded data removed]",
      "text/plain": [
       "<IPython.core.display.Image object>"
      ]
     },
     "metadata": {},
     "output_type": "display_data"
    }
   ],
   "source": [
    "h_k100sim_bkg_NaI_Edep.SetLineColor(rt.kBlue)\n",
    "h_k100sim_bkg_NaI_Edep.Draw()\n",
    "textOnTop.SetTextSize(0.04)\n",
    "textOnTop.SetTextColor(rt.kBlue)\n",
    "textOnTop.DrawLatexNDC(0.3,0.8,\"#bf{Edep in NaI: non-nCap-Si}\")\n",
    "c.Draw()"
   ]
  },
  {
   "cell_type": "code",
   "execution_count": 10,
   "id": "5a74bb7c",
   "metadata": {},
   "outputs": [
    {
     "data": {
      "image/png": "[encoded data removed]",
      "text/plain": [
       "<IPython.core.display.Image object>"
      ]
     },
     "metadata": {},
     "output_type": "display_data"
    }
   ],
   "source": [
    "h_edep_NaI_time.SetLineColor(rt.kBlue)\n",
    "h_edep_NaI_time.Draw()\n",
    "textOnTop.SetTextSize(0.04)\n",
    "textOnTop.SetTextColor(rt.kBlue)\n",
    "textOnTop.DrawLatexNDC(0.3,0.8,\"#bf{time info of G4step in NaI}\")\n",
    "line = rt.TLine(6,0,6,h_edep_NaI_time.GetMaximum()*1.5)\n",
    "line.SetLineColor(rt.kRed)\n",
    "line.SetLineStyle(2)\n",
    "line.SetLineWidth(2)\n",
    "line.Draw()\n",
    "c.Draw()"
   ]
  },
  {
   "cell_type": "code",
   "execution_count": null,
   "id": "a2646559",
   "metadata": {},
   "outputs": [],
   "source": [
    "h_k100sim_bkg_NaI_Edep.SetLineColor(rt.kBlue)\n",
    "h_k100sim_bkg_NaI_Edep.Draw()\n",
    "h_k100sim_bkg_NaI_Edep_withTimeCut.SetLineColor(rt.kRed)\n",
    "h_k100sim_bkg_NaI_Edep_withTimeCut.SetLineStyle(2)\n",
    "h_k100sim_bkg_NaI_Edep_withTimeCut.SetLineWidth(2)\n",
    "#h_k100sim_bkg_NaI_Edep_withTimeCut.Draw(\"sames\")\n",
    "textOnTop.SetTextSize(0.04)\n",
    "textOnTop.SetTextColor(rt.kBlue)\n",
    "textOnTop.DrawLatexNDC(0.3,0.8,\"#bf{Edep in NaI: no timing cut}\")\n",
    "textOnTop.SetTextColor(rt.kRed)\n",
    "textOnTop.DrawLatexNDC(0.3,0.75,\"#bf{Edep in NaI: time3 < 1 ms}\")\n",
    "c.Draw()\n",
    "if(save_):\n",
    "    c.SaveAs(\"./background_study/h_k100sim_bkg_NaI_Edep_with_withoutTime_cut.png\")\n"
   ]
  },
  {
   "cell_type": "code",
   "execution_count": null,
   "id": "b1989416",
   "metadata": {},
   "outputs": [],
   "source": [
    "rt.gPad.SetLogy()\n",
    "h_k100sim_bkg_NaI_Edep_withTimeCut.SetLineColor(rt.kBlue)\n",
    "h_k100sim_bkg_NaI_Edep_withTimeCut.SetLineStyle(1)\n",
    "h_k100sim_bkg_NaI_Edep_withTimeCut.SetLineWidth(1)\n",
    "h_k100sim_bkg_NaI_Edep_withTimeCut.Draw()\n",
    "h_k100sim_bkg_NaI_Edep_NaiNcap.SetLineColor(rt.kRed)\n",
    "h_k100sim_bkg_NaI_Edep_NaiNcap.SetLineStyle(2)\n",
    "h_k100sim_bkg_NaI_Edep_NaiNcap.SetLineWidth(2)\n",
    "h_k100sim_bkg_NaI_Edep_NaiNcap.Draw(\"sames\")\n",
    "\n",
    "\n",
    "textOnTop.SetTextColor(rt.kBlue)\n",
    "textOnTop.DrawLatexNDC(0.3,0.75,\"#bf{Edep in NaI: time3 < 1 ms}\")\n",
    "textOnTop.SetTextColor(rt.kRed)\n",
    "textOnTop.DrawLatexNDC(0.3,0.70,\"#bf{Edep in NaI: (time3 < 1 ms) and (nCap in NaI)}\")\n",
    "\n",
    "c.Draw()\n",
    "if(save_):\n",
    "    c.SaveAs(\"./background_study/h_k100sim_bkg_NaI_Edep_comparison_nCapInNaI.png\")\n"
   ]
  },
  {
   "cell_type": "code",
   "execution_count": null,
   "id": "b36f9587",
   "metadata": {
    "scrolled": true
   },
   "outputs": [],
   "source": [
    "h_neutron_NaI.SetLineColor(rt.kBlue)\n",
    "h_neutron_NaI.SetLineStyle(1)\n",
    "h_neutron_NaI.SetLineWidth(1)\n",
    "h_neutron_NaI.Draw()\n",
    "h_neutron_NaI_nCap.SetLineColor(rt.kRed)\n",
    "h_neutron_NaI_nCap.SetLineStyle(1)\n",
    "h_neutron_NaI_nCap.SetLineWidth(1)\n",
    "h_neutron_NaI_nCap.Draw(\"sames\")\n",
    "\n",
    "textOnTop.SetTextSize(0.04)\n",
    "textOnTop.SetTextColor(rt.kBlue)\n",
    "textOnTop.DrawLatexNDC(0.28,0.85,\"#bf{Energy of neutrons entering NaI}\")\n",
    "textOnTop.SetTextColor(rt.kRed)\n",
    "textOnTop.DrawLatexNDC(0.28,0.80,\"#bf{Energy of neutrons on nCap in NaI}\")\n",
    "rt.gPad.SetLogy(0)\n",
    "c.Draw()\n",
    "if(save_):\n",
    "    c.SaveAs(\"./background_study/NaI/h_neutron_NaI_and_nCap_comparison.png\")\n"
   ]
  },
  {
   "cell_type": "code",
   "execution_count": null,
   "id": "f3b6ecf2",
   "metadata": {},
   "outputs": [],
   "source": [
    "outFile = rt.TFile(\"outFile.root\",\"recreate\")\n",
    "outFile.cd()\n",
    "h_neutron_NaI.Write()\n",
    "h_neutron_NaI_nCap.Write()\n",
    "outFile.Close()"
   ]
  },
  {
   "cell_type": "code",
   "execution_count": null,
   "id": "112b13fc",
   "metadata": {},
   "outputs": [],
   "source": [
    "h_tile_multiplicity.SetLineColor(rt.kBlue)\n",
    "h_tile_multiplicity.Draw()\n",
    "rt.gPad.SetLogy(0)\n",
    "c.Draw()\n",
    "if(save_):\n",
    "    c.SaveAs(\"./background_study/h_tile_multiplicity.png\")\n"
   ]
  },
  {
   "cell_type": "code",
   "execution_count": null,
   "id": "c824a49f",
   "metadata": {},
   "outputs": [],
   "source": [
    "h_k100sim_bkg_NaI_Edep_withTimeCut_vs_tile_multiplicity.Draw(\"colz\")\n",
    "rt.gPad.SetLogy(0)\n",
    "c.Draw()\n",
    "c.SaveAs(\"./background_study/h_Edep_vs_multi.png\")"
   ]
  },
  {
   "cell_type": "code",
   "execution_count": null,
   "id": "48d2511d",
   "metadata": {},
   "outputs": [],
   "source": [
    "h_tile_energy.SetLineColor(rt.kBlue)\n",
    "h_tile_energy.Draw()\n",
    "rt.gPad.SetLogy()\n",
    "c.Draw()\n",
    "if(save_):\n",
    "    c.SaveAs(\"./background_study/h_tile_energy.png\")"
   ]
  },
  {
   "cell_type": "code",
   "execution_count": null,
   "id": "93b7d254",
   "metadata": {},
   "outputs": [],
   "source": []
  },
  {
   "cell_type": "markdown",
   "id": "f8bfdbb6",
   "metadata": {},
   "source": [
    "## For Debug"
   ]
  },
  {
   "cell_type": "raw",
   "id": "ac0f9070",
   "metadata": {},
   "source": [
    "i = 10980\n",
    "total_D3 = 0.0\n",
    "for j in range(len(TS[i])):\n",
    "    if(D3[i][j] > 0 or True):\n",
    "        print(\"i:Type:TS:P:X:Y:Z:DT:E1:D3:GT:nCap :: %d : %d : %d : %d : %0.2f : %0.2f : %0.2f : %d : %0.3f : %0.3f : %d : %d\"%(j,Type[i][j],TS[i][j],P[i][j],X1[i][j],Y1[i][j],Z1[i][j],DT[i][j],E1[i][j],D3[i][j],time3[i][j],nCap[i][j]))\n",
    "        total_D3 += D3[i][j]\n",
    "\n",
    "\n",
    "   \n",
    "tracks = TS[i]/100000\n",
    "tracks = tracks.astype('int32')\n",
    "neutron_tracks = tracks[Type[i] == 2112]\n",
    "neutron_parents = P[i][Type[i] == 2112]\n",
    "#neutron_tracks = neutron_tracks[neutron_parents == 0]\n",
    "neutron_energy = E1[i][Type[i] == 2112]\n",
    "neutron_DT = DT[i][Type[i] == 2112]\n",
    "\n",
    "neutron_X1 = X1[i][Type[i] == 2112]\n",
    "neutron_Y1 = Y1[i][Type[i] == 2112]\n",
    "neutron_Z1 = Z1[i][Type[i] == 2112]\n",
    "neutron_capture = nCap[i][Type[i] == 2112]\n",
    "\n",
    "unique_tracks, indices = np.unique(neutron_tracks, return_index=True)\n",
    "\n",
    "neutron_energy = neutron_energy[indices]\n",
    "neutron_X1 = neutron_X1[indices]\n",
    "neutron_Y1 = neutron_Y1[indices]\n",
    "neutron_Z1 = neutron_Z1[indices]\n",
    "neutron_capture = neutron_capture[indices]\n",
    "\n",
    "print(Type[i])\n",
    "print(P[i])\n",
    "print(D3[i])\n",
    "print(neutron_capture)\n",
    "print(neutron_energy)\n",
    "print(\"Total energy deposit = %f\"%(total_D3))"
   ]
  },
  {
   "cell_type": "code",
   "execution_count": null,
   "id": "e9323aa0",
   "metadata": {},
   "outputs": [],
   "source": []
  }
 ],
 "metadata": {
  "kernelspec": {
   "display_name": "Python 3 (ipykernel)",
   "language": "python",
   "name": "python3"
  },
  "language_info": {
   "codemirror_mode": {
    "name": "ipython",
    "version": 3
   },
   "file_extension": ".py",
   "mimetype": "text/x-python",
   "name": "python",
   "nbconvert_exporter": "python",
   "pygments_lexer": "ipython3",
   "version": "3.10.0"
  }
 },
 "nbformat": 4,
 "nbformat_minor": 5
}
