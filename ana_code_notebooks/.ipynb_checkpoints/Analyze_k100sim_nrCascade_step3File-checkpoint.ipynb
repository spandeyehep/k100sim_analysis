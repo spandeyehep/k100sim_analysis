{
 "cells": [
  {
   "cell_type": "code",
   "execution_count": null,
   "id": "85c65d99",
   "metadata": {},
   "outputs": [],
   "source": [
    "import os, sys\n",
    "import uproot, awkward\n",
    "import ROOT as rt\n",
    "import numpy as np\n",
    "from array import array\n",
    "from mpl_toolkits import mplot3d\n",
    "import matplotlib.pyplot as plt\n",
    "import numpy as np\n",
    "from tqdm import tqdm"
   ]
  },
  {
   "cell_type": "code",
   "execution_count": null,
   "id": "6e49cae7",
   "metadata": {},
   "outputs": [],
   "source": [
    "#inFile_k100 = \"/Users/shubhampandey/work/k100sim_analysis/combine_k100sim_nrCascade/python_code/yolo.root\"\n",
    "inFile_k100 = \"/Users/shubhampandey/work/geant4/k100sim_anthony/sim_files/sim_100k_nCap_cylinder/sim_100k_nCap_cylinde_nrCascade_step3.root\"\n",
    "file_k100 = uproot.open(inFile_k100)\n",
    "if(not file_k100):\n",
    "    print(\"could not open file: %s\"%(inFile_k100))\n",
    "    sys.exit(0)\n",
    "    \n",
    "tree_k100 = file_k100[\"simtree\"]\n",
    "\n",
    "if(not tree_k100):\n",
    "    print(\"simtree does not exist in file: %s\"%(file_k100))\n",
    "    sys.exit(0)\n",
    "\n",
    "# From k100sim\n",
    "eventid = tree_k100[\"EV\"].array(library=\"np\")\n",
    "nCap = tree_k100[\"nCap\"].array(library=\"np\")\n",
    "P = tree_k100[\"P\"].array(library=\"np\")\n",
    "Type = tree_k100[\"Type\"].array(library=\"np\")\n",
    "TS = tree_k100[\"TS\"].array(library=\"np\")\n",
    "E1 = tree_k100[\"E1\"].array(library=\"np\")\n",
    "D3 = tree_k100[\"D3\"].array(library=\"np\")\n",
    "X1 = tree_k100[\"X1\"].array(library=\"np\")\n",
    "Y1 = tree_k100[\"Y1\"].array(library=\"np\")\n",
    "Z1 = tree_k100[\"Z1\"].array(library=\"np\")\n",
    "\n",
    "\n",
    "\n",
    "# From nrCascadeSim\n",
    "# I = tree_k100[\"I\"].array(library=\"np\")\n",
    "# nI = tree_k100[\"nI\"].array(library=\"np\")\n",
    "# Ei = tree_k100[\"Ei\"].array(library=\"np\")\n",
    "# n = tree_k100[\"n\"].array(library=\"np\")\n",
    "# Eg = tree_k100[\"Eg\"].array(library=\"np\")\n"
   ]
  },
  {
   "cell_type": "code",
   "execution_count": null,
   "id": "c71fa156",
   "metadata": {},
   "outputs": [],
   "source": [
    "# nrCascadeSim\n",
    "h_nrCascSim_Nphotons_all = rt.TH1F(\"h_nrCascSim_Nphotons_all\",\"Number of photons from nrCascadeSim\",10,0,10)\n",
    "h_nrCascSim_Nphotons_all.GetXaxis().SetTitle(\"Number of photons\")\n",
    "h_nrCascSim_energy_photons = rt.TH1F(\"h_nrCascSim_energy_photons\",\"Energy of photons generated in nrCascadeSim\",100,0,10)\n",
    "h_nrCascSim_energy_photons.GetXaxis().SetTitle(\"Energy [MeV]\")\n",
    "h_nrCascSim_2D_energy_photons_nCap = rt.TH2F(\"h_nrCascSim_2D_energy_photons_nCap\",\"nrCascadeSim photon energies with only two photons\",50,0,10,50,0,10)\n",
    "h_nrCascSim_2D_energy_photons_nCap.GetXaxis().SetTitle(\"Energy [MeV]\")\n",
    "h_nrCascSim_2D_energy_photons_nCap.GetYaxis().SetTitle(\"Energy [MeV]\")\n",
    "h_nrCascSim_Esum_photons = rt.TH1F(\"h_nrCascSim_Esum_photons\",\"Energy sum of photons generated in nrCascadeSim\",100,0,10)\n",
    "h_nrCascSim_Esum_photons.GetXaxis().SetTitle(\"Energy [MeV]\")\n",
    "h_ionization_energy = rt.TH1F(\"h_ionization_energy\",\"Total ionization energy from nrCascadeSim\",5000,0,500)\n",
    "h_ionization_energy.GetXaxis().SetTitle(\"Energy [eV]\")\n",
    "\n",
    "# k100 sim\n",
    "h_k100sim_Nphotons_all = rt.TH1F(\"h_Nphotons_all\",\"Number of photons from k100Sim\",50,0,50)\n",
    "h_k100sim_Nphotons_all.GetXaxis().SetTitle(\"Number of photons\")\n",
    "h_k100sim_energy_photons_all = rt.TH1F(\"h_energy_photons_all\",\"Energy of all photons registered in detector (all interactions)\",100,0,10)\n",
    "h_k100sim_energy_photons_all.GetXaxis().SetTitle(\"Energy [MeV]\")\n",
    "h_k100sim_energy_photons_nCap = rt.TH1F(\"h_energy_photons_nCap\",\"Energy of all photons registered in detector on nCap\",100,0,10)\n",
    "h_k100sim_energy_photons_nCap.GetXaxis().SetTitle(\"Energy [MeV]\")\n",
    "h_k100sim_energy_photons_nCap_parent = rt.TH1F(\"h_energy_photons_nCap_parent\",\"Energies of photons originating from nCap (input from nrCascade)\",100,0,10)\n",
    "h_k100sim_energy_photons_nCap_parent.GetXaxis().SetTitle(\"Energy [MeV]\")\n",
    "\n",
    "\n",
    "h_k100sim_nrCascadeSim_energy_deposited = rt.TH2F(\"h_k100sim_nrCascadeSim_energy_deposited\",\"energy deposited: nrCascadeSim vs k100Sim\",5,0,10,300,0,300)\n",
    "h_k100sim_nrCascadeSim_energy_deposited.GetXaxis().SetTitle(\"k100Sim energy deposited [MeV]\")\n",
    "h_k100sim_nrCascadeSim_energy_deposited.GetYaxis().SetTitle(\"nrCascadeSim ionization energy [eV]\")\n",
    "\n",
    "# h_k100sim_2D_energy_photons_nCap_parent = rt.TH2F(\"h_2D_energy_photons_nCap_parent\",\"h_2D_energy_photons_nCap_parent\",100,0,10,100,0,10)\n",
    "# h_k100sim_2D_energy_photons_nCap_parent.GetXaxis().SetTitle(\"Energy [MeV]\")\n",
    "# h_k100sim_2D_energy_photons_nCap_parent.GetYaxis().SetTitle(\"Energy [MeV]\")\n",
    "\n",
    "# canvas\n",
    "c = rt.TCanvas(\"c\",\"c\",800,600)"
   ]
  },
  {
   "cell_type": "code",
   "execution_count": null,
   "id": "f7946445",
   "metadata": {},
   "outputs": [],
   "source": [
    "tree_k100.show()"
   ]
  },
  {
   "cell_type": "code",
   "execution_count": null,
   "id": "d9836ae3",
   "metadata": {},
   "outputs": [],
   "source": [
    "len(eventid)\n",
    "ncap_event = 0\n",
    "for i in tqdm(range(len(eventid))) :\n",
    "    for j in (range(len(nCap[i]))):\n",
    "        if(nCap[i][j]):\n",
    "            ncap_event += 1\n",
    "            \n",
    "\n",
    "print(\"Total nCap events = \",ncap_event)"
   ]
  },
  {
   "cell_type": "code",
   "execution_count": null,
   "id": "155350ef",
   "metadata": {},
   "outputs": [],
   "source": [
    "nCap[2]"
   ]
  },
  {
   "cell_type": "code",
   "execution_count": null,
   "id": "e3e6486c",
   "metadata": {},
   "outputs": [],
   "source": [
    "#tree_k100.show()\n",
    "nevnt = 2\n",
    "type(TS)\n",
    "tracks = TS[nevnt]/100000\n",
    "# #type(tracks)\n",
    "tracks = tracks.astype('int32')\n",
    "photon_tracks = tracks[Type[nevnt] == 22]\n",
    "photon_energy = E1[nevnt][Type[nevnt] == 22]\n",
    "photon_parents = P[nevnt][Type[nevnt] == 22]\n",
    "unique_tracks, indices = np.unique(photon_tracks, return_index=True)\n",
    "print (\"TS:\")\n",
    "print (TS[nevnt])\n",
    "print (\"Tracks:\")\n",
    "print (tracks)\n",
    "print (\"Type:\")\n",
    "print (Type[nevnt])\n",
    "print (\"photon tracks:\")\n",
    "print (photon_tracks)\n",
    "print (\"photon energy:\")\n",
    "print (photon_energy)\n",
    "print (\"Unique photon tracks:\")\n",
    "print (unique_tracks)\n",
    "print (\"Indices of unique photon tracks:\")\n",
    "print (indices)\n",
    "print (\"Energy of unique photon tracks:\")\n",
    "print (photon_energy[indices])\n",
    "print (\"parents of unique photon tracks:\")\n",
    "print (photon_parents[indices])\n",
    "print (\"Energy of parent photon:\")\n",
    "print (photon_energy[photon_parents == 0])"
   ]
  },
  {
   "cell_type": "code",
   "execution_count": null,
   "id": "fa374049",
   "metadata": {},
   "outputs": [],
   "source": [
    "# len(TS[108])\n",
    "# len(tracks)\n",
    "len(unique_tracks)\n",
    "(Type[108][indices])\n",
    "#indices[Type[108] == 22]"
   ]
  },
  {
   "cell_type": "code",
   "execution_count": null,
   "id": "6a17f6ba",
   "metadata": {
    "scrolled": true
   },
   "outputs": [],
   "source": [
    "#tree_k100[\"nCap_flag\"].array(library=\"np\")\n",
    "#tree_k100[\"I\"][tree_k100[\"nCap_flag\"] == 1]\n",
    "#I[108]\n",
    "len(eventid[nCap_flag == 1])"
   ]
  },
  {
   "cell_type": "code",
   "execution_count": null,
   "id": "f07e8300",
   "metadata": {},
   "outputs": [],
   "source": [
    "# k100_sim \n",
    "\n",
    "for i in range(len(eventid)):\n",
    "    tracks = TS[i]/100000\n",
    "    # #type(tracks)\n",
    "    tracks = tracks.astype('int32')\n",
    "    photon_tracks = tracks[Type[i] == 22]\n",
    "    photon_energy = E1[i][Type[i] == 22]\n",
    "    photon_parents = P[i][Type[i] == 22]\n",
    "    \n",
    "    unique_tracks, indices = np.unique(photon_tracks, return_index=True)\n",
    "    photon_parents = photon_parents[indices]\n",
    "    h_k100sim_Nphotons_all.Fill(len(unique_tracks))\n",
    "    \n",
    "    for energy in photon_energy[indices]:\n",
    "        h_k100sim_energy_photons_all.Fill(energy)\n",
    "    Edep = 0.0\n",
    "    if(True):\n",
    "        for j,energy in enumerate(photon_energy[indices]):\n",
    "            h_k100sim_energy_photons_nCap.Fill(energy)\n",
    "            if(photon_parents[j] == 0):\n",
    "                h_k100sim_energy_photons_nCap_parent.Fill(energy)\n",
    "        \n",
    "            \n",
    "        \n",
    "    "
   ]
  },
  {
   "cell_type": "code",
   "execution_count": null,
   "id": "849bdc4e",
   "metadata": {},
   "outputs": [],
   "source": [
    "h_k100sim_Nphotons_all.Draw()\n",
    "rt.gPad.SetLogy()\n",
    "c.Draw()"
   ]
  },
  {
   "cell_type": "code",
   "execution_count": null,
   "id": "4b946a44",
   "metadata": {},
   "outputs": [],
   "source": [
    "#h_energy_photons_all.Draw()\n",
    "h_k100sim_energy_photons_all.Draw()\n",
    "\n",
    "c.Draw()"
   ]
  },
  {
   "cell_type": "code",
   "execution_count": null,
   "id": "b01e0c4f",
   "metadata": {},
   "outputs": [],
   "source": [
    "h_k100sim_energy_photons_nCap.Draw()\n",
    "c.Draw()"
   ]
  },
  {
   "cell_type": "code",
   "execution_count": null,
   "id": "11fd1ea3",
   "metadata": {},
   "outputs": [],
   "source": [
    "h_k100sim_energy_photons_nCap_parent.Draw()\n",
    "c.Draw()"
   ]
  },
  {
   "cell_type": "code",
   "execution_count": null,
   "id": "e03f1819",
   "metadata": {},
   "outputs": [],
   "source": [
    "fig = plt.figure(figsize=(16.0,8.0))\n",
    "for i in eventid:\n",
    "    if(not nCap_flag[i]):\n",
    "        continue\n",
    "    #print (\"hello\")\n",
    "    Eion = 0.\n",
    "    for energy in Ei[i]:\n",
    "        Eion += energy \n",
    "    Edep = 0.\n",
    "    for energy in D3[i]:\n",
    "        Edep += energy\n",
    "    plt.scatter(Edep,Eion,c=\"blue\",marker='o',s=100.0)\n",
    "    h_k100sim_nrCascadeSim_energy_deposited.Fill(Edep,Eion)\n",
    "plt.xlabel(\"k100Sim energy deposited [MeV]\")\n",
    "plt.ylabel(\"nrCascadeSim energy deposited [eV]\")"
   ]
  },
  {
   "cell_type": "code",
   "execution_count": null,
   "id": "561016ce",
   "metadata": {},
   "outputs": [],
   "source": [
    "h_k100sim_nrCascadeSim_energy_deposited.Draw()\n",
    "rt.gPad.SetLogy(0)\n",
    "c.Draw()"
   ]
  },
  {
   "cell_type": "code",
   "execution_count": null,
   "id": "42ba8ed8",
   "metadata": {},
   "outputs": [],
   "source": []
  }
 ],
 "metadata": {
  "kernelspec": {
   "display_name": "Python 3 (ipykernel)",
   "language": "python",
   "name": "python3"
  },
  "language_info": {
   "codemirror_mode": {
    "name": "ipython",
    "version": 3
   },
   "file_extension": ".py",
   "mimetype": "text/x-python",
   "name": "python",
   "nbconvert_exporter": "python",
   "pygments_lexer": "ipython3",
   "version": "3.10.0"
  }
 },
 "nbformat": 4,
 "nbformat_minor": 5
}
