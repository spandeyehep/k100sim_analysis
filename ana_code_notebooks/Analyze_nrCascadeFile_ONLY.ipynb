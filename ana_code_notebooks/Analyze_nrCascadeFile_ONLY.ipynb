{
 "cells": [
  {
   "cell_type": "code",
   "execution_count": 1,
   "id": "2bbc4fd2",
   "metadata": {},
   "outputs": [
    {
     "name": "stdout",
     "output_type": "stream",
     "text": [
      "Welcome to JupyROOT 6.26/02\n"
     ]
    }
   ],
   "source": [
    "import os, sys\n",
    "import uproot, awkward\n",
    "import ROOT as rt\n",
    "import numpy as np\n",
    "from array import array\n",
    "from mpl_toolkits import mplot3d\n",
    "import matplotlib.pyplot as plt\n",
    "import numpy as np\n",
    "from tqdm import tqdm\n",
    "import pandas as pd"
   ]
  },
  {
   "cell_type": "code",
   "execution_count": 2,
   "id": "9619c9f0",
   "metadata": {},
   "outputs": [],
   "source": [
    "inFile_k100 = '/Users/shubhampandey/work/NuclearCascade/nrcascade_10k_randomized.root'\n",
    "#inFile_k100 = '/Users/shubhampandey/work/geant4/k100sim_anthony/sim_files/sim_300M_PuBe_sourceAndshields_boronBox_walls_shields/sim_300M_PuBe_sourceAndshields_boronBox_walls_floor_boronShield_V6H6_2inch.root'\n",
    "\n",
    "file_k100 = uproot.open(inFile_k100)\n",
    "if(not file_k100):\n",
    "    print(\"could not open file: %s\"%(inFile_k100))\n",
    "    sys.exit(0)\n",
    "    \n",
    "tree_k100 = file_k100[\"cascade\"]\n",
    "\n",
    "if(not tree_k100):\n",
    "    print(\"cascade does not exist in file: %s\"%(file_k100))\n",
    "    sys.exit(0)\n",
    "\n",
    "save_ = False"
   ]
  },
  {
   "cell_type": "markdown",
   "id": "8e7e121d",
   "metadata": {},
   "source": [
    "### livetime : 21.8 seconds for 50 M events"
   ]
  },
  {
   "cell_type": "raw",
   "id": "691e184d",
   "metadata": {},
   "source": [
    "livetime = 300 * (21.8/50)\n",
    "print (\"Total livetime = \",livetime,\"seconds\")"
   ]
  },
  {
   "cell_type": "code",
   "execution_count": 3,
   "id": "1f73c778",
   "metadata": {},
   "outputs": [],
   "source": [
    "\n",
    "# From nrCascadeSim\n",
    "I = tree_k100[\"I\"].array(library=\"np\")\n",
    "nI = tree_k100[\"nI\"].array(library=\"np\")\n",
    "Ei = tree_k100[\"Ei\"].array(library=\"np\")\n",
    "n = tree_k100[\"n\"].array(library=\"np\")\n",
    "Eg = tree_k100[\"Eg\"].array(library=\"np\")\n"
   ]
  },
  {
   "cell_type": "code",
   "execution_count": 5,
   "id": "667c8874",
   "metadata": {},
   "outputs": [
    {
     "data": {
      "text/html": [
       "<div>\n",
       "<style scoped>\n",
       "    .dataframe tbody tr th:only-of-type {\n",
       "        vertical-align: middle;\n",
       "    }\n",
       "\n",
       "    .dataframe tbody tr th {\n",
       "        vertical-align: top;\n",
       "    }\n",
       "\n",
       "    .dataframe thead th {\n",
       "        text-align: right;\n",
       "    }\n",
       "</style>\n",
       "<table border=\"1\" class=\"dataframe\">\n",
       "  <thead>\n",
       "    <tr style=\"text-align: right;\">\n",
       "      <th></th>\n",
       "      <th>I</th>\n",
       "      <th>nI</th>\n",
       "      <th>Ei</th>\n",
       "      <th>n</th>\n",
       "      <th>Eg</th>\n",
       "    </tr>\n",
       "  </thead>\n",
       "  <tbody>\n",
       "    <tr>\n",
       "      <th>0</th>\n",
       "      <td>[0.0, 37.0, 0.0]</td>\n",
       "      <td>3</td>\n",
       "      <td>[0.2548036623088379, 162.69738691133136, 3.842...</td>\n",
       "      <td>3</td>\n",
       "      <td>[3.5391700000000004, 3.6610200000000006, 1.27337]</td>\n",
       "    </tr>\n",
       "    <tr>\n",
       "      <th>1</th>\n",
       "      <td>[0.0, 62.0]</td>\n",
       "      <td>2</td>\n",
       "      <td>[0.6621179978031435, 229.44491608734793]</td>\n",
       "      <td>2</td>\n",
       "      <td>[3.5391700000000004, 4.9343900000000005]</td>\n",
       "    </tr>\n",
       "    <tr>\n",
       "      <th>2</th>\n",
       "      <td>[0.0, 20.0, 2.0]</td>\n",
       "      <td>3</td>\n",
       "      <td>[1.1920971352382495, 81.3000776748369, 11.1692...</td>\n",
       "      <td>3</td>\n",
       "      <td>[3.5391700000000004, 3.6610200000000006, 1.27337]</td>\n",
       "    </tr>\n",
       "    <tr>\n",
       "      <th>3</th>\n",
       "      <td>[0.0, 68.0]</td>\n",
       "      <td>2</td>\n",
       "      <td>[0.046781459286796334, 251.39197778782102]</td>\n",
       "      <td>2</td>\n",
       "      <td>[2.0929800000000007, 6.38058]</td>\n",
       "    </tr>\n",
       "    <tr>\n",
       "      <th>4</th>\n",
       "      <td>[0.0, 26.0]</td>\n",
       "      <td>2</td>\n",
       "      <td>[0.06860521014838383, 103.6100441900601]</td>\n",
       "      <td>2</td>\n",
       "      <td>[3.5391700000000004, 4.9343900000000005]</td>\n",
       "    </tr>\n",
       "  </tbody>\n",
       "</table>\n",
       "</div>"
      ],
      "text/plain": [
       "                  I  nI                                                 Ei  n  \\\n",
       "0  [0.0, 37.0, 0.0]   3  [0.2548036623088379, 162.69738691133136, 3.842...  3   \n",
       "1       [0.0, 62.0]   2           [0.6621179978031435, 229.44491608734793]  2   \n",
       "2  [0.0, 20.0, 2.0]   3  [1.1920971352382495, 81.3000776748369, 11.1692...  3   \n",
       "3       [0.0, 68.0]   2         [0.046781459286796334, 251.39197778782102]  2   \n",
       "4       [0.0, 26.0]   2           [0.06860521014838383, 103.6100441900601]  2   \n",
       "\n",
       "                                                  Eg  \n",
       "0  [3.5391700000000004, 3.6610200000000006, 1.27337]  \n",
       "1           [3.5391700000000004, 4.9343900000000005]  \n",
       "2  [3.5391700000000004, 3.6610200000000006, 1.27337]  \n",
       "3                      [2.0929800000000007, 6.38058]  \n",
       "4           [3.5391700000000004, 4.9343900000000005]  "
      ]
     },
     "execution_count": 5,
     "metadata": {},
     "output_type": "execute_result"
    }
   ],
   "source": [
    "df = pd.DataFrame( {'I' : I,\n",
    "                  'nI' : nI,\n",
    "                  'Ei' : Ei,\n",
    "                  'n' : n,\n",
    "                    'Eg' : Eg}\n",
    "                 )\n",
    "df.head(5)"
   ]
  },
  {
   "cell_type": "code",
   "execution_count": 9,
   "id": "e9323aa0",
   "metadata": {},
   "outputs": [
    {
     "name": "stderr",
     "output_type": "stream",
     "text": [
      "Warning in <TROOT::Append>: Replacing existing TH1: h_Egamma (Potential memory leak).\n"
     ]
    },
    {
     "data": {
      "image/png": "[encoded data removed]",
      "text/plain": [
       "<IPython.core.display.Image object>"
      ]
     },
     "metadata": {},
     "output_type": "display_data"
    }
   ],
   "source": [
    "c = rt.TCanvas()\n",
    "h_Egamma = rt.TH1F('h_Egamma','Energy of each photon',150,0,15)\n",
    "h_Egamma.GetXaxis().SetTitle('Energy [MeV]')\n",
    "\n",
    "for gammas in Eg:\n",
    "    for gamma in gammas:\n",
    "        h_Egamma.Fill(gamma)\n",
    "\n",
    "h_Egamma.Draw()\n",
    "#rt.gPad.SetLogy()\n",
    "c.Draw()\n",
    "        "
   ]
  },
  {
   "cell_type": "code",
   "execution_count": 10,
   "id": "39c7ad71",
   "metadata": {},
   "outputs": [
    {
     "data": {
      "image/png": "[encoded data removed]",
      "text/plain": [
       "<IPython.core.display.Image object>"
      ]
     },
     "metadata": {},
     "output_type": "display_data"
    }
   ],
   "source": [
    "c = rt.TCanvas()\n",
    "h_Egamma_sum = rt.TH1F('h_Egamma_sum','Energy sum of photons',200,0,20)\n",
    "h_Egamma_sum.GetXaxis().SetTitle('Energy [MeV]')\n",
    "\n",
    "for gammas in Eg:\n",
    "    h_Egamma_sum.Fill(np.sum(gammas))\n",
    "\n",
    "h_Egamma_sum.Draw()\n",
    "#rt.gPad.SetLogy()\n",
    "c.Draw()"
   ]
  },
  {
   "cell_type": "code",
   "execution_count": 12,
   "id": "496f5c69",
   "metadata": {},
   "outputs": [
    {
     "name": "stderr",
     "output_type": "stream",
     "text": [
      "Warning in <TROOT::Append>: Replacing existing TH1: h_Egamma_sum (Potential memory leak).\n"
     ]
    },
    {
     "data": {
      "image/png": "[encoded data removed]",
      "text/plain": [
       "<IPython.core.display.Image object>"
      ]
     },
     "metadata": {},
     "output_type": "display_data"
    }
   ],
   "source": [
    "gamma_direct_to_grnd_st = df[df.n == 1].Eg\n",
    "c = rt.TCanvas()\n",
    "h_Egamma_grnd = rt.TH1F('h_Egamma_sum','Energy photons direct to ground state',150,0,15)\n",
    "h_Egamma_grnd.GetXaxis().SetTitle('Energy [MeV]')\n",
    "\n",
    "for gamma in gamma_direct_to_grnd_st:\n",
    "    h_Egamma_grnd.Fill(gamma)\n",
    "\n",
    "h_Egamma_grnd.Draw()\n",
    "c.Draw()"
   ]
  },
  {
   "cell_type": "code",
   "execution_count": 13,
   "id": "398aa440",
   "metadata": {},
   "outputs": [
    {
     "data": {
      "text/plain": [
       "(9550,)"
      ]
     },
     "execution_count": 13,
     "metadata": {},
     "output_type": "execute_result"
    }
   ],
   "source": [
    "Ei.shape"
   ]
  },
  {
   "cell_type": "code",
   "execution_count": 17,
   "id": "7853ed81",
   "metadata": {},
   "outputs": [
    {
     "name": "stderr",
     "output_type": "stream",
     "text": [
      "Warning in <TROOT::Append>: Replacing existing TH1: h_Ei_sum (Potential memory leak).\n"
     ]
    },
    {
     "data": {
      "image/png": "[encoded data removed]",
      "text/plain": [
       "<IPython.core.display.Image object>"
      ]
     },
     "metadata": {},
     "output_type": "display_data"
    }
   ],
   "source": [
    "c = rt.TCanvas()\n",
    "h_Ei_sum = rt.TH1F('h_Ei_sum','Total ionization energy deposited in Si',100,0,500)\n",
    "h_Ei_sum.GetXaxis().SetTitle('Energy [eV]')\n",
    "\n",
    "for E in Ei:\n",
    "    h_Ei_sum.Fill(np.sum(E))\n",
    "\n",
    "h_Ei_sum.Draw()\n",
    "#rt.gPad.SetLogy()\n",
    "c.Draw()"
   ]
  },
  {
   "cell_type": "code",
   "execution_count": null,
   "id": "c45a12d4",
   "metadata": {},
   "outputs": [],
   "source": []
  }
 ],
 "metadata": {
  "kernelspec": {
   "display_name": "Python 3 (ipykernel)",
   "language": "python",
   "name": "python3"
  },
  "language_info": {
   "codemirror_mode": {
    "name": "ipython",
    "version": 3
   },
   "file_extension": ".py",
   "mimetype": "text/x-python",
   "name": "python",
   "nbconvert_exporter": "python",
   "pygments_lexer": "ipython3",
   "version": "3.10.0"
  }
 },
 "nbformat": 4,
 "nbformat_minor": 5
}
