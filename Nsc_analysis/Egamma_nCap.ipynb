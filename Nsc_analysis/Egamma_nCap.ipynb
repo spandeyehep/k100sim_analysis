{
 "cells": [
  {
   "cell_type": "code",
   "execution_count": 1,
   "id": "d2a2eb9f",
   "metadata": {},
   "outputs": [
    {
     "name": "stdout",
     "output_type": "stream",
     "text": [
      "Welcome to JupyROOT 6.26/02\n"
     ]
    }
   ],
   "source": [
    "import os, sys\n",
    "import uproot, awkward\n",
    "import ROOT as rt\n",
    "import numpy as np\n",
    "from array import array\n",
    "from mpl_toolkits import mplot3d\n",
    "import matplotlib.pyplot as plt\n",
    "import numpy as np\n",
    "from tqdm import tqdm\n",
    "import pandas as pd"
   ]
  },
  {
   "cell_type": "code",
   "execution_count": 2,
   "id": "7d253b5f",
   "metadata": {},
   "outputs": [],
   "source": [
    "save_dir = \"with_shield\"\n",
    "save_ = False\n"
   ]
  },
  {
   "cell_type": "code",
   "execution_count": 3,
   "id": "90d42a0e",
   "metadata": {},
   "outputs": [
    {
     "name": "stdout",
     "output_type": "stream",
     "text": [
      "Loaded file: /Users/shubhampandey/work/geant4/k100sim_anthony/sim_files/sim_500k_events_boron_shield_1inch_v1.root\n"
     ]
    },
    {
     "data": {
      "text/html": [
       "<div>\n",
       "<style scoped>\n",
       "    .dataframe tbody tr th:only-of-type {\n",
       "        vertical-align: middle;\n",
       "    }\n",
       "\n",
       "    .dataframe tbody tr th {\n",
       "        vertical-align: top;\n",
       "    }\n",
       "\n",
       "    .dataframe thead th {\n",
       "        text-align: right;\n",
       "    }\n",
       "</style>\n",
       "<table border=\"1\" class=\"dataframe\">\n",
       "  <thead>\n",
       "    <tr style=\"text-align: right;\">\n",
       "      <th></th>\n",
       "      <th>EV</th>\n",
       "      <th>Type</th>\n",
       "      <th>E1</th>\n",
       "      <th>D3</th>\n",
       "      <th>DT</th>\n",
       "      <th>time1</th>\n",
       "      <th>nCap</th>\n",
       "      <th>Edep</th>\n",
       "      <th>flag</th>\n",
       "    </tr>\n",
       "  </thead>\n",
       "  <tbody>\n",
       "    <tr>\n",
       "      <th>0</th>\n",
       "      <td>323</td>\n",
       "      <td>[-12]</td>\n",
       "      <td>[0.5110124]</td>\n",
       "      <td>[0.0]</td>\n",
       "      <td>[2020]</td>\n",
       "      <td>[9.368899e+21]</td>\n",
       "      <td>[0]</td>\n",
       "      <td>0.000000</td>\n",
       "      <td>False</td>\n",
       "    </tr>\n",
       "    <tr>\n",
       "      <th>1</th>\n",
       "      <td>447</td>\n",
       "      <td>[22, 22, 22, 11, 11, 11, 11, 11, 11, 11, 11, 1...</td>\n",
       "      <td>[0.49732816, 0.3512036, 0.1496337, 3.9e-05, 1....</td>\n",
       "      <td>[0.0, 0.0, 0.00026759, 3.9e-05, 1.802e-05, 2.7...</td>\n",
       "      <td>[1001, 1001, 1001, 1001, 1001, 1001, 1001, 100...</td>\n",
       "      <td>[10000.18, 10000.232, 10001.538, 10001.538, 10...</td>\n",
       "      <td>[0, 0, 0, 0, 0, 0, 0, 0, 0, 0, 0, 0, 0, 0, 0, ...</td>\n",
       "      <td>0.295758</td>\n",
       "      <td>False</td>\n",
       "    </tr>\n",
       "    <tr>\n",
       "      <th>2</th>\n",
       "      <td>489</td>\n",
       "      <td>[22, 11, 11, 11, 11, 11, 11, 11, 11, 11, 11, 1...</td>\n",
       "      <td>[0.22274192, 1.624e-05, 2.94e-05, 2.826e-05, 2...</td>\n",
       "      <td>[0.00049451, 1.624e-05, 2.94e-05, 2.826e-05, 2...</td>\n",
       "      <td>[2008, 2008, 2008, 2008, 2008, 2008, 2008, 200...</td>\n",
       "      <td>[633620.0, 633620.0, 633620.0, 633620.0, 63362...</td>\n",
       "      <td>[0, 0, 0, 0, 0, 0, 0, 0, 0, 0, 0, 0, 0, 0, 0, ...</td>\n",
       "      <td>0.222742</td>\n",
       "      <td>False</td>\n",
       "    </tr>\n",
       "    <tr>\n",
       "      <th>3</th>\n",
       "      <td>688</td>\n",
       "      <td>[22, 11, 11, 11, 11, 11, 11, 11, 11, 11, 11, 1...</td>\n",
       "      <td>[0.065606065, 3.786e-05, 3.964e-05, 3.786e-05,...</td>\n",
       "      <td>[0.00022692, 3.786e-05, 3.964e-05, 3.786e-05, ...</td>\n",
       "      <td>[1002, 1002, 1002, 1002, 1002, 1002, 1002, 100...</td>\n",
       "      <td>[167226.11, 167226.11, 167226.11, 167226.11, 1...</td>\n",
       "      <td>[0, 0, 0, 0, 0, 0, 0, 0, 0, 0, 0, 0, 0, 0, 0, ...</td>\n",
       "      <td>0.065606</td>\n",
       "      <td>False</td>\n",
       "    </tr>\n",
       "    <tr>\n",
       "      <th>4</th>\n",
       "      <td>864</td>\n",
       "      <td>[-12, -12, -12, -12, -12, -12, -12, -12, -12]</td>\n",
       "      <td>[0.6425657, 0.6425657, 0.6425657, 0.6425657, 0...</td>\n",
       "      <td>[0.0, 0.0, 0.0, 0.0, 0.0, 0.0, 0.0, 0.0, 0.0]</td>\n",
       "      <td>[2020, 2019, 2018, 2017, 2016, 2015, 2014, 201...</td>\n",
       "      <td>[3.6183456e+21, 3.6183456e+21, 3.6183456e+21, ...</td>\n",
       "      <td>[0, 0, 0, 0, 0, 0, 0, 0, 0]</td>\n",
       "      <td>0.000000</td>\n",
       "      <td>False</td>\n",
       "    </tr>\n",
       "  </tbody>\n",
       "</table>\n",
       "</div>"
      ],
      "text/plain": [
       "    EV                                               Type  \\\n",
       "0  323                                              [-12]   \n",
       "1  447  [22, 22, 22, 11, 11, 11, 11, 11, 11, 11, 11, 1...   \n",
       "2  489  [22, 11, 11, 11, 11, 11, 11, 11, 11, 11, 11, 1...   \n",
       "3  688  [22, 11, 11, 11, 11, 11, 11, 11, 11, 11, 11, 1...   \n",
       "4  864      [-12, -12, -12, -12, -12, -12, -12, -12, -12]   \n",
       "\n",
       "                                                  E1  \\\n",
       "0                                        [0.5110124]   \n",
       "1  [0.49732816, 0.3512036, 0.1496337, 3.9e-05, 1....   \n",
       "2  [0.22274192, 1.624e-05, 2.94e-05, 2.826e-05, 2...   \n",
       "3  [0.065606065, 3.786e-05, 3.964e-05, 3.786e-05,...   \n",
       "4  [0.6425657, 0.6425657, 0.6425657, 0.6425657, 0...   \n",
       "\n",
       "                                                  D3  \\\n",
       "0                                              [0.0]   \n",
       "1  [0.0, 0.0, 0.00026759, 3.9e-05, 1.802e-05, 2.7...   \n",
       "2  [0.00049451, 1.624e-05, 2.94e-05, 2.826e-05, 2...   \n",
       "3  [0.00022692, 3.786e-05, 3.964e-05, 3.786e-05, ...   \n",
       "4      [0.0, 0.0, 0.0, 0.0, 0.0, 0.0, 0.0, 0.0, 0.0]   \n",
       "\n",
       "                                                  DT  \\\n",
       "0                                             [2020]   \n",
       "1  [1001, 1001, 1001, 1001, 1001, 1001, 1001, 100...   \n",
       "2  [2008, 2008, 2008, 2008, 2008, 2008, 2008, 200...   \n",
       "3  [1002, 1002, 1002, 1002, 1002, 1002, 1002, 100...   \n",
       "4  [2020, 2019, 2018, 2017, 2016, 2015, 2014, 201...   \n",
       "\n",
       "                                               time1  \\\n",
       "0                                     [9.368899e+21]   \n",
       "1  [10000.18, 10000.232, 10001.538, 10001.538, 10...   \n",
       "2  [633620.0, 633620.0, 633620.0, 633620.0, 63362...   \n",
       "3  [167226.11, 167226.11, 167226.11, 167226.11, 1...   \n",
       "4  [3.6183456e+21, 3.6183456e+21, 3.6183456e+21, ...   \n",
       "\n",
       "                                                nCap      Edep   flag  \n",
       "0                                                [0]  0.000000  False  \n",
       "1  [0, 0, 0, 0, 0, 0, 0, 0, 0, 0, 0, 0, 0, 0, 0, ...  0.295758  False  \n",
       "2  [0, 0, 0, 0, 0, 0, 0, 0, 0, 0, 0, 0, 0, 0, 0, ...  0.222742  False  \n",
       "3  [0, 0, 0, 0, 0, 0, 0, 0, 0, 0, 0, 0, 0, 0, 0, ...  0.065606  False  \n",
       "4                        [0, 0, 0, 0, 0, 0, 0, 0, 0]  0.000000  False  "
      ]
     },
     "execution_count": 3,
     "metadata": {},
     "output_type": "execute_result"
    }
   ],
   "source": [
    "dir_ = '/Users/shubhampandey/work/geant4/k100sim_anthony/sim_files'\n",
    "if(save_dir == \"no_shield\"):\n",
    "    inFile_k100 = '%s/sim_500k_events_no_shield.root'%(dir_)\n",
    "elif(save_dir == \"with_shield\"):\n",
    "    inFile_k100 = '%s/sim_500k_events_boron_shield_1inch_v1.root'%(dir_)\n",
    "else:\n",
    "    print(\"Incorrect option\")\n",
    "\n",
    "file_k100 = uproot.open(inFile_k100)\n",
    "if(not file_k100):\n",
    "    print(\"could not open file: %s\"%(inFile_k100))\n",
    "    sys.exit(0)\n",
    "else:\n",
    "    print(\"Loaded file: %s\"%(inFile_k100))   \n",
    "    \n",
    "tree_k100 = file_k100[\"simtree\"]\n",
    "\n",
    "if(not tree_k100):\n",
    "    print(\"simtree does not exist in file: %s\"%(file_k100))\n",
    "    sys.exit(0)\n",
    "\n",
    "EV = tree_k100[\"EV\"].array(library=\"np\")\n",
    "EV = EV - 1\n",
    "Type = tree_k100[\"Type\"].array(library=\"np\")\n",
    "E1 = tree_k100[\"E1\"].array(library=\"np\")\n",
    "D3 = tree_k100[\"D3\"].array(library=\"np\")\n",
    "DT = tree_k100[\"DT\"].array(library=\"np\")\n",
    "time1 = tree_k100[\"time1\"].array(library=\"np\")\n",
    "nCap = tree_k100[\"nCap\"].array(library=\"np\")\n",
    "\n",
    "k100 = pd.DataFrame( {'EV' : EV,\n",
    "                  'Type' : Type,\n",
    "                  'E1' : E1,\n",
    "                  'D3' : D3,\n",
    "                      'DT' : DT,\n",
    "                      'time1' : time1,\n",
    "                     'nCap' : nCap}\n",
    "                 )\n",
    "k100['Edep'] = k100.D3.map(sum)\n",
    "k100['flag'] = k100.nCap.map(sum).astype(bool)\n",
    "k100.head(5)"
   ]
  },
  {
   "cell_type": "code",
   "execution_count": 4,
   "id": "98f781f4",
   "metadata": {},
   "outputs": [],
   "source": [
    "def tile_energy(df_):\n",
    "    #a = (np.dstack((df_.DT,df_.D3)))[0]\n",
    "    a = (np.dstack((df_.DT,df_.D3,df_.time1)))[0]\n",
    "    #print (a)\n",
    "    temp = {}\n",
    "    for i in a:\n",
    "        if(i[2] > 1.e11):\n",
    "            continue\n",
    "        if(i[0] in temp):\n",
    "            temp[i[0]] += i[1]\n",
    "        else:\n",
    "            temp[i[0]] = i[1]\n",
    "    #print (temp)\n",
    "    return np.array([temp[i] for i in temp.keys()])"
   ]
  },
  {
   "cell_type": "raw",
   "id": "811b0f1e",
   "metadata": {},
   "source": [
    "def NaI_Esum(df_):\n",
    "    return np.sum(df_.tile_energy)"
   ]
  },
  {
   "cell_type": "code",
   "execution_count": 5,
   "id": "b68195d3",
   "metadata": {},
   "outputs": [],
   "source": [
    "k100['tile_energy'] = k100.apply(tile_energy,axis=1)"
   ]
  },
  {
   "cell_type": "code",
   "execution_count": 6,
   "id": "24b84963",
   "metadata": {},
   "outputs": [],
   "source": [
    "k100['NaI_Esum'] = k100.tile_energy.map(sum)"
   ]
  },
  {
   "cell_type": "code",
   "execution_count": 7,
   "id": "df84a226",
   "metadata": {},
   "outputs": [
    {
     "data": {
      "text/html": [
       "<div>\n",
       "<style scoped>\n",
       "    .dataframe tbody tr th:only-of-type {\n",
       "        vertical-align: middle;\n",
       "    }\n",
       "\n",
       "    .dataframe tbody tr th {\n",
       "        vertical-align: top;\n",
       "    }\n",
       "\n",
       "    .dataframe thead th {\n",
       "        text-align: right;\n",
       "    }\n",
       "</style>\n",
       "<table border=\"1\" class=\"dataframe\">\n",
       "  <thead>\n",
       "    <tr style=\"text-align: right;\">\n",
       "      <th></th>\n",
       "      <th>EV</th>\n",
       "      <th>Type</th>\n",
       "      <th>E1</th>\n",
       "      <th>D3</th>\n",
       "      <th>DT</th>\n",
       "      <th>time1</th>\n",
       "      <th>nCap</th>\n",
       "      <th>Edep</th>\n",
       "      <th>flag</th>\n",
       "      <th>tile_energy</th>\n",
       "      <th>NaI_Esum</th>\n",
       "    </tr>\n",
       "  </thead>\n",
       "  <tbody>\n",
       "    <tr>\n",
       "      <th>0</th>\n",
       "      <td>323</td>\n",
       "      <td>[-12]</td>\n",
       "      <td>[0.5110124]</td>\n",
       "      <td>[0.0]</td>\n",
       "      <td>[2020]</td>\n",
       "      <td>[9.368899e+21]</td>\n",
       "      <td>[0]</td>\n",
       "      <td>0.000000</td>\n",
       "      <td>False</td>\n",
       "      <td>[]</td>\n",
       "      <td>0.000000</td>\n",
       "    </tr>\n",
       "    <tr>\n",
       "      <th>1</th>\n",
       "      <td>447</td>\n",
       "      <td>[22, 22, 22, 11, 11, 11, 11, 11, 11, 11, 11, 1...</td>\n",
       "      <td>[0.49732816, 0.3512036, 0.1496337, 3.9e-05, 1....</td>\n",
       "      <td>[0.0, 0.0, 0.00026759, 3.9e-05, 1.802e-05, 2.7...</td>\n",
       "      <td>[1001, 1001, 1001, 1001, 1001, 1001, 1001, 100...</td>\n",
       "      <td>[10000.18, 10000.232, 10001.538, 10001.538, 10...</td>\n",
       "      <td>[0, 0, 0, 0, 0, 0, 0, 0, 0, 0, 0, 0, 0, 0, 0, ...</td>\n",
       "      <td>0.295758</td>\n",
       "      <td>False</td>\n",
       "      <td>[0.2957582610506506]</td>\n",
       "      <td>0.295758</td>\n",
       "    </tr>\n",
       "    <tr>\n",
       "      <th>2</th>\n",
       "      <td>489</td>\n",
       "      <td>[22, 11, 11, 11, 11, 11, 11, 11, 11, 11, 11, 1...</td>\n",
       "      <td>[0.22274192, 1.624e-05, 2.94e-05, 2.826e-05, 2...</td>\n",
       "      <td>[0.00049451, 1.624e-05, 2.94e-05, 2.826e-05, 2...</td>\n",
       "      <td>[2008, 2008, 2008, 2008, 2008, 2008, 2008, 200...</td>\n",
       "      <td>[633620.0, 633620.0, 633620.0, 633620.0, 63362...</td>\n",
       "      <td>[0, 0, 0, 0, 0, 0, 0, 0, 0, 0, 0, 0, 0, 0, 0, ...</td>\n",
       "      <td>0.222742</td>\n",
       "      <td>False</td>\n",
       "      <td>[0.22274192248369218]</td>\n",
       "      <td>0.222742</td>\n",
       "    </tr>\n",
       "    <tr>\n",
       "      <th>3</th>\n",
       "      <td>688</td>\n",
       "      <td>[22, 11, 11, 11, 11, 11, 11, 11, 11, 11, 11, 1...</td>\n",
       "      <td>[0.065606065, 3.786e-05, 3.964e-05, 3.786e-05,...</td>\n",
       "      <td>[0.00022692, 3.786e-05, 3.964e-05, 3.786e-05, ...</td>\n",
       "      <td>[1002, 1002, 1002, 1002, 1002, 1002, 1002, 100...</td>\n",
       "      <td>[167226.11, 167226.11, 167226.11, 167226.11, 1...</td>\n",
       "      <td>[0, 0, 0, 0, 0, 0, 0, 0, 0, 0, 0, 0, 0, 0, 0, ...</td>\n",
       "      <td>0.065606</td>\n",
       "      <td>False</td>\n",
       "      <td>[0.0656060671844898]</td>\n",
       "      <td>0.065606</td>\n",
       "    </tr>\n",
       "    <tr>\n",
       "      <th>4</th>\n",
       "      <td>864</td>\n",
       "      <td>[-12, -12, -12, -12, -12, -12, -12, -12, -12]</td>\n",
       "      <td>[0.6425657, 0.6425657, 0.6425657, 0.6425657, 0...</td>\n",
       "      <td>[0.0, 0.0, 0.0, 0.0, 0.0, 0.0, 0.0, 0.0, 0.0]</td>\n",
       "      <td>[2020, 2019, 2018, 2017, 2016, 2015, 2014, 201...</td>\n",
       "      <td>[3.6183456e+21, 3.6183456e+21, 3.6183456e+21, ...</td>\n",
       "      <td>[0, 0, 0, 0, 0, 0, 0, 0, 0]</td>\n",
       "      <td>0.000000</td>\n",
       "      <td>False</td>\n",
       "      <td>[]</td>\n",
       "      <td>0.000000</td>\n",
       "    </tr>\n",
       "  </tbody>\n",
       "</table>\n",
       "</div>"
      ],
      "text/plain": [
       "    EV                                               Type  \\\n",
       "0  323                                              [-12]   \n",
       "1  447  [22, 22, 22, 11, 11, 11, 11, 11, 11, 11, 11, 1...   \n",
       "2  489  [22, 11, 11, 11, 11, 11, 11, 11, 11, 11, 11, 1...   \n",
       "3  688  [22, 11, 11, 11, 11, 11, 11, 11, 11, 11, 11, 1...   \n",
       "4  864      [-12, -12, -12, -12, -12, -12, -12, -12, -12]   \n",
       "\n",
       "                                                  E1  \\\n",
       "0                                        [0.5110124]   \n",
       "1  [0.49732816, 0.3512036, 0.1496337, 3.9e-05, 1....   \n",
       "2  [0.22274192, 1.624e-05, 2.94e-05, 2.826e-05, 2...   \n",
       "3  [0.065606065, 3.786e-05, 3.964e-05, 3.786e-05,...   \n",
       "4  [0.6425657, 0.6425657, 0.6425657, 0.6425657, 0...   \n",
       "\n",
       "                                                  D3  \\\n",
       "0                                              [0.0]   \n",
       "1  [0.0, 0.0, 0.00026759, 3.9e-05, 1.802e-05, 2.7...   \n",
       "2  [0.00049451, 1.624e-05, 2.94e-05, 2.826e-05, 2...   \n",
       "3  [0.00022692, 3.786e-05, 3.964e-05, 3.786e-05, ...   \n",
       "4      [0.0, 0.0, 0.0, 0.0, 0.0, 0.0, 0.0, 0.0, 0.0]   \n",
       "\n",
       "                                                  DT  \\\n",
       "0                                             [2020]   \n",
       "1  [1001, 1001, 1001, 1001, 1001, 1001, 1001, 100...   \n",
       "2  [2008, 2008, 2008, 2008, 2008, 2008, 2008, 200...   \n",
       "3  [1002, 1002, 1002, 1002, 1002, 1002, 1002, 100...   \n",
       "4  [2020, 2019, 2018, 2017, 2016, 2015, 2014, 201...   \n",
       "\n",
       "                                               time1  \\\n",
       "0                                     [9.368899e+21]   \n",
       "1  [10000.18, 10000.232, 10001.538, 10001.538, 10...   \n",
       "2  [633620.0, 633620.0, 633620.0, 633620.0, 63362...   \n",
       "3  [167226.11, 167226.11, 167226.11, 167226.11, 1...   \n",
       "4  [3.6183456e+21, 3.6183456e+21, 3.6183456e+21, ...   \n",
       "\n",
       "                                                nCap      Edep   flag  \\\n",
       "0                                                [0]  0.000000  False   \n",
       "1  [0, 0, 0, 0, 0, 0, 0, 0, 0, 0, 0, 0, 0, 0, 0, ...  0.295758  False   \n",
       "2  [0, 0, 0, 0, 0, 0, 0, 0, 0, 0, 0, 0, 0, 0, 0, ...  0.222742  False   \n",
       "3  [0, 0, 0, 0, 0, 0, 0, 0, 0, 0, 0, 0, 0, 0, 0, ...  0.065606  False   \n",
       "4                        [0, 0, 0, 0, 0, 0, 0, 0, 0]  0.000000  False   \n",
       "\n",
       "             tile_energy  NaI_Esum  \n",
       "0                     []  0.000000  \n",
       "1   [0.2957582610506506]  0.295758  \n",
       "2  [0.22274192248369218]  0.222742  \n",
       "3   [0.0656060671844898]  0.065606  \n",
       "4                     []  0.000000  "
      ]
     },
     "execution_count": 7,
     "metadata": {},
     "output_type": "execute_result"
    }
   ],
   "source": [
    "k100.head(5)"
   ]
  },
  {
   "cell_type": "code",
   "execution_count": 8,
   "id": "a0c71f93",
   "metadata": {},
   "outputs": [
    {
     "data": {
      "image/png": "[encoded data removed]",
      "text/plain": [
       "<IPython.core.display.Image object>"
      ]
     },
     "metadata": {},
     "output_type": "display_data"
    }
   ],
   "source": [
    "h_k100sim_tile_energy = rt.TH1F(\"h_k100sim_tile_energy\",\"Tile Energy\",240,0,12)\n",
    "h_k100sim_tile_energy.Sumw2()\n",
    "\n",
    "for energy in k100.tile_energy.explode():\n",
    "    h_k100sim_tile_energy.Fill(energy)\n",
    "    \n",
    "c = rt.TCanvas()\n",
    "h_k100sim_tile_energy.Draw('hist')\n",
    "rt.gPad.SetLogy()\n",
    "c.Draw()"
   ]
  },
  {
   "cell_type": "code",
   "execution_count": 9,
   "id": "6f6e69b0",
   "metadata": {},
   "outputs": [
    {
     "data": {
      "image/png": "[encoded data removed]",
      "text/plain": [
       "<IPython.core.display.Image object>"
      ]
     },
     "metadata": {},
     "output_type": "display_data"
    }
   ],
   "source": [
    "h_k100sim_NaIEsum = rt.TH1F(\"h_k100sim_NaIEsum\",\"NaI Edep\",240,0,12)\n",
    "h_k100sim_NaIEsum.Sumw2()\n",
    "\n",
    "for energy in k100.NaI_Esum:\n",
    "    h_k100sim_NaIEsum.Fill(energy)\n",
    "    \n",
    "c = rt.TCanvas()\n",
    "h_k100sim_NaIEsum.Draw('hist')\n",
    "rt.gPad.SetLogy()\n",
    "c.Draw()"
   ]
  },
  {
   "cell_type": "code",
   "execution_count": null,
   "id": "e73d73e8",
   "metadata": {},
   "outputs": [],
   "source": []
  },
  {
   "cell_type": "code",
   "execution_count": 10,
   "id": "957157a7",
   "metadata": {},
   "outputs": [
    {
     "name": "stdout",
     "output_type": "stream",
     "text": [
      "Loaded file: /Users/shubhampandey/work/geant4/k100sim_anthony/sim_files/Nsc_k100_500k_events_boron_shield_1inch_v1.root\n"
     ]
    },
    {
     "data": {
      "text/html": [
       "<div>\n",
       "<style scoped>\n",
       "    .dataframe tbody tr th:only-of-type {\n",
       "        vertical-align: middle;\n",
       "    }\n",
       "\n",
       "    .dataframe tbody tr th {\n",
       "        vertical-align: top;\n",
       "    }\n",
       "\n",
       "    .dataframe thead th {\n",
       "        text-align: right;\n",
       "    }\n",
       "</style>\n",
       "<table border=\"1\" class=\"dataframe\">\n",
       "  <thead>\n",
       "    <tr style=\"text-align: right;\">\n",
       "      <th></th>\n",
       "      <th>fEvent</th>\n",
       "      <th>fNeutron_energy</th>\n",
       "      <th>fPDGID</th>\n",
       "      <th>fsec_KE</th>\n",
       "    </tr>\n",
       "  </thead>\n",
       "  <tbody>\n",
       "    <tr>\n",
       "      <th>0</th>\n",
       "      <td>0</td>\n",
       "      <td>1.459830e-08</td>\n",
       "      <td>22</td>\n",
       "      <td>7.631125</td>\n",
       "    </tr>\n",
       "    <tr>\n",
       "      <th>1</th>\n",
       "      <td>0</td>\n",
       "      <td>1.459830e-08</td>\n",
       "      <td>11</td>\n",
       "      <td>0.007312</td>\n",
       "    </tr>\n",
       "    <tr>\n",
       "      <th>2</th>\n",
       "      <td>0</td>\n",
       "      <td>1.459830e-08</td>\n",
       "      <td>260570</td>\n",
       "      <td>0.000543</td>\n",
       "    </tr>\n",
       "    <tr>\n",
       "      <th>3</th>\n",
       "      <td>1</td>\n",
       "      <td>5.765503e-08</td>\n",
       "      <td>22</td>\n",
       "      <td>7.631127</td>\n",
       "    </tr>\n",
       "    <tr>\n",
       "      <th>4</th>\n",
       "      <td>1</td>\n",
       "      <td>5.765503e-08</td>\n",
       "      <td>11</td>\n",
       "      <td>0.007301</td>\n",
       "    </tr>\n",
       "  </tbody>\n",
       "</table>\n",
       "</div>"
      ],
      "text/plain": [
       "   fEvent  fNeutron_energy  fPDGID   fsec_KE\n",
       "0       0     1.459830e-08      22  7.631125\n",
       "1       0     1.459830e-08      11  0.007312\n",
       "2       0     1.459830e-08  260570  0.000543\n",
       "3       1     5.765503e-08      22  7.631127\n",
       "4       1     5.765503e-08      11  0.007301"
      ]
     },
     "execution_count": 10,
     "metadata": {},
     "output_type": "execute_result"
    }
   ],
   "source": [
    "if(save_dir==\"no_shield\"):\n",
    "    inFile_nsc = '%s/Nsc_k100_500k_events_no_shield.root'%(dir_)\n",
    "elif(save_dir==\"with_shield\"):\n",
    "    inFile_nsc = '%s/Nsc_k100_500k_events_boron_shield_1inch_v1.root'%(dir_)\n",
    "else:\n",
    "    print(\"Incorrect directory\")\n",
    "\n",
    "file_nsc = uproot.open(inFile_nsc)\n",
    "if(not file_nsc):\n",
    "    print(\"could not open file: %s\"%(inFile_nsc))\n",
    "    sys.exit(0)\n",
    "else:\n",
    "    print(\"Loaded file: %s\"%(inFile_nsc))\n",
    "tree_nsc = file_nsc[\"nCapInfo\"]\n",
    "\n",
    "if(not tree_nsc):\n",
    "    print(\"nCapInfo does not exist in file: %s\"%(file_nsc))\n",
    "    sys.exit(0)\n",
    "\n",
    "ev = tree_nsc[\"fEvent\"].array(library=\"np\")\n",
    "neutron = tree_nsc[\"fNeutron_energy\"].array(library=\"np\")\n",
    "pdg = tree_nsc[\"fPDGID\"].array(library=\"np\")\n",
    "sec_KE = tree_nsc[\"fsec_KE\"].array(library=\"np\")\n",
    "df = pd.DataFrame( {'fEvent' : ev,\n",
    "                  'fNeutron_energy' : neutron,\n",
    "                  'fPDGID' : pdg,\n",
    "                  'fsec_KE' : sec_KE}\n",
    "                 )\n",
    "df.head(5)"
   ]
  },
  {
   "cell_type": "code",
   "execution_count": null,
   "id": "6721ce24",
   "metadata": {},
   "outputs": [],
   "source": []
  },
  {
   "cell_type": "code",
   "execution_count": 11,
   "id": "132d160a",
   "metadata": {},
   "outputs": [
    {
     "name": "stderr",
     "output_type": "stream",
     "text": [
      "100%|████████████████████████████████████████████████████████████████████████████████████████████████████████████████████████████████████████████████████████████████████████████████| 682023/682023 [00:06<00:00, 110177.49it/s]\n"
     ]
    }
   ],
   "source": [
    "count_photon = 0\n",
    "Fe_photon = []\n",
    "photon_energy = []\n",
    "Fe_event = []\n",
    "Cl_event = []\n",
    "H_event = []\n",
    "Si_event = []\n",
    "Al_event = []\n",
    "Ca_event = []\n",
    "Pb_event = []\n",
    "S_event = []\n",
    "C_event = []\n",
    "I_event = []\n",
    "for i in tqdm(range(len(ev))):\n",
    "    if(pdg[i] == 260570):\n",
    "        Fe_event.append(ev[i])\n",
    "    if(pdg[i] == 10020):\n",
    "        H_event.append(ev[i])\n",
    "    if(pdg[i] == 140290):\n",
    "        Si_event.append(ev[i])\n",
    "    if(pdg[i] == 130280):\n",
    "        Al_event.append(ev[i])\n",
    "    if(pdg[i] == 200410):\n",
    "        Ca_event.append(ev[i])\n",
    "    if(pdg[i] == 822080):\n",
    "        Pb_event.append(ev[i])\n",
    "    if(pdg[i] == 160330):\n",
    "        S_event.append(ev[i])\n",
    "    if(pdg[i] == 60130):\n",
    "        C_event.append(ev[i])\n",
    "    if(pdg[i] == 531280):\n",
    "        I_event.append(ev[i])\n",
    "    if(pdg[i] == 170360):\n",
    "        Cl_event.append(ev[i])\n",
    "    if(pdg[i] > 10000):        \n",
    "        if(pdg[i] == 260570):\n",
    "            Fe_photon.append(count_photon)\n",
    "        photon_energy.clear()\n",
    "        count_photon = 0\n",
    "    if(pdg[i] == 22):\n",
    "        count_photon += 1\n",
    "        photon_energy.append(sec_KE[i])"
   ]
  },
  {
   "cell_type": "code",
   "execution_count": null,
   "id": "70dafe45",
   "metadata": {},
   "outputs": [],
   "source": []
  },
  {
   "cell_type": "code",
   "execution_count": 12,
   "id": "f094a057",
   "metadata": {},
   "outputs": [
    {
     "data": {
      "image/png": "[encoded data removed]",
      "text/plain": [
       "<Figure size 1008x432 with 1 Axes>"
      ]
     },
     "metadata": {
      "needs_background": "light"
     },
     "output_type": "display_data"
    }
   ],
   "source": [
    "isotope_Si = df[df['fEvent'].isin(Si_event)]\n",
    "fig = plt.figure(figsize=(14.0,6.0))\n",
    "Egamma = isotope_Si[(isotope_Si.fPDGID == 22)].fsec_KE\n",
    "plt.hist(Egamma,bins=500, range=[0,8])\n",
    "\n",
    "plt.xlabel('Energy [MeV]')\n",
    "plt.ylabel('counts')\n",
    "#plt.yscale('log', nonposy='clip')\n",
    "#plt.yscale('log')\n",
    "\n",
    "plt.title(\"KE of each photon after nCap on Si-28\")\n",
    "if(save_):\n",
    "    plt.savefig(\"Espectra/Egamma_Si28.png\")\n",
    "    \n",
    "\n",
    "plt.show()"
   ]
  },
  {
   "cell_type": "code",
   "execution_count": 6,
   "id": "8fbc382b",
   "metadata": {},
   "outputs": [
    {
     "data": {
      "image/png": "[encoded data removed]",
      "text/plain": [
       "<Figure size 1008x432 with 1 Axes>"
      ]
     },
     "metadata": {
      "needs_background": "light"
     },
     "output_type": "display_data"
    }
   ],
   "source": [
    "isotope_I127 = df[df['fEvent'].isin(I_event)]\n",
    "Eneutron = np.log10(isotope_I127.fNeutron_energy)\n",
    "\n",
    "fig = plt.figure(figsize=(14.0,6.0))\n",
    "\n",
    "\n",
    "plt.hist(Eneutron,bins=500, range=[-10,5])\n",
    "\n",
    "plt.xlabel('log10(Energy) [MeV]')\n",
    "plt.ylabel('counts')\n",
    "#plt.yscale('log', nonposy='clip')\n",
    "#plt.yscale('log')\n",
    "\n",
    "plt.title(\"Neutron energy\")\n",
    "   \n",
    "\n",
    "plt.show()"
   ]
  },
  {
   "cell_type": "code",
   "execution_count": 7,
   "id": "7bd487ba",
   "metadata": {},
   "outputs": [
    {
     "data": {
      "image/png": "[encoded data removed]",
      "text/plain": [
       "<Figure size 1008x432 with 1 Axes>"
      ]
     },
     "metadata": {
      "needs_background": "light"
     },
     "output_type": "display_data"
    }
   ],
   "source": [
    "fig = plt.figure(figsize=(14.0,6.0))\n",
    "Egamma = isotope_I127[(isotope_I127.fPDGID == 22) & (isotope_I127.fNeutron_energy < 1.e-6)].fsec_KE\n",
    "plt.hist(Egamma,bins=500, range=[0,8])\n",
    "\n",
    "plt.xlabel('Energy [MeV]')\n",
    "plt.ylabel('counts')\n",
    "#plt.yscale('log', nonposy='clip')\n",
    "#plt.yscale('log')\n",
    "\n",
    "plt.title(\"KE of each photon after nCap on I-127 (only from thermal neutrons)\")\n",
    "if(save_):\n",
    "    plt.savefig(\"Espectra/Egamma_I127_thermal.png\")\n",
    "    \n",
    "\n",
    "plt.show()"
   ]
  },
  {
   "cell_type": "code",
   "execution_count": 8,
   "id": "2379dd2b",
   "metadata": {},
   "outputs": [
    {
     "data": {
      "text/plain": [
       "6"
      ]
     },
     "execution_count": 8,
     "metadata": {},
     "output_type": "execute_result"
    }
   ],
   "source": [
    "len(Egamma)"
   ]
  },
  {
   "cell_type": "code",
   "execution_count": 9,
   "id": "bf04bfc4",
   "metadata": {},
   "outputs": [
    {
     "data": {
      "image/png": "[encoded data removed]",
      "text/plain": [
       "<Figure size 1008x432 with 1 Axes>"
      ]
     },
     "metadata": {
      "needs_background": "light"
     },
     "output_type": "display_data"
    }
   ],
   "source": [
    "fig = plt.figure(figsize=(14.0,6.0))\n",
    "\n",
    "plt.hist(Egamma[Egamma < 0.2]*1e3,bins=500, range=[0,0.2e3])\n",
    "\n",
    "plt.xlabel('Energy [keV]')\n",
    "plt.ylabel('counts')\n",
    "#plt.yscale('log', nonposy='clip')\n",
    "#plt.yscale('log')\n",
    "\n",
    "plt.title(\"KE of each photon after nCap on I-127 (only from thermal neutrons)\")\n",
    "if(save_):\n",
    "    plt.savefig(\"Espectra/Egamma_I127_thermal.png\")\n",
    "    \n",
    "\n",
    "plt.show()"
   ]
  },
  {
   "cell_type": "code",
   "execution_count": null,
   "id": "75eeb635",
   "metadata": {},
   "outputs": [],
   "source": []
  },
  {
   "cell_type": "code",
   "execution_count": null,
   "id": "f4dcd982",
   "metadata": {},
   "outputs": [],
   "source": []
  },
  {
   "cell_type": "code",
   "execution_count": 10,
   "id": "703f274e",
   "metadata": {},
   "outputs": [
    {
     "data": {
      "image/png": "[encoded data removed]",
      "text/plain": [
       "<Figure size 1008x432 with 1 Axes>"
      ]
     },
     "metadata": {
      "needs_background": "light"
     },
     "output_type": "display_data"
    }
   ],
   "source": [
    "isotope_I127 = df[df['fEvent'].isin(I_event)]\n",
    "Eneutron = np.log10(isotope_I127.fNeutron_energy)\n",
    "\n",
    "fig = plt.figure(figsize=(14.0,6.0))\n",
    "\n",
    "\n",
    "plt.hist(Eneutron,bins=500, range=[-10,5])\n",
    "\n",
    "plt.xlabel('log10(Energy) [MeV]')\n",
    "plt.ylabel('counts')\n",
    "#plt.yscale('log', nonposy='clip')\n",
    "#plt.yscale('log')\n",
    "\n",
    "plt.title(\"Neutron energy\")\n",
    "   \n",
    "\n",
    "plt.show()"
   ]
  },
  {
   "cell_type": "code",
   "execution_count": 16,
   "id": "20d50814",
   "metadata": {},
   "outputs": [
    {
     "data": {
      "image/png": "[encoded data removed]",
      "text/plain": [
       "<Figure size 1008x432 with 1 Axes>"
      ]
     },
     "metadata": {
      "needs_background": "light"
     },
     "output_type": "display_data"
    }
   ],
   "source": [
    "fig = plt.figure(figsize=(14.0,6.0))\n",
    "Egamma = isotope_I127[(isotope_I127.fPDGID == 22)].fsec_KE\n",
    "plt.hist(Egamma,bins=500, range=[0,8])\n",
    "\n",
    "plt.xlabel('Energy [MeV]')\n",
    "plt.ylabel('counts')\n",
    "#plt.yscale('log', nonposy='clip')\n",
    "#plt.yscale('log')\n",
    "\n",
    "plt.title(\"KE of each photon after nCap on I-127\")\n",
    "if(save_):\n",
    "    plt.savefig(\"Espectra/Egamma_I127_thermal.png\")\n",
    "    \n",
    "\n",
    "plt.show()"
   ]
  },
  {
   "cell_type": "code",
   "execution_count": 15,
   "id": "eb5fe26e",
   "metadata": {},
   "outputs": [
    {
     "data": {
      "image/png": "[encoded data removed]",
      "text/plain": [
       "<Figure size 1008x432 with 1 Axes>"
      ]
     },
     "metadata": {
      "needs_background": "light"
     },
     "output_type": "display_data"
    }
   ],
   "source": [
    "isotope_I127\n",
    "Egamma = isotope_I127[(isotope_I127.fPDGID == 22)].fsec_KE\n",
    "Eneutron = np.log10(isotope_I127[(isotope_I127.fPDGID == 22)].fNeutron_energy)\n",
    "\n",
    "fig = plt.figure(figsize=(14.0,6.0))\n",
    "plt.scatter(Eneutron, Egamma, marker='o', color='blue', alpha=0.5, label='Sim all')\n",
    "plt.xlabel('Neutron energy [log10(MeV)]')\n",
    "plt.ylabel('Photon energy [MeV]')\n",
    "plt.show()"
   ]
  },
  {
   "cell_type": "code",
   "execution_count": 30,
   "id": "d5349a96",
   "metadata": {},
   "outputs": [
    {
     "data": {
      "image/png": "[encoded data removed]",
      "text/plain": [
       "<Figure size 1008x432 with 1 Axes>"
      ]
     },
     "metadata": {
      "needs_background": "light"
     },
     "output_type": "display_data"
    }
   ],
   "source": [
    "Egamma = df[df['fPDGID'] == 22].fsec_KE\n",
    "fig = plt.figure(figsize=(14.0,6.0))\n",
    "plt.hist(Egamma,bins=500, range=[0,8])\n",
    "\n",
    "plt.xlabel('Energy [MeV]')\n",
    "plt.ylabel('counts')\n",
    "#plt.yscale('log', nonposy='clip')\n",
    "#plt.yscale('log')\n",
    "\n",
    "plt.title(\"KE of each photon after nCap all\")\n",
    "if(save_):\n",
    "    plt.savefig(\"Espectra/Egamma_I127_thermal.png\")\n",
    "    \n",
    "\n",
    "plt.show()"
   ]
  },
  {
   "cell_type": "code",
   "execution_count": null,
   "id": "e0477736",
   "metadata": {},
   "outputs": [],
   "source": []
  }
 ],
 "metadata": {
  "kernelspec": {
   "display_name": "Python 3 (ipykernel)",
   "language": "python",
   "name": "python3"
  },
  "language_info": {
   "codemirror_mode": {
    "name": "ipython",
    "version": 3
   },
   "file_extension": ".py",
   "mimetype": "text/x-python",
   "name": "python",
   "nbconvert_exporter": "python",
   "pygments_lexer": "ipython3",
   "version": "3.10.0"
  }
 },
 "nbformat": 4,
 "nbformat_minor": 5
}
