{
 "cells": [
  {
   "cell_type": "code",
   "execution_count": 2,
   "id": "2bbc4fd2",
   "metadata": {},
   "outputs": [
    {
     "name": "stdout",
     "output_type": "stream",
     "text": [
      "Welcome to JupyROOT 6.26/02\n"
     ]
    }
   ],
   "source": [
    "import os, sys\n",
    "import uproot, awkward\n",
    "import ROOT as rt\n",
    "import numpy as np\n",
    "from array import array\n",
    "from mpl_toolkits import mplot3d\n",
    "import matplotlib.pyplot as plt\n",
    "import numpy as np\n",
    "from tqdm import tqdm\n",
    "import pandas as pd"
   ]
  },
  {
   "cell_type": "code",
   "execution_count": 3,
   "id": "063d6580",
   "metadata": {},
   "outputs": [
    {
     "data": {
      "text/html": [
       "<div>\n",
       "<style scoped>\n",
       "    .dataframe tbody tr th:only-of-type {\n",
       "        vertical-align: middle;\n",
       "    }\n",
       "\n",
       "    .dataframe tbody tr th {\n",
       "        vertical-align: top;\n",
       "    }\n",
       "\n",
       "    .dataframe thead th {\n",
       "        text-align: right;\n",
       "    }\n",
       "</style>\n",
       "<table border=\"1\" class=\"dataframe\">\n",
       "  <thead>\n",
       "    <tr style=\"text-align: right;\">\n",
       "      <th></th>\n",
       "      <th>AtomicNumber</th>\n",
       "      <th>Element</th>\n",
       "      <th>Symbol</th>\n",
       "      <th>AtomicMass</th>\n",
       "      <th>NumberofNeutrons</th>\n",
       "      <th>NumberofProtons</th>\n",
       "      <th>NumberofElectrons</th>\n",
       "      <th>Period</th>\n",
       "      <th>Group</th>\n",
       "      <th>Phase</th>\n",
       "      <th>...</th>\n",
       "      <th>FirstIonization</th>\n",
       "      <th>Density</th>\n",
       "      <th>MeltingPoint</th>\n",
       "      <th>BoilingPoint</th>\n",
       "      <th>NumberOfIsotopes</th>\n",
       "      <th>Discoverer</th>\n",
       "      <th>Year</th>\n",
       "      <th>SpecificHeat</th>\n",
       "      <th>NumberofShells</th>\n",
       "      <th>NumberofValence</th>\n",
       "    </tr>\n",
       "  </thead>\n",
       "  <tbody>\n",
       "    <tr>\n",
       "      <th>0</th>\n",
       "      <td>1</td>\n",
       "      <td>Hydrogen</td>\n",
       "      <td>H</td>\n",
       "      <td>1.007</td>\n",
       "      <td>0</td>\n",
       "      <td>1</td>\n",
       "      <td>1</td>\n",
       "      <td>1</td>\n",
       "      <td>1.0</td>\n",
       "      <td>gas</td>\n",
       "      <td>...</td>\n",
       "      <td>13.5984</td>\n",
       "      <td>0.000090</td>\n",
       "      <td>14.175</td>\n",
       "      <td>20.28</td>\n",
       "      <td>3.0</td>\n",
       "      <td>Cavendish</td>\n",
       "      <td>1766.0</td>\n",
       "      <td>14.304</td>\n",
       "      <td>1</td>\n",
       "      <td>1.0</td>\n",
       "    </tr>\n",
       "    <tr>\n",
       "      <th>1</th>\n",
       "      <td>2</td>\n",
       "      <td>Helium</td>\n",
       "      <td>He</td>\n",
       "      <td>4.002</td>\n",
       "      <td>2</td>\n",
       "      <td>2</td>\n",
       "      <td>2</td>\n",
       "      <td>1</td>\n",
       "      <td>18.0</td>\n",
       "      <td>gas</td>\n",
       "      <td>...</td>\n",
       "      <td>24.5874</td>\n",
       "      <td>0.000179</td>\n",
       "      <td>NaN</td>\n",
       "      <td>4.22</td>\n",
       "      <td>5.0</td>\n",
       "      <td>Janssen</td>\n",
       "      <td>1868.0</td>\n",
       "      <td>5.193</td>\n",
       "      <td>1</td>\n",
       "      <td>NaN</td>\n",
       "    </tr>\n",
       "    <tr>\n",
       "      <th>2</th>\n",
       "      <td>3</td>\n",
       "      <td>Lithium</td>\n",
       "      <td>Li</td>\n",
       "      <td>6.941</td>\n",
       "      <td>4</td>\n",
       "      <td>3</td>\n",
       "      <td>3</td>\n",
       "      <td>2</td>\n",
       "      <td>1.0</td>\n",
       "      <td>solid</td>\n",
       "      <td>...</td>\n",
       "      <td>5.3917</td>\n",
       "      <td>0.534000</td>\n",
       "      <td>453.850</td>\n",
       "      <td>1615.00</td>\n",
       "      <td>5.0</td>\n",
       "      <td>Arfvedson</td>\n",
       "      <td>1817.0</td>\n",
       "      <td>3.582</td>\n",
       "      <td>2</td>\n",
       "      <td>1.0</td>\n",
       "    </tr>\n",
       "    <tr>\n",
       "      <th>3</th>\n",
       "      <td>4</td>\n",
       "      <td>Beryllium</td>\n",
       "      <td>Be</td>\n",
       "      <td>9.012</td>\n",
       "      <td>5</td>\n",
       "      <td>4</td>\n",
       "      <td>4</td>\n",
       "      <td>2</td>\n",
       "      <td>2.0</td>\n",
       "      <td>solid</td>\n",
       "      <td>...</td>\n",
       "      <td>9.3227</td>\n",
       "      <td>1.850000</td>\n",
       "      <td>1560.150</td>\n",
       "      <td>2742.00</td>\n",
       "      <td>6.0</td>\n",
       "      <td>Vaulquelin</td>\n",
       "      <td>1798.0</td>\n",
       "      <td>1.825</td>\n",
       "      <td>2</td>\n",
       "      <td>2.0</td>\n",
       "    </tr>\n",
       "    <tr>\n",
       "      <th>4</th>\n",
       "      <td>5</td>\n",
       "      <td>Boron</td>\n",
       "      <td>B</td>\n",
       "      <td>10.811</td>\n",
       "      <td>6</td>\n",
       "      <td>5</td>\n",
       "      <td>5</td>\n",
       "      <td>2</td>\n",
       "      <td>13.0</td>\n",
       "      <td>solid</td>\n",
       "      <td>...</td>\n",
       "      <td>8.2980</td>\n",
       "      <td>2.340000</td>\n",
       "      <td>2573.150</td>\n",
       "      <td>4200.00</td>\n",
       "      <td>6.0</td>\n",
       "      <td>Gay-Lussac</td>\n",
       "      <td>1808.0</td>\n",
       "      <td>1.026</td>\n",
       "      <td>2</td>\n",
       "      <td>3.0</td>\n",
       "    </tr>\n",
       "    <tr>\n",
       "      <th>...</th>\n",
       "      <td>...</td>\n",
       "      <td>...</td>\n",
       "      <td>...</td>\n",
       "      <td>...</td>\n",
       "      <td>...</td>\n",
       "      <td>...</td>\n",
       "      <td>...</td>\n",
       "      <td>...</td>\n",
       "      <td>...</td>\n",
       "      <td>...</td>\n",
       "      <td>...</td>\n",
       "      <td>...</td>\n",
       "      <td>...</td>\n",
       "      <td>...</td>\n",
       "      <td>...</td>\n",
       "      <td>...</td>\n",
       "      <td>...</td>\n",
       "      <td>...</td>\n",
       "      <td>...</td>\n",
       "      <td>...</td>\n",
       "      <td>...</td>\n",
       "    </tr>\n",
       "    <tr>\n",
       "      <th>113</th>\n",
       "      <td>114</td>\n",
       "      <td>Flerovium</td>\n",
       "      <td>Fl</td>\n",
       "      <td>289.000</td>\n",
       "      <td>175</td>\n",
       "      <td>114</td>\n",
       "      <td>114</td>\n",
       "      <td>7</td>\n",
       "      <td>14.0</td>\n",
       "      <td>artificial</td>\n",
       "      <td>...</td>\n",
       "      <td>NaN</td>\n",
       "      <td>NaN</td>\n",
       "      <td>NaN</td>\n",
       "      <td>NaN</td>\n",
       "      <td>NaN</td>\n",
       "      <td>NaN</td>\n",
       "      <td>1999.0</td>\n",
       "      <td>NaN</td>\n",
       "      <td>7</td>\n",
       "      <td>4.0</td>\n",
       "    </tr>\n",
       "    <tr>\n",
       "      <th>114</th>\n",
       "      <td>115</td>\n",
       "      <td>Moscovium</td>\n",
       "      <td>Mc</td>\n",
       "      <td>288.000</td>\n",
       "      <td>173</td>\n",
       "      <td>115</td>\n",
       "      <td>115</td>\n",
       "      <td>7</td>\n",
       "      <td>15.0</td>\n",
       "      <td>artificial</td>\n",
       "      <td>...</td>\n",
       "      <td>NaN</td>\n",
       "      <td>NaN</td>\n",
       "      <td>NaN</td>\n",
       "      <td>NaN</td>\n",
       "      <td>NaN</td>\n",
       "      <td>NaN</td>\n",
       "      <td>2010.0</td>\n",
       "      <td>NaN</td>\n",
       "      <td>7</td>\n",
       "      <td>5.0</td>\n",
       "    </tr>\n",
       "    <tr>\n",
       "      <th>115</th>\n",
       "      <td>116</td>\n",
       "      <td>Livermorium</td>\n",
       "      <td>Lv</td>\n",
       "      <td>292.000</td>\n",
       "      <td>176</td>\n",
       "      <td>116</td>\n",
       "      <td>116</td>\n",
       "      <td>7</td>\n",
       "      <td>16.0</td>\n",
       "      <td>artificial</td>\n",
       "      <td>...</td>\n",
       "      <td>NaN</td>\n",
       "      <td>NaN</td>\n",
       "      <td>NaN</td>\n",
       "      <td>NaN</td>\n",
       "      <td>NaN</td>\n",
       "      <td>NaN</td>\n",
       "      <td>2000.0</td>\n",
       "      <td>NaN</td>\n",
       "      <td>7</td>\n",
       "      <td>6.0</td>\n",
       "    </tr>\n",
       "    <tr>\n",
       "      <th>116</th>\n",
       "      <td>117</td>\n",
       "      <td>Tennessine</td>\n",
       "      <td>Ts</td>\n",
       "      <td>295.000</td>\n",
       "      <td>178</td>\n",
       "      <td>117</td>\n",
       "      <td>117</td>\n",
       "      <td>7</td>\n",
       "      <td>17.0</td>\n",
       "      <td>artificial</td>\n",
       "      <td>...</td>\n",
       "      <td>NaN</td>\n",
       "      <td>NaN</td>\n",
       "      <td>NaN</td>\n",
       "      <td>NaN</td>\n",
       "      <td>NaN</td>\n",
       "      <td>NaN</td>\n",
       "      <td>2010.0</td>\n",
       "      <td>NaN</td>\n",
       "      <td>7</td>\n",
       "      <td>7.0</td>\n",
       "    </tr>\n",
       "    <tr>\n",
       "      <th>117</th>\n",
       "      <td>118</td>\n",
       "      <td>Oganesson</td>\n",
       "      <td>Og</td>\n",
       "      <td>294.000</td>\n",
       "      <td>176</td>\n",
       "      <td>118</td>\n",
       "      <td>118</td>\n",
       "      <td>7</td>\n",
       "      <td>18.0</td>\n",
       "      <td>artificial</td>\n",
       "      <td>...</td>\n",
       "      <td>NaN</td>\n",
       "      <td>NaN</td>\n",
       "      <td>NaN</td>\n",
       "      <td>NaN</td>\n",
       "      <td>NaN</td>\n",
       "      <td>NaN</td>\n",
       "      <td>2006.0</td>\n",
       "      <td>NaN</td>\n",
       "      <td>7</td>\n",
       "      <td>8.0</td>\n",
       "    </tr>\n",
       "  </tbody>\n",
       "</table>\n",
       "<p>118 rows × 28 columns</p>\n",
       "</div>"
      ],
      "text/plain": [
       "     AtomicNumber      Element Symbol  AtomicMass  NumberofNeutrons  \\\n",
       "0               1     Hydrogen      H       1.007                 0   \n",
       "1               2       Helium     He       4.002                 2   \n",
       "2               3      Lithium     Li       6.941                 4   \n",
       "3               4    Beryllium     Be       9.012                 5   \n",
       "4               5        Boron      B      10.811                 6   \n",
       "..            ...          ...    ...         ...               ...   \n",
       "113           114    Flerovium     Fl     289.000               175   \n",
       "114           115    Moscovium     Mc     288.000               173   \n",
       "115           116  Livermorium     Lv     292.000               176   \n",
       "116           117   Tennessine     Ts     295.000               178   \n",
       "117           118    Oganesson     Og     294.000               176   \n",
       "\n",
       "     NumberofProtons  NumberofElectrons  Period  Group       Phase  ...  \\\n",
       "0                  1                  1       1    1.0         gas  ...   \n",
       "1                  2                  2       1   18.0         gas  ...   \n",
       "2                  3                  3       2    1.0       solid  ...   \n",
       "3                  4                  4       2    2.0       solid  ...   \n",
       "4                  5                  5       2   13.0       solid  ...   \n",
       "..               ...                ...     ...    ...         ...  ...   \n",
       "113              114                114       7   14.0  artificial  ...   \n",
       "114              115                115       7   15.0  artificial  ...   \n",
       "115              116                116       7   16.0  artificial  ...   \n",
       "116              117                117       7   17.0  artificial  ...   \n",
       "117              118                118       7   18.0  artificial  ...   \n",
       "\n",
       "    FirstIonization   Density MeltingPoint BoilingPoint NumberOfIsotopes  \\\n",
       "0           13.5984  0.000090       14.175        20.28              3.0   \n",
       "1           24.5874  0.000179          NaN         4.22              5.0   \n",
       "2            5.3917  0.534000      453.850      1615.00              5.0   \n",
       "3            9.3227  1.850000     1560.150      2742.00              6.0   \n",
       "4            8.2980  2.340000     2573.150      4200.00              6.0   \n",
       "..              ...       ...          ...          ...              ...   \n",
       "113             NaN       NaN          NaN          NaN              NaN   \n",
       "114             NaN       NaN          NaN          NaN              NaN   \n",
       "115             NaN       NaN          NaN          NaN              NaN   \n",
       "116             NaN       NaN          NaN          NaN              NaN   \n",
       "117             NaN       NaN          NaN          NaN              NaN   \n",
       "\n",
       "     Discoverer    Year  SpecificHeat  NumberofShells  NumberofValence  \n",
       "0     Cavendish  1766.0        14.304               1              1.0  \n",
       "1       Janssen  1868.0         5.193               1              NaN  \n",
       "2     Arfvedson  1817.0         3.582               2              1.0  \n",
       "3    Vaulquelin  1798.0         1.825               2              2.0  \n",
       "4    Gay-Lussac  1808.0         1.026               2              3.0  \n",
       "..          ...     ...           ...             ...              ...  \n",
       "113         NaN  1999.0           NaN               7              4.0  \n",
       "114         NaN  2010.0           NaN               7              5.0  \n",
       "115         NaN  2000.0           NaN               7              6.0  \n",
       "116         NaN  2010.0           NaN               7              7.0  \n",
       "117         NaN  2006.0           NaN               7              8.0  \n",
       "\n",
       "[118 rows x 28 columns]"
      ]
     },
     "execution_count": 3,
     "metadata": {},
     "output_type": "execute_result"
    }
   ],
   "source": [
    "elements = pd.read_csv('Periodic_Table_of_Elements.csv')\n",
    "elements"
   ]
  },
  {
   "cell_type": "code",
   "execution_count": 4,
   "id": "325e9b7e",
   "metadata": {},
   "outputs": [],
   "source": [
    "save_dir = \"with_shield\""
   ]
  },
  {
   "cell_type": "code",
   "execution_count": 5,
   "id": "50674ac2",
   "metadata": {},
   "outputs": [
    {
     "data": {
      "text/html": [
       "<div>\n",
       "<style scoped>\n",
       "    .dataframe tbody tr th:only-of-type {\n",
       "        vertical-align: middle;\n",
       "    }\n",
       "\n",
       "    .dataframe tbody tr th {\n",
       "        vertical-align: top;\n",
       "    }\n",
       "\n",
       "    .dataframe thead th {\n",
       "        text-align: right;\n",
       "    }\n",
       "</style>\n",
       "<table border=\"1\" class=\"dataframe\">\n",
       "  <thead>\n",
       "    <tr style=\"text-align: right;\">\n",
       "      <th></th>\n",
       "      <th>EV</th>\n",
       "      <th>Type</th>\n",
       "      <th>E1</th>\n",
       "      <th>D3</th>\n",
       "      <th>DT</th>\n",
       "      <th>nCap</th>\n",
       "      <th>Edep</th>\n",
       "      <th>flag</th>\n",
       "    </tr>\n",
       "  </thead>\n",
       "  <tbody>\n",
       "    <tr>\n",
       "      <th>0</th>\n",
       "      <td>323</td>\n",
       "      <td>[-12]</td>\n",
       "      <td>[0.5110124]</td>\n",
       "      <td>[0.0]</td>\n",
       "      <td>[2020]</td>\n",
       "      <td>[0]</td>\n",
       "      <td>0.000000</td>\n",
       "      <td>False</td>\n",
       "    </tr>\n",
       "    <tr>\n",
       "      <th>1</th>\n",
       "      <td>447</td>\n",
       "      <td>[22, 22, 22, 11, 11, 11, 11, 11, 11, 11, 11, 1...</td>\n",
       "      <td>[0.49732816, 0.3512036, 0.1496337, 3.9e-05, 1....</td>\n",
       "      <td>[0.0, 0.0, 0.00026759, 3.9e-05, 1.802e-05, 2.7...</td>\n",
       "      <td>[1001, 1001, 1001, 1001, 1001, 1001, 1001, 100...</td>\n",
       "      <td>[0, 0, 0, 0, 0, 0, 0, 0, 0, 0, 0, 0, 0, 0, 0, ...</td>\n",
       "      <td>0.295758</td>\n",
       "      <td>False</td>\n",
       "    </tr>\n",
       "    <tr>\n",
       "      <th>2</th>\n",
       "      <td>489</td>\n",
       "      <td>[22, 11, 11, 11, 11, 11, 11, 11, 11, 11, 11, 1...</td>\n",
       "      <td>[0.22274192, 1.624e-05, 2.94e-05, 2.826e-05, 2...</td>\n",
       "      <td>[0.00049451, 1.624e-05, 2.94e-05, 2.826e-05, 2...</td>\n",
       "      <td>[2008, 2008, 2008, 2008, 2008, 2008, 2008, 200...</td>\n",
       "      <td>[0, 0, 0, 0, 0, 0, 0, 0, 0, 0, 0, 0, 0, 0, 0, ...</td>\n",
       "      <td>0.222742</td>\n",
       "      <td>False</td>\n",
       "    </tr>\n",
       "    <tr>\n",
       "      <th>3</th>\n",
       "      <td>688</td>\n",
       "      <td>[22, 11, 11, 11, 11, 11, 11, 11, 11, 11, 11, 1...</td>\n",
       "      <td>[0.065606065, 3.786e-05, 3.964e-05, 3.786e-05,...</td>\n",
       "      <td>[0.00022692, 3.786e-05, 3.964e-05, 3.786e-05, ...</td>\n",
       "      <td>[1002, 1002, 1002, 1002, 1002, 1002, 1002, 100...</td>\n",
       "      <td>[0, 0, 0, 0, 0, 0, 0, 0, 0, 0, 0, 0, 0, 0, 0, ...</td>\n",
       "      <td>0.065606</td>\n",
       "      <td>False</td>\n",
       "    </tr>\n",
       "    <tr>\n",
       "      <th>4</th>\n",
       "      <td>864</td>\n",
       "      <td>[-12, -12, -12, -12, -12, -12, -12, -12, -12]</td>\n",
       "      <td>[0.6425657, 0.6425657, 0.6425657, 0.6425657, 0...</td>\n",
       "      <td>[0.0, 0.0, 0.0, 0.0, 0.0, 0.0, 0.0, 0.0, 0.0]</td>\n",
       "      <td>[2020, 2019, 2018, 2017, 2016, 2015, 2014, 201...</td>\n",
       "      <td>[0, 0, 0, 0, 0, 0, 0, 0, 0]</td>\n",
       "      <td>0.000000</td>\n",
       "      <td>False</td>\n",
       "    </tr>\n",
       "  </tbody>\n",
       "</table>\n",
       "</div>"
      ],
      "text/plain": [
       "    EV                                               Type  \\\n",
       "0  323                                              [-12]   \n",
       "1  447  [22, 22, 22, 11, 11, 11, 11, 11, 11, 11, 11, 1...   \n",
       "2  489  [22, 11, 11, 11, 11, 11, 11, 11, 11, 11, 11, 1...   \n",
       "3  688  [22, 11, 11, 11, 11, 11, 11, 11, 11, 11, 11, 1...   \n",
       "4  864      [-12, -12, -12, -12, -12, -12, -12, -12, -12]   \n",
       "\n",
       "                                                  E1  \\\n",
       "0                                        [0.5110124]   \n",
       "1  [0.49732816, 0.3512036, 0.1496337, 3.9e-05, 1....   \n",
       "2  [0.22274192, 1.624e-05, 2.94e-05, 2.826e-05, 2...   \n",
       "3  [0.065606065, 3.786e-05, 3.964e-05, 3.786e-05,...   \n",
       "4  [0.6425657, 0.6425657, 0.6425657, 0.6425657, 0...   \n",
       "\n",
       "                                                  D3  \\\n",
       "0                                              [0.0]   \n",
       "1  [0.0, 0.0, 0.00026759, 3.9e-05, 1.802e-05, 2.7...   \n",
       "2  [0.00049451, 1.624e-05, 2.94e-05, 2.826e-05, 2...   \n",
       "3  [0.00022692, 3.786e-05, 3.964e-05, 3.786e-05, ...   \n",
       "4      [0.0, 0.0, 0.0, 0.0, 0.0, 0.0, 0.0, 0.0, 0.0]   \n",
       "\n",
       "                                                  DT  \\\n",
       "0                                             [2020]   \n",
       "1  [1001, 1001, 1001, 1001, 1001, 1001, 1001, 100...   \n",
       "2  [2008, 2008, 2008, 2008, 2008, 2008, 2008, 200...   \n",
       "3  [1002, 1002, 1002, 1002, 1002, 1002, 1002, 100...   \n",
       "4  [2020, 2019, 2018, 2017, 2016, 2015, 2014, 201...   \n",
       "\n",
       "                                                nCap      Edep   flag  \n",
       "0                                                [0]  0.000000  False  \n",
       "1  [0, 0, 0, 0, 0, 0, 0, 0, 0, 0, 0, 0, 0, 0, 0, ...  0.295758  False  \n",
       "2  [0, 0, 0, 0, 0, 0, 0, 0, 0, 0, 0, 0, 0, 0, 0, ...  0.222742  False  \n",
       "3  [0, 0, 0, 0, 0, 0, 0, 0, 0, 0, 0, 0, 0, 0, 0, ...  0.065606  False  \n",
       "4                        [0, 0, 0, 0, 0, 0, 0, 0, 0]  0.000000  False  "
      ]
     },
     "execution_count": 5,
     "metadata": {},
     "output_type": "execute_result"
    }
   ],
   "source": [
    "dir_ = '/Users/shubhampandey/work/geant4/k100sim_anthony/sim_files'\n",
    "if(save_dir == \"no_shield\"):\n",
    "    inFile_k100 = '%s/sim_500k_events_no_shield.root'%(dir_)\n",
    "elif(save_dir == \"with_shield\"):\n",
    "    inFile_k100 = '%s/sim_500k_events_boron_shield_1inch_v1.root'%(dir_)\n",
    "else:\n",
    "    print(\"Incorrect option\")\n",
    "\n",
    "file_k100 = uproot.open(inFile_k100)\n",
    "if(not file_k100):\n",
    "    print(\"could not open file: %s\"%(inFile_k100))\n",
    "    sys.exit(0)\n",
    "    \n",
    "tree_k100 = file_k100[\"simtree\"]\n",
    "\n",
    "if(not tree_k100):\n",
    "    print(\"simtree does not exist in file: %s\"%(file_k100))\n",
    "    sys.exit(0)\n",
    "\n",
    "EV = tree_k100[\"EV\"].array(library=\"np\")\n",
    "EV = EV - 1\n",
    "Type = tree_k100[\"Type\"].array(library=\"np\")\n",
    "E1 = tree_k100[\"E1\"].array(library=\"np\")\n",
    "D3 = tree_k100[\"D3\"].array(library=\"np\")\n",
    "DT = tree_k100[\"DT\"].array(library=\"np\")\n",
    "nCap = tree_k100[\"nCap\"].array(library=\"np\")\n",
    "\n",
    "k100 = pd.DataFrame( {'EV' : EV,\n",
    "                  'Type' : Type,\n",
    "                  'E1' : E1,\n",
    "                  'D3' : D3,\n",
    "                      'DT' : DT,\n",
    "                     'nCap' : nCap}\n",
    "                 )\n",
    "k100['Edep'] = k100.D3.map(sum)\n",
    "k100['flag'] = k100.nCap.map(sum).astype(bool)\n",
    "k100.head(5)\n"
   ]
  },
  {
   "cell_type": "code",
   "execution_count": 6,
   "id": "7cb7ef8d",
   "metadata": {},
   "outputs": [
    {
     "data": {
      "image/png": "[encoded data removed]",
      "text/plain": [
       "<Figure size 1008x432 with 1 Axes>"
      ]
     },
     "metadata": {
      "needs_background": "light"
     },
     "output_type": "display_data"
    }
   ],
   "source": [
    "#k100[k100.flag == True]\n",
    "# plt.hist(k100[k100.flag == True].Edep,bins=100, range=[0,20], alpha=0.5,label='nCap NaI')\n",
    "# plt.hist(k100[k100.flag == False].Edep,bins=100, range=[0,20], alpha=0.5,label='Non-nCap NaI')\n",
    "fig = plt.figure(figsize=(14.0,6.0))\n",
    "plt.hist(k100.Edep,bins=100, range=[0,20], alpha=0.5,label='All')\n",
    "\n",
    "plt.xlabel('Edep [MeV]')\n",
    "plt.ylabel('counts')\n",
    "plt.legend()\n",
    "plt.yscale('log')\n",
    "#plt.title(\"Energy deposited in CE-E+CE-H+AHCAL\")"
   ]
  },
  {
   "cell_type": "raw",
   "id": "8689ca4d",
   "metadata": {},
   "source": [
    "#[i for i in zip(k100.D3.iloc[1],k100.DT.iloc[1])]\n",
    "#np.unique(k100.DT.iloc[1],return_index=True)\n",
    "evnt = 3\n",
    "temp = np.dstack((k100.DT.iloc[evnt],k100.D3.iloc[evnt]))\n",
    "#temp\n",
    "a,b=np.unique(k100.DT.iloc[evnt],return_index = True)\n",
    "(k100.D3.iloc[evnt])[b]\n",
    "#np.split(a[:,1], np.unique(a[:,0], return_index = True)[1])[1:]\n",
    "#np.split(temp[:,1], np.unique(temp[:, 0], return_index=True)[1][1:])"
   ]
  },
  {
   "cell_type": "raw",
   "id": "2a9fdf48",
   "metadata": {},
   "source": [
    "evnt = 4\n",
    "#a = (np.dstack((k100.DT.iloc[evnt],k100.D3.iloc[evnt])))[0]\n",
    "a = zip(k100.DT.iloc[evnt],k100.D3.iloc[evnt])\n",
    "temp = {}\n",
    "for i in a:\n",
    "    if(i[0] in temp):\n",
    "        temp[i[0]] += i[1]\n",
    "    else:\n",
    "        temp[i[0]] = i[1]\n",
    "print (temp)\n",
    "b = np.array([temp[i] for i in temp.keys()])\n",
    "print(type(b[0]))\n",
    "print(type(b.astype(float)))\n",
    "# a = a[a[:, 0].argsort()]\n",
    "# np.split(a[:,1], np.unique(a[:,0], return_index = True)[1])[1:]"
   ]
  },
  {
   "cell_type": "code",
   "execution_count": 7,
   "id": "8090846e",
   "metadata": {},
   "outputs": [],
   "source": [
    "def tile_energy(df_):\n",
    "    a = (np.dstack((df_.DT,df_.D3)))[0]\n",
    "    #print (a)\n",
    "    temp = {}\n",
    "    for i in a:\n",
    "        if(i[0] in temp):\n",
    "            temp[i[0]] += i[1]\n",
    "        else:\n",
    "            temp[i[0]] = i[1]\n",
    "    #print (temp)\n",
    "    return np.array([temp[i] for i in temp.keys()])"
   ]
  },
  {
   "cell_type": "code",
   "execution_count": 8,
   "id": "c28e5549",
   "metadata": {},
   "outputs": [],
   "source": [
    "k100['tile_energy'] = k100.apply(tile_energy,axis=1)"
   ]
  },
  {
   "cell_type": "code",
   "execution_count": 9,
   "id": "cb550fb3",
   "metadata": {},
   "outputs": [
    {
     "data": {
      "text/plain": [
       "0       0.000000\n",
       "1       0.295758\n",
       "2       0.222742\n",
       "3       0.065606\n",
       "4       0.000000\n",
       "          ...   \n",
       "3190    1.070370\n",
       "3191    0.001573\n",
       "3192    0.219431\n",
       "3193    0.000000\n",
       "3194    8.403664\n",
       "Name: tile_energy, Length: 3195, dtype: float64"
      ]
     },
     "execution_count": 9,
     "metadata": {},
     "output_type": "execute_result"
    }
   ],
   "source": [
    "#type(k100.tile_energy[0][0])\n",
    "#np.sum(k100.tile_energy,axis=1)\n",
    "k100.tile_energy.map(sum)"
   ]
  },
  {
   "cell_type": "code",
   "execution_count": 10,
   "id": "6e68962c",
   "metadata": {},
   "outputs": [
    {
     "data": {
      "text/html": [
       "<div>\n",
       "<style scoped>\n",
       "    .dataframe tbody tr th:only-of-type {\n",
       "        vertical-align: middle;\n",
       "    }\n",
       "\n",
       "    .dataframe tbody tr th {\n",
       "        vertical-align: top;\n",
       "    }\n",
       "\n",
       "    .dataframe thead th {\n",
       "        text-align: right;\n",
       "    }\n",
       "</style>\n",
       "<table border=\"1\" class=\"dataframe\">\n",
       "  <thead>\n",
       "    <tr style=\"text-align: right;\">\n",
       "      <th></th>\n",
       "      <th>EV</th>\n",
       "      <th>Type</th>\n",
       "      <th>E1</th>\n",
       "      <th>D3</th>\n",
       "      <th>DT</th>\n",
       "      <th>nCap</th>\n",
       "      <th>Edep</th>\n",
       "      <th>flag</th>\n",
       "      <th>tile_energy</th>\n",
       "    </tr>\n",
       "  </thead>\n",
       "  <tbody>\n",
       "    <tr>\n",
       "      <th>0</th>\n",
       "      <td>323</td>\n",
       "      <td>[-12]</td>\n",
       "      <td>[0.5110124]</td>\n",
       "      <td>[0.0]</td>\n",
       "      <td>[2020]</td>\n",
       "      <td>[0]</td>\n",
       "      <td>0.000000</td>\n",
       "      <td>False</td>\n",
       "      <td>[0.0]</td>\n",
       "    </tr>\n",
       "    <tr>\n",
       "      <th>1</th>\n",
       "      <td>447</td>\n",
       "      <td>[22, 22, 22, 11, 11, 11, 11, 11, 11, 11, 11, 1...</td>\n",
       "      <td>[0.49732816, 0.3512036, 0.1496337, 3.9e-05, 1....</td>\n",
       "      <td>[0.0, 0.0, 0.00026759, 3.9e-05, 1.802e-05, 2.7...</td>\n",
       "      <td>[1001, 1001, 1001, 1001, 1001, 1001, 1001, 100...</td>\n",
       "      <td>[0, 0, 0, 0, 0, 0, 0, 0, 0, 0, 0, 0, 0, 0, 0, ...</td>\n",
       "      <td>0.295758</td>\n",
       "      <td>False</td>\n",
       "      <td>[0.2957582610506506]</td>\n",
       "    </tr>\n",
       "    <tr>\n",
       "      <th>2</th>\n",
       "      <td>489</td>\n",
       "      <td>[22, 11, 11, 11, 11, 11, 11, 11, 11, 11, 11, 1...</td>\n",
       "      <td>[0.22274192, 1.624e-05, 2.94e-05, 2.826e-05, 2...</td>\n",
       "      <td>[0.00049451, 1.624e-05, 2.94e-05, 2.826e-05, 2...</td>\n",
       "      <td>[2008, 2008, 2008, 2008, 2008, 2008, 2008, 200...</td>\n",
       "      <td>[0, 0, 0, 0, 0, 0, 0, 0, 0, 0, 0, 0, 0, 0, 0, ...</td>\n",
       "      <td>0.222742</td>\n",
       "      <td>False</td>\n",
       "      <td>[0.22274192248369218]</td>\n",
       "    </tr>\n",
       "    <tr>\n",
       "      <th>3</th>\n",
       "      <td>688</td>\n",
       "      <td>[22, 11, 11, 11, 11, 11, 11, 11, 11, 11, 11, 1...</td>\n",
       "      <td>[0.065606065, 3.786e-05, 3.964e-05, 3.786e-05,...</td>\n",
       "      <td>[0.00022692, 3.786e-05, 3.964e-05, 3.786e-05, ...</td>\n",
       "      <td>[1002, 1002, 1002, 1002, 1002, 1002, 1002, 100...</td>\n",
       "      <td>[0, 0, 0, 0, 0, 0, 0, 0, 0, 0, 0, 0, 0, 0, 0, ...</td>\n",
       "      <td>0.065606</td>\n",
       "      <td>False</td>\n",
       "      <td>[0.0656060671844898]</td>\n",
       "    </tr>\n",
       "    <tr>\n",
       "      <th>4</th>\n",
       "      <td>864</td>\n",
       "      <td>[-12, -12, -12, -12, -12, -12, -12, -12, -12]</td>\n",
       "      <td>[0.6425657, 0.6425657, 0.6425657, 0.6425657, 0...</td>\n",
       "      <td>[0.0, 0.0, 0.0, 0.0, 0.0, 0.0, 0.0, 0.0, 0.0]</td>\n",
       "      <td>[2020, 2019, 2018, 2017, 2016, 2015, 2014, 201...</td>\n",
       "      <td>[0, 0, 0, 0, 0, 0, 0, 0, 0]</td>\n",
       "      <td>0.000000</td>\n",
       "      <td>False</td>\n",
       "      <td>[0.0, 0.0, 0.0, 0.0, 0.0, 0.0, 0.0, 0.0, 0.0]</td>\n",
       "    </tr>\n",
       "  </tbody>\n",
       "</table>\n",
       "</div>"
      ],
      "text/plain": [
       "    EV                                               Type  \\\n",
       "0  323                                              [-12]   \n",
       "1  447  [22, 22, 22, 11, 11, 11, 11, 11, 11, 11, 11, 1...   \n",
       "2  489  [22, 11, 11, 11, 11, 11, 11, 11, 11, 11, 11, 1...   \n",
       "3  688  [22, 11, 11, 11, 11, 11, 11, 11, 11, 11, 11, 1...   \n",
       "4  864      [-12, -12, -12, -12, -12, -12, -12, -12, -12]   \n",
       "\n",
       "                                                  E1  \\\n",
       "0                                        [0.5110124]   \n",
       "1  [0.49732816, 0.3512036, 0.1496337, 3.9e-05, 1....   \n",
       "2  [0.22274192, 1.624e-05, 2.94e-05, 2.826e-05, 2...   \n",
       "3  [0.065606065, 3.786e-05, 3.964e-05, 3.786e-05,...   \n",
       "4  [0.6425657, 0.6425657, 0.6425657, 0.6425657, 0...   \n",
       "\n",
       "                                                  D3  \\\n",
       "0                                              [0.0]   \n",
       "1  [0.0, 0.0, 0.00026759, 3.9e-05, 1.802e-05, 2.7...   \n",
       "2  [0.00049451, 1.624e-05, 2.94e-05, 2.826e-05, 2...   \n",
       "3  [0.00022692, 3.786e-05, 3.964e-05, 3.786e-05, ...   \n",
       "4      [0.0, 0.0, 0.0, 0.0, 0.0, 0.0, 0.0, 0.0, 0.0]   \n",
       "\n",
       "                                                  DT  \\\n",
       "0                                             [2020]   \n",
       "1  [1001, 1001, 1001, 1001, 1001, 1001, 1001, 100...   \n",
       "2  [2008, 2008, 2008, 2008, 2008, 2008, 2008, 200...   \n",
       "3  [1002, 1002, 1002, 1002, 1002, 1002, 1002, 100...   \n",
       "4  [2020, 2019, 2018, 2017, 2016, 2015, 2014, 201...   \n",
       "\n",
       "                                                nCap      Edep   flag  \\\n",
       "0                                                [0]  0.000000  False   \n",
       "1  [0, 0, 0, 0, 0, 0, 0, 0, 0, 0, 0, 0, 0, 0, 0, ...  0.295758  False   \n",
       "2  [0, 0, 0, 0, 0, 0, 0, 0, 0, 0, 0, 0, 0, 0, 0, ...  0.222742  False   \n",
       "3  [0, 0, 0, 0, 0, 0, 0, 0, 0, 0, 0, 0, 0, 0, 0, ...  0.065606  False   \n",
       "4                        [0, 0, 0, 0, 0, 0, 0, 0, 0]  0.000000  False   \n",
       "\n",
       "                                     tile_energy  \n",
       "0                                          [0.0]  \n",
       "1                           [0.2957582610506506]  \n",
       "2                          [0.22274192248369218]  \n",
       "3                           [0.0656060671844898]  \n",
       "4  [0.0, 0.0, 0.0, 0.0, 0.0, 0.0, 0.0, 0.0, 0.0]  "
      ]
     },
     "execution_count": 10,
     "metadata": {},
     "output_type": "execute_result"
    }
   ],
   "source": [
    "k100.head()"
   ]
  },
  {
   "cell_type": "code",
   "execution_count": 11,
   "id": "5dc2dfbf",
   "metadata": {},
   "outputs": [
    {
     "data": {
      "text/plain": [
       "50"
      ]
     },
     "execution_count": 11,
     "metadata": {},
     "output_type": "execute_result"
    }
   ],
   "source": [
    "len(k100[(k100.flag == True) & (k100.Edep > 5.)].Edep)"
   ]
  },
  {
   "cell_type": "code",
   "execution_count": 12,
   "id": "8ded043f",
   "metadata": {},
   "outputs": [
    {
     "data": {
      "text/plain": [
       "Text(0.5, 1.0, 'Sanity check')"
      ]
     },
     "execution_count": 12,
     "metadata": {},
     "output_type": "execute_result"
    },
    {
     "data": {
      "image/png": "[encoded data removed]",
      "text/plain": [
       "<Figure size 1008x432 with 1 Axes>"
      ]
     },
     "metadata": {
      "needs_background": "light"
     },
     "output_type": "display_data"
    }
   ],
   "source": [
    "fig = plt.figure(figsize=(14.0,6.0))\n",
    "plt.hist(k100.tile_energy.map(sum),bins=100, range=[0,20], alpha=0.5,label='Edep in tiles')\n",
    "plt.hist(k100.Edep,bins=100, range=[0,20], alpha=0.5,label='Total Edep')\n",
    "\n",
    "plt.xlabel('Edep [MeV]')\n",
    "plt.ylabel('counts')\n",
    "plt.legend()\n",
    "plt.yscale('log')\n",
    "plt.title(\"Sanity check\")"
   ]
  },
  {
   "cell_type": "code",
   "execution_count": 13,
   "id": "71e8cb5e",
   "metadata": {},
   "outputs": [
    {
     "data": {
      "image/png": "[encoded data removed]",
      "text/plain": [
       "<IPython.core.display.Image object>"
      ]
     },
     "metadata": {},
     "output_type": "display_data"
    }
   ],
   "source": [
    "c = rt.TCanvas()\n",
    "h_tile_energy = rt.TH1F(\"h_tile_energy\",\"h_tile_energy\",200,0,20)\n",
    "\n",
    "for i in (k100.tile_energy[k100.flag == False]):\n",
    "    for j in i:\n",
    "        h_tile_energy.Fill(j)\n",
    "\n",
    "h_tile_energy.Draw()\n",
    "rt.gPad.SetLogy()\n",
    "c.Draw()\n"
   ]
  },
  {
   "cell_type": "code",
   "execution_count": 14,
   "id": "d25c4de5",
   "metadata": {},
   "outputs": [
    {
     "data": {
      "image/png": "[encoded data removed]",
      "text/plain": [
       "<IPython.core.display.Image object>"
      ]
     },
     "metadata": {},
     "output_type": "display_data"
    }
   ],
   "source": [
    "c = rt.TCanvas()\n",
    "h_tile_energy_NonNcapNaI = rt.TH1F(\"h_tile_energy_NonNcapNaI\",\"h_tile_energy_NonNcapNaI\",200,0,20)\n",
    "\n",
    "for i in (k100.tile_energy[k100.flag == False]):\n",
    "    for j in i:\n",
    "        h_tile_energy_NonNcapNaI.Fill(j)\n",
    "\n",
    "h_tile_energy_NonNcapNaI.Draw()\n",
    "rt.gPad.SetLogy()\n",
    "c.Draw()\n"
   ]
  },
  {
   "cell_type": "code",
   "execution_count": 15,
   "id": "e6e93166",
   "metadata": {},
   "outputs": [
    {
     "data": {
      "image/png": "[encoded data removed]",
      "text/plain": [
       "<IPython.core.display.Image object>"
      ]
     },
     "metadata": {},
     "output_type": "display_data"
    }
   ],
   "source": [
    "c = rt.TCanvas()\n",
    "h_tile_energy_NCapNaI = rt.TH1F(\"h_tile_energy_NCapNaI\",\"h_tile_energy_NCapNaI\",200,0,20)\n",
    "\n",
    "for i in (k100.tile_energy[k100.flag == True]):\n",
    "    for j in i:\n",
    "        h_tile_energy_NCapNaI.Fill(j)\n",
    "\n",
    "h_tile_energy_NCapNaI.Draw()\n",
    "rt.gPad.SetLogy()\n",
    "c.Draw()\n"
   ]
  },
  {
   "cell_type": "code",
   "execution_count": null,
   "id": "c3d4df88",
   "metadata": {},
   "outputs": [],
   "source": []
  },
  {
   "cell_type": "code",
   "execution_count": 16,
   "id": "9619c9f0",
   "metadata": {},
   "outputs": [
    {
     "name": "stdout",
     "output_type": "stream",
     "text": [
      "Loaded file: /Users/shubhampandey/work/geant4/k100sim_anthony/sim_files/Nsc_k100_500k_events_boron_shield_1inch_v1.root\n"
     ]
    }
   ],
   "source": [
    "if(save_dir==\"no_shield\"):\n",
    "    inFile_nsc = '%s/Nsc_k100_500k_events_no_shield.root'%(dir_)\n",
    "elif(save_dir==\"with_shield\"):\n",
    "    inFile_nsc = '%s/Nsc_k100_500k_events_boron_shield_1inch_v1.root'%(dir_)\n",
    "else:\n",
    "    print(\"Incorrect directory\")\n",
    "\n",
    "file_nsc = uproot.open(inFile_nsc)\n",
    "if(not file_nsc):\n",
    "    print(\"could not open file: %s\"%(inFile_nsc))\n",
    "    sys.exit(0)\n",
    "else:\n",
    "    print(\"Loaded file: %s\"%(inFile_nsc))\n",
    "tree_nsc = file_nsc[\"nCapInfo\"]\n",
    "\n",
    "if(not tree_nsc):\n",
    "    print(\"nCapInfo does not exist in file: %s\"%(file_nsc))\n",
    "    sys.exit(0)\n",
    "\n",
    "save_ = False\n",
    "textOnTop = rt.TLatex()\n",
    "textOnTop.SetTextSize(0.05)"
   ]
  },
  {
   "cell_type": "markdown",
   "id": "8e7e121d",
   "metadata": {},
   "source": [
    "### livetime : 21.8 seconds for 50 M events"
   ]
  },
  {
   "cell_type": "code",
   "execution_count": 17,
   "id": "ae02eb7a",
   "metadata": {},
   "outputs": [
    {
     "name": "stdout",
     "output_type": "stream",
     "text": [
      "Total livetime =  0.218 seconds\n"
     ]
    }
   ],
   "source": [
    "livetime = 0.5 * (21.8/50)\n",
    "print (\"Total livetime = \",livetime,\"seconds\")"
   ]
  },
  {
   "cell_type": "raw",
   "id": "13d49433",
   "metadata": {
    "scrolled": true
   },
   "source": [
    "tree_k100.show()\n",
    "#save_ = True"
   ]
  },
  {
   "cell_type": "code",
   "execution_count": 18,
   "id": "1f73c778",
   "metadata": {},
   "outputs": [],
   "source": [
    "# From k100sim\n",
    "ev = tree_nsc[\"fEvent\"].array(library=\"np\")\n",
    "neutron = tree_nsc[\"fNeutron_energy\"].array(library=\"np\")\n",
    "pdg = tree_nsc[\"fPDGID\"].array(library=\"np\")\n",
    "sec_KE = tree_nsc[\"fsec_KE\"].array(library=\"np\")\n",
    "\n",
    "# canvas\n",
    "c = rt.TCanvas(\"c\",\"c\",800,600)"
   ]
  },
  {
   "cell_type": "code",
   "execution_count": 19,
   "id": "cfafa325",
   "metadata": {},
   "outputs": [
    {
     "data": {
      "text/html": [
       "<div>\n",
       "<style scoped>\n",
       "    .dataframe tbody tr th:only-of-type {\n",
       "        vertical-align: middle;\n",
       "    }\n",
       "\n",
       "    .dataframe tbody tr th {\n",
       "        vertical-align: top;\n",
       "    }\n",
       "\n",
       "    .dataframe thead th {\n",
       "        text-align: right;\n",
       "    }\n",
       "</style>\n",
       "<table border=\"1\" class=\"dataframe\">\n",
       "  <thead>\n",
       "    <tr style=\"text-align: right;\">\n",
       "      <th></th>\n",
       "      <th>fEvent</th>\n",
       "      <th>fNeutron_energy</th>\n",
       "      <th>fPDGID</th>\n",
       "      <th>fsec_KE</th>\n",
       "    </tr>\n",
       "  </thead>\n",
       "  <tbody>\n",
       "    <tr>\n",
       "      <th>0</th>\n",
       "      <td>0</td>\n",
       "      <td>1.459830e-08</td>\n",
       "      <td>22</td>\n",
       "      <td>7.631125</td>\n",
       "    </tr>\n",
       "    <tr>\n",
       "      <th>1</th>\n",
       "      <td>0</td>\n",
       "      <td>1.459830e-08</td>\n",
       "      <td>11</td>\n",
       "      <td>0.007312</td>\n",
       "    </tr>\n",
       "    <tr>\n",
       "      <th>2</th>\n",
       "      <td>0</td>\n",
       "      <td>1.459830e-08</td>\n",
       "      <td>260570</td>\n",
       "      <td>0.000543</td>\n",
       "    </tr>\n",
       "    <tr>\n",
       "      <th>3</th>\n",
       "      <td>1</td>\n",
       "      <td>5.765503e-08</td>\n",
       "      <td>22</td>\n",
       "      <td>7.631127</td>\n",
       "    </tr>\n",
       "    <tr>\n",
       "      <th>4</th>\n",
       "      <td>1</td>\n",
       "      <td>5.765503e-08</td>\n",
       "      <td>11</td>\n",
       "      <td>0.007301</td>\n",
       "    </tr>\n",
       "    <tr>\n",
       "      <th>5</th>\n",
       "      <td>1</td>\n",
       "      <td>5.765503e-08</td>\n",
       "      <td>260570</td>\n",
       "      <td>0.000551</td>\n",
       "    </tr>\n",
       "    <tr>\n",
       "      <th>6</th>\n",
       "      <td>2</td>\n",
       "      <td>1.478395e-08</td>\n",
       "      <td>22</td>\n",
       "      <td>6.110989</td>\n",
       "    </tr>\n",
       "    <tr>\n",
       "      <th>7</th>\n",
       "      <td>2</td>\n",
       "      <td>1.478395e-08</td>\n",
       "      <td>22</td>\n",
       "      <td>0.517069</td>\n",
       "    </tr>\n",
       "    <tr>\n",
       "      <th>8</th>\n",
       "      <td>2</td>\n",
       "      <td>1.478395e-08</td>\n",
       "      <td>22</td>\n",
       "      <td>0.786380</td>\n",
       "    </tr>\n",
       "    <tr>\n",
       "      <th>9</th>\n",
       "      <td>2</td>\n",
       "      <td>1.478395e-08</td>\n",
       "      <td>22</td>\n",
       "      <td>1.164673</td>\n",
       "    </tr>\n",
       "  </tbody>\n",
       "</table>\n",
       "</div>"
      ],
      "text/plain": [
       "   fEvent  fNeutron_energy  fPDGID   fsec_KE\n",
       "0       0     1.459830e-08      22  7.631125\n",
       "1       0     1.459830e-08      11  0.007312\n",
       "2       0     1.459830e-08  260570  0.000543\n",
       "3       1     5.765503e-08      22  7.631127\n",
       "4       1     5.765503e-08      11  0.007301\n",
       "5       1     5.765503e-08  260570  0.000551\n",
       "6       2     1.478395e-08      22  6.110989\n",
       "7       2     1.478395e-08      22  0.517069\n",
       "8       2     1.478395e-08      22  0.786380\n",
       "9       2     1.478395e-08      22  1.164673"
      ]
     },
     "execution_count": 19,
     "metadata": {},
     "output_type": "execute_result"
    }
   ],
   "source": [
    "\n",
    "df = pd.DataFrame( {'fEvent' : ev,\n",
    "                  'fNeutron_energy' : neutron,\n",
    "                  'fPDGID' : pdg,\n",
    "                  'fsec_KE' : sec_KE}\n",
    "                 )\n",
    "df.head(10)"
   ]
  },
  {
   "cell_type": "raw",
   "id": "e955f289",
   "metadata": {},
   "source": [
    "df1 = df[(df.fPDGID != 22) & (df.fPDGID != 11)]\n",
    "iso_cap_frac_all = (df1['fPDGID'].value_counts(normalize=True))*100\n",
    "\n",
    "\n",
    "ii = (iso_cap_frac_all.index/10000).astype('int')\n",
    "newIndex = [elements[elements.AtomicNumber == i].Symbol.iloc[0] for i in ii]\n",
    "#iso_cap_frac_all = iso_cap_frac_all.set_axis(newIndex,axis=0)\n",
    "Z = ((iso_cap_frac_all.index/10).astype('int'))%1000\n",
    "[i+\"-\"+str(Z[j]-1)for j,i in enumerate(newIndex)]\n",
    "#((iso_cap_frac_all.index/10).astype('int'))%100\n",
    "#((iso_cap_frac_all.index/10).astype('int'))%1000"
   ]
  },
  {
   "cell_type": "code",
   "execution_count": 20,
   "id": "c1b0cc3e",
   "metadata": {},
   "outputs": [
    {
     "data": {
      "text/html": [
       "<div>\n",
       "<style scoped>\n",
       "    .dataframe tbody tr th:only-of-type {\n",
       "        vertical-align: middle;\n",
       "    }\n",
       "\n",
       "    .dataframe tbody tr th {\n",
       "        vertical-align: top;\n",
       "    }\n",
       "\n",
       "    .dataframe thead th {\n",
       "        text-align: right;\n",
       "    }\n",
       "</style>\n",
       "<table border=\"1\" class=\"dataframe\">\n",
       "  <thead>\n",
       "    <tr style=\"text-align: right;\">\n",
       "      <th></th>\n",
       "      <th>fEvent</th>\n",
       "      <th>fNeutron_energy</th>\n",
       "      <th>fPDGID</th>\n",
       "      <th>fsec_KE</th>\n",
       "    </tr>\n",
       "  </thead>\n",
       "  <tbody>\n",
       "    <tr>\n",
       "      <th>2</th>\n",
       "      <td>0</td>\n",
       "      <td>1.459830e-08</td>\n",
       "      <td>260570</td>\n",
       "      <td>0.000543</td>\n",
       "    </tr>\n",
       "    <tr>\n",
       "      <th>5</th>\n",
       "      <td>1</td>\n",
       "      <td>5.765503e-08</td>\n",
       "      <td>260570</td>\n",
       "      <td>0.000551</td>\n",
       "    </tr>\n",
       "    <tr>\n",
       "      <th>10</th>\n",
       "      <td>2</td>\n",
       "      <td>1.478395e-08</td>\n",
       "      <td>170360</td>\n",
       "      <td>0.000702</td>\n",
       "    </tr>\n",
       "    <tr>\n",
       "      <th>12</th>\n",
       "      <td>3</td>\n",
       "      <td>1.737362e-09</td>\n",
       "      <td>10020</td>\n",
       "      <td>0.001317</td>\n",
       "    </tr>\n",
       "    <tr>\n",
       "      <th>14</th>\n",
       "      <td>6</td>\n",
       "      <td>1.566871e-07</td>\n",
       "      <td>10020</td>\n",
       "      <td>0.001309</td>\n",
       "    </tr>\n",
       "    <tr>\n",
       "      <th>...</th>\n",
       "      <td>...</td>\n",
       "      <td>...</td>\n",
       "      <td>...</td>\n",
       "      <td>...</td>\n",
       "    </tr>\n",
       "    <tr>\n",
       "      <th>682013</th>\n",
       "      <td>499992</td>\n",
       "      <td>1.319586e-08</td>\n",
       "      <td>10020</td>\n",
       "      <td>0.001315</td>\n",
       "    </tr>\n",
       "    <tr>\n",
       "      <th>682015</th>\n",
       "      <td>499995</td>\n",
       "      <td>4.879837e-08</td>\n",
       "      <td>10020</td>\n",
       "      <td>0.001313</td>\n",
       "    </tr>\n",
       "    <tr>\n",
       "      <th>682017</th>\n",
       "      <td>499996</td>\n",
       "      <td>1.652188e-08</td>\n",
       "      <td>10020</td>\n",
       "      <td>0.001305</td>\n",
       "    </tr>\n",
       "    <tr>\n",
       "      <th>682019</th>\n",
       "      <td>499998</td>\n",
       "      <td>9.722487e-08</td>\n",
       "      <td>10020</td>\n",
       "      <td>0.001312</td>\n",
       "    </tr>\n",
       "    <tr>\n",
       "      <th>682022</th>\n",
       "      <td>499999</td>\n",
       "      <td>7.332426e-08</td>\n",
       "      <td>822080</td>\n",
       "      <td>0.000145</td>\n",
       "    </tr>\n",
       "  </tbody>\n",
       "</table>\n",
       "<p>299331 rows × 4 columns</p>\n",
       "</div>"
      ],
      "text/plain": [
       "        fEvent  fNeutron_energy  fPDGID   fsec_KE\n",
       "2            0     1.459830e-08  260570  0.000543\n",
       "5            1     5.765503e-08  260570  0.000551\n",
       "10           2     1.478395e-08  170360  0.000702\n",
       "12           3     1.737362e-09   10020  0.001317\n",
       "14           6     1.566871e-07   10020  0.001309\n",
       "...        ...              ...     ...       ...\n",
       "682013  499992     1.319586e-08   10020  0.001315\n",
       "682015  499995     4.879837e-08   10020  0.001313\n",
       "682017  499996     1.652188e-08   10020  0.001305\n",
       "682019  499998     9.722487e-08   10020  0.001312\n",
       "682022  499999     7.332426e-08  822080  0.000145\n",
       "\n",
       "[299331 rows x 4 columns]"
      ]
     },
     "execution_count": 20,
     "metadata": {},
     "output_type": "execute_result"
    }
   ],
   "source": [
    "df1 = df[(df.fPDGID != 22) & (df.fPDGID != 11)]\n",
    "df1"
   ]
  },
  {
   "cell_type": "code",
   "execution_count": 22,
   "id": "139f5b77",
   "metadata": {},
   "outputs": [
    {
     "name": "stdout",
     "output_type": "stream",
     "text": [
      "10020     83.012117\n",
      "260570     7.506406\n",
      "140290     1.658699\n",
      "130280     1.180299\n",
      "200410     1.083750\n",
      "822080     1.079741\n",
      "160330     1.007580\n",
      "60130      0.823503\n",
      "170360     0.684192\n",
      "190400     0.470048\n",
      "260550     0.434636\n",
      "110240     0.259579\n",
      "260580     0.172718\n",
      "822050     0.085858\n",
      "822070     0.068820\n",
      "140300     0.062473\n",
      "200450     0.058464\n",
      "140310     0.043096\n",
      "531280     0.036080\n",
      "70150      0.033074\n",
      "240540     0.028731\n",
      "200440     0.026058\n",
      "190420     0.025724\n",
      "160350     0.021381\n",
      "280590     0.017038\n",
      "250560     0.017038\n",
      "200430     0.014031\n",
      "240530     0.011025\n",
      "80170      0.011025\n",
      "260590     0.010691\n",
      "200490     0.009354\n",
      "240510     0.008686\n",
      "822090     0.006347\n",
      "280610     0.005011\n",
      "280630     0.004677\n",
      "160340     0.004343\n",
      "60140      0.004343\n",
      "290640     0.004009\n",
      "170380     0.002673\n",
      "180410     0.002004\n",
      "120250     0.002004\n",
      "120260     0.001336\n",
      "190410     0.000668\n",
      "290660     0.000334\n",
      "200470     0.000334\n",
      "Name: fPDGID, dtype: float64\n"
     ]
    },
    {
     "data": {
      "text/plain": [
       "Text(5, 80, 'All captures (with_shield)')"
      ]
     },
     "execution_count": 22,
     "metadata": {},
     "output_type": "execute_result"
    },
    {
     "data": {
      "image/png": "[encoded data removed]",
      "text/plain": [
       "<Figure size 1008x432 with 1 Axes>"
      ]
     },
     "metadata": {
      "needs_background": "light"
     },
     "output_type": "display_data"
    }
   ],
   "source": [
    "df1 = df[(df.fPDGID != 22) & (df.fPDGID != 11)]\n",
    "iso_cap_frac_all = (df1['fPDGID'].value_counts(normalize=True))*100\n",
    "print(iso_cap_frac_all)\n",
    "\n",
    "ii = (iso_cap_frac_all.index/10000).astype('int')\n",
    "# newIndex = [elements[elements.AtomicNumber == i].Symbol.iloc[0] for i in ii]\n",
    "# Z = ((iso_cap_frac_all.index/10).astype('int'))%1000\n",
    "# newIndex_withZ = [i+\"-\"+str(Z[j]-1)for j,i in enumerate(newIndex)]\n",
    "# iso_cap_frac_all = iso_cap_frac_all.set_axis(newIndex_withZ,axis=0)\n",
    "#iso_cap_frac_all\n",
    "fig = plt.figure(figsize=(14.0,6.0))\n",
    "iso_cap_frac_all[iso_cap_frac_all > 0.1].plot(kind='bar')\n",
    "plt.xlabel('Capture on element')\n",
    "plt.ylabel('Event fraction [%]')\n",
    "plt.text(5, 80, 'All captures (%s)'%(save_dir),fontsize='xx-large')"
   ]
  },
  {
   "cell_type": "code",
   "execution_count": 17,
   "id": "ff09610d",
   "metadata": {},
   "outputs": [
    {
     "data": {
      "image/png": "[encoded data removed]",
      "text/plain": [
       "<Figure size 1008x432 with 1 Axes>"
      ]
     },
     "metadata": {
      "needs_background": "light"
     },
     "output_type": "display_data"
    }
   ],
   "source": [
    "df1 = df[(df.fPDGID != 22) & (df.fPDGID != 11)]\n",
    "iso_cap_frac_all = (df1['fPDGID'].value_counts(normalize=True))*100\n",
    "\n",
    "\n",
    "ii = (iso_cap_frac_all.index/10000).astype('int')\n",
    "newIndex = [elements[elements.AtomicNumber == i].Symbol.iloc[0] for i in ii]\n",
    "Z = ((iso_cap_frac_all.index/10).astype('int'))%1000\n",
    "newIndex_withZ = [i+\"-\"+str(Z[j]-1)for j,i in enumerate(newIndex)]\n",
    "iso_cap_frac_all = iso_cap_frac_all.set_axis(newIndex_withZ,axis=0)\n",
    "#iso_cap_frac_all\n",
    "fig = plt.figure(figsize=(14.0,6.0))\n",
    "iso_cap_frac_all[iso_cap_frac_all > 0.1].plot(kind='bar')\n",
    "plt.xlabel('Capture on element')\n",
    "plt.ylabel('Event fraction [%]')\n",
    "plt.text(5, 80, 'All captures (%s)'%(save_dir),fontsize='xx-large')\n",
    "\n",
    "if(save_):\n",
    "    plt.savefig(\"%s/All_captures.png\"%(save_dir))\n",
    "    print(\"Figure saved: %s/All_captures.png\"%(save_dir))\n",
    "\n",
    "plt.show()"
   ]
  },
  {
   "cell_type": "code",
   "execution_count": null,
   "id": "64d701a8",
   "metadata": {},
   "outputs": [],
   "source": []
  },
  {
   "cell_type": "code",
   "execution_count": 18,
   "id": "6f279c1a",
   "metadata": {},
   "outputs": [
    {
     "name": "stdout",
     "output_type": "stream",
     "text": [
      "10020     45.550428\n",
      "170360    13.777192\n",
      "130280     8.503626\n",
      "260570     7.317073\n",
      "531280     7.119314\n",
      "140290     3.559657\n",
      "240540     2.504944\n",
      "200410     1.582070\n",
      "160330     1.384311\n",
      "110240     1.186552\n",
      "822080     1.186552\n",
      "250560     1.054713\n",
      "280590     0.856955\n",
      "260550     0.725115\n",
      "60130      0.659196\n",
      "190400     0.461437\n",
      "240510     0.395517\n",
      "240530     0.329598\n",
      "822050     0.263678\n",
      "140300     0.263678\n",
      "170380     0.197759\n",
      "200450     0.131839\n",
      "822070     0.131839\n",
      "280630     0.131839\n",
      "70150      0.131839\n",
      "290640     0.131839\n",
      "140310     0.065920\n",
      "200440     0.065920\n",
      "280610     0.065920\n",
      "160350     0.065920\n",
      "190420     0.065920\n",
      "160340     0.065920\n",
      "260580     0.065920\n",
      "Name: fPDGID, dtype: float64\n"
     ]
    },
    {
     "data": {
      "image/png": "[encoded data removed]",
      "text/plain": [
       "<Figure size 1008x432 with 1 Axes>"
      ]
     },
     "metadata": {
      "needs_background": "light"
     },
     "output_type": "display_data"
    }
   ],
   "source": [
    "Edep_NaI = 0.0\n",
    "df2 = df[(df.fPDGID != 22) & (df.fPDGID != 11) & (df['fEvent'].isin(k100.EV[k100.Edep > Edep_NaI]))]\n",
    "iso_cap_frac_EdepNaI = (df2['fPDGID'].value_counts(normalize=True))*100\n",
    "print (iso_cap_frac_EdepNaI)\n",
    "ii = (iso_cap_frac_EdepNaI.index/10000).astype('int')\n",
    "\n",
    "newIndex = [elements[elements.AtomicNumber == i].Symbol.iloc[0] for i in ii]\n",
    "Z = ((iso_cap_frac_EdepNaI.index/10).astype('int'))%1000\n",
    "newIndex_withZ = [i+\"-\"+str(Z[j]-1)for j,i in enumerate(newIndex)]\n",
    "iso_cap_frac_EdepNaI = iso_cap_frac_EdepNaI.set_axis(newIndex_withZ,axis=0)\n",
    "\n",
    "y_pos = iso_cap_frac_EdepNaI.iloc[0] - 2\n",
    "\n",
    "fig = plt.figure(figsize=(14.0,6.0))\n",
    "iso_cap_frac_EdepNaI[iso_cap_frac_EdepNaI > 0.1].plot(kind='bar')\n",
    "\n",
    "plt.xlabel('Capture on element')\n",
    "plt.ylabel('Event fraction [%]')\n",
    "plt.text(4, y_pos, 'Capture fraction when Edep_NaI > %0.1f MeV (%s)'%(Edep_NaI,save_dir),fontsize='xx-large')\n",
    "\n",
    "if(save_):\n",
    "    plt.savefig(\"%s/Captures_Edep_%d.png\"%(save_dir,Edep_NaI))\n",
    "    print (\"Figure saved: %s/Captures_Edep_%d.png\"%(save_dir,Edep_NaI))\n",
    "\n",
    "plt.show()"
   ]
  },
  {
   "cell_type": "code",
   "execution_count": 23,
   "id": "6c91735e",
   "metadata": {},
   "outputs": [
    {
     "name": "stdout",
     "output_type": "stream",
     "text": [
      "10020     32.272727\n",
      "531280    18.181818\n",
      "170360    12.954545\n",
      "130280     9.545455\n",
      "260570     7.272727\n",
      "240540     3.863636\n",
      "140290     2.727273\n",
      "160330     2.272727\n",
      "110240     2.045455\n",
      "822080     1.818182\n",
      "200410     1.363636\n",
      "280590     1.363636\n",
      "250560     1.363636\n",
      "260550     0.909091\n",
      "190400     0.227273\n",
      "140310     0.227273\n",
      "160350     0.227273\n",
      "70150      0.227273\n",
      "60130      0.227273\n",
      "240530     0.227273\n",
      "290640     0.227273\n",
      "260580     0.227273\n",
      "240510     0.227273\n",
      "Name: fPDGID, dtype: float64\n"
     ]
    },
    {
     "data": {
      "image/png": "[encoded data removed]",
      "text/plain": [
       "<Figure size 1008x432 with 1 Axes>"
      ]
     },
     "metadata": {
      "needs_background": "light"
     },
     "output_type": "display_data"
    }
   ],
   "source": [
    "Edep_NaI = 1.0\n",
    "df2 = df[(df.fPDGID != 22) & (df.fPDGID != 11) & (df['fEvent'].isin(k100.EV[k100.Edep > Edep_NaI]))]\n",
    "iso_cap_frac_EdepNaI = (df2['fPDGID'].value_counts(normalize=True))*100\n",
    "print (iso_cap_frac_EdepNaI)\n",
    "ii = (iso_cap_frac_EdepNaI.index/10000).astype('int')\n",
    "newIndex = [elements[elements.AtomicNumber == i].Symbol.iloc[0] for i in ii]\n",
    "Z = ((iso_cap_frac_EdepNaI.index/10).astype('int'))%1000\n",
    "newIndex_withZ = [i+\"-\"+str(Z[j]-1)for j,i in enumerate(newIndex)]\n",
    "iso_cap_frac_EdepNaI = iso_cap_frac_EdepNaI.set_axis(newIndex_withZ,axis=0)\n",
    "y_pos = iso_cap_frac_EdepNaI.iloc[0] - 2\n",
    "\n",
    "fig = plt.figure(figsize=(14.0,6.0))\n",
    "iso_cap_frac_EdepNaI[iso_cap_frac_EdepNaI > 0.1].plot(kind='bar')\n",
    "\n",
    "plt.xlabel('Capture on element')\n",
    "plt.ylabel('Event fraction [%]')\n",
    "plt.text(5, y_pos, 'Capture fraction when Edep_NaI > %0.1f MeV (%s)'%(Edep_NaI,save_dir),fontsize='xx-large')\n",
    "\n",
    "if(save_):\n",
    "    plt.savefig(\"%s/Captures_Edep_%d.png\"%(save_dir,Edep_NaI))\n",
    "    print (\"Figure saved: %s/Captures_Edep_%d.png\"%(save_dir,Edep_NaI))\n",
    "\n",
    "plt.show()"
   ]
  },
  {
   "cell_type": "code",
   "execution_count": 20,
   "id": "ec0f041a",
   "metadata": {},
   "outputs": [
    {
     "name": "stdout",
     "output_type": "stream",
     "text": [
      "10020     23.529412\n",
      "531280    22.352941\n",
      "170360    14.509804\n",
      "260570    10.196078\n",
      "130280     7.843137\n",
      "240540     3.529412\n",
      "160330     3.137255\n",
      "822080     2.745098\n",
      "110240     2.745098\n",
      "140290     2.745098\n",
      "200410     1.568627\n",
      "260550     1.176471\n",
      "250560     0.784314\n",
      "280590     0.392157\n",
      "260580     0.392157\n",
      "290640     0.392157\n",
      "190400     0.392157\n",
      "60130      0.392157\n",
      "160350     0.392157\n",
      "140310     0.392157\n",
      "240510     0.392157\n",
      "Name: fPDGID, dtype: float64\n"
     ]
    },
    {
     "data": {
      "image/png": "[encoded data removed]",
      "text/plain": [
       "<Figure size 1008x432 with 1 Axes>"
      ]
     },
     "metadata": {
      "needs_background": "light"
     },
     "output_type": "display_data"
    }
   ],
   "source": [
    "Edep_NaI = 2.0\n",
    "df2 = df[(df.fPDGID != 22) & (df.fPDGID != 11) & (df['fEvent'].isin(k100.EV[k100.Edep > Edep_NaI]))]\n",
    "iso_cap_frac_EdepNaI = (df2['fPDGID'].value_counts(normalize=True))*100\n",
    "print (iso_cap_frac_EdepNaI)\n",
    "ii = (iso_cap_frac_EdepNaI.index/10000).astype('int')\n",
    "newIndex = [elements[elements.AtomicNumber == i].Symbol.iloc[0] for i in ii]\n",
    "Z = ((iso_cap_frac_EdepNaI.index/10).astype('int'))%1000\n",
    "newIndex_withZ = [i+\"-\"+str(Z[j]-1)for j,i in enumerate(newIndex)]\n",
    "iso_cap_frac_EdepNaI = iso_cap_frac_EdepNaI.set_axis(newIndex_withZ,axis=0)\n",
    "\n",
    "y_pos = iso_cap_frac_EdepNaI.iloc[0] - 2\n",
    "\n",
    "fig = plt.figure(figsize=(14.0,6.0))\n",
    "iso_cap_frac_EdepNaI[iso_cap_frac_EdepNaI > 0.1].plot(kind='bar')\n",
    "\n",
    "plt.xlabel('Capture on element')\n",
    "plt.ylabel('Event fraction [%]')\n",
    "plt.text(5, y_pos, 'Capture fraction when Edep_NaI > %0.1f MeV (%s)'%(Edep_NaI,save_dir),fontsize='xx-large')\n",
    "\n",
    "if(save_):\n",
    "    plt.savefig(\"%s/Captures_Edep_%d.png\"%(save_dir,Edep_NaI))\n",
    "    print (\"Figure saved: %s/Captures_Edep_%d.png\"%(save_dir,Edep_NaI))\n",
    "\n",
    "plt.show()"
   ]
  },
  {
   "cell_type": "code",
   "execution_count": 30,
   "id": "05146042",
   "metadata": {},
   "outputs": [
    {
     "name": "stdout",
     "output_type": "stream",
     "text": [
      "143\n",
      "531280    35.664336\n",
      "170360    18.881119\n",
      "260570    14.685315\n",
      "130280     9.090909\n",
      "822080     4.195804\n",
      "110240     4.195804\n",
      "160330     4.195804\n",
      "140290     2.097902\n",
      "200410     1.398601\n",
      "190400     0.699301\n",
      "240540     0.699301\n",
      "10020      0.699301\n",
      "250560     0.699301\n",
      "60130      0.699301\n",
      "280590     0.699301\n",
      "260580     0.699301\n",
      "240510     0.699301\n",
      "Name: fPDGID, dtype: float64\n"
     ]
    },
    {
     "data": {
      "image/png": "[encoded data removed]",
      "text/plain": [
       "<Figure size 1008x432 with 1 Axes>"
      ]
     },
     "metadata": {
      "needs_background": "light"
     },
     "output_type": "display_data"
    }
   ],
   "source": [
    "Edep_NaI = 3.0\n",
    "df2 = df[(df.fPDGID != 22) & (df.fPDGID != 11) & (df['fEvent'].isin(k100.EV[k100.Edep > Edep_NaI]))]\n",
    "iso_cap_frac_EdepNaI = (df2['fPDGID'].value_counts(normalize=True))*100\n",
    "print ((df2['fPDGID'].value_counts()).sum())\n",
    "print (iso_cap_frac_EdepNaI)\n",
    "ii = (iso_cap_frac_EdepNaI.index/10000).astype('int')\n",
    "newIndex = [elements[elements.AtomicNumber == i].Symbol.iloc[0] for i in ii]\n",
    "Z = ((iso_cap_frac_EdepNaI.index/10).astype('int'))%1000\n",
    "newIndex_withZ = [i+\"-\"+str(Z[j]-1)for j,i in enumerate(newIndex)]\n",
    "iso_cap_frac_EdepNaI = iso_cap_frac_EdepNaI.set_axis(newIndex_withZ,axis=0)\n",
    "\n",
    "y_pos = iso_cap_frac_EdepNaI.iloc[0] - 2\n",
    "\n",
    "fig = plt.figure(figsize=(14.0,6.0))\n",
    "iso_cap_frac_EdepNaI[iso_cap_frac_EdepNaI > 0.1].plot(kind='bar')\n",
    "\n",
    "plt.xlabel('Capture on element')\n",
    "plt.ylabel('Event fraction [%]')\n",
    "plt.text(5, y_pos, 'Capture fraction when Edep_NaI > %0.1f MeV (%s)'%(Edep_NaI,save_dir),fontsize='xx-large')\n",
    "\n",
    "if(save_):\n",
    "    plt.savefig(\"%s/Captures_Edep_%d.png\"%(save_dir,Edep_NaI))\n",
    "    print (\"Figure saved: %s/Captures_Edep_%d.png\"%(save_dir,Edep_NaI))\n",
    "\n",
    "plt.show()"
   ]
  },
  {
   "cell_type": "code",
   "execution_count": 26,
   "id": "d2ac4f0c",
   "metadata": {},
   "outputs": [
    {
     "name": "stdout",
     "output_type": "stream",
     "text": [
      "531280    48\n",
      "170360    22\n",
      "260570    16\n",
      "130280     8\n",
      "110240     5\n",
      "160330     4\n",
      "822080     4\n",
      "140290     3\n",
      "240540     1\n",
      "190400     1\n",
      "10020      1\n",
      "200410     1\n",
      "260580     1\n",
      "240510     1\n",
      "Name: fPDGID, dtype: int64\n",
      "531280    41.379310\n",
      "170360    18.965517\n",
      "260570    13.793103\n",
      "130280     6.896552\n",
      "110240     4.310345\n",
      "160330     3.448276\n",
      "822080     3.448276\n",
      "140290     2.586207\n",
      "240540     0.862069\n",
      "190400     0.862069\n",
      "10020      0.862069\n",
      "200410     0.862069\n",
      "260580     0.862069\n",
      "240510     0.862069\n",
      "Name: fPDGID, dtype: float64\n"
     ]
    },
    {
     "data": {
      "image/png": "[encoded data removed]",
      "text/plain": [
       "<Figure size 1008x432 with 1 Axes>"
      ]
     },
     "metadata": {
      "needs_background": "light"
     },
     "output_type": "display_data"
    }
   ],
   "source": [
    "Edep_NaI = 4.0\n",
    "df2 = df[(df.fPDGID != 22) & (df.fPDGID != 11) & (df['fEvent'].isin(k100.EV[k100.Edep > Edep_NaI]))]\n",
    "iso_cap_frac_EdepNaI = (df2['fPDGID'].value_counts(normalize=True))*100\n",
    "print (df2['fPDGID'].value_counts())\n",
    "print (iso_cap_frac_EdepNaI)\n",
    "ii = (iso_cap_frac_EdepNaI.index/10000).astype('int')\n",
    "newIndex = [elements[elements.AtomicNumber == i].Symbol.iloc[0] for i in ii]\n",
    "Z = ((iso_cap_frac_EdepNaI.index/10).astype('int'))%1000\n",
    "newIndex_withZ = [i+\"-\"+str(Z[j]-1)for j,i in enumerate(newIndex)]\n",
    "iso_cap_frac_EdepNaI = iso_cap_frac_EdepNaI.set_axis(newIndex_withZ,axis=0)\n",
    "\n",
    "y_pos = iso_cap_frac_EdepNaI.iloc[0] - 2\n",
    "\n",
    "fig = plt.figure(figsize=(14.0,6.0))\n",
    "iso_cap_frac_EdepNaI[iso_cap_frac_EdepNaI > 0.1].plot(kind='bar')\n",
    "\n",
    "plt.xlabel('Capture on element')\n",
    "plt.ylabel('Event fraction [%]')\n",
    "plt.text(2, y_pos, 'Capture fraction when Edep_NaI > %0.1f MeV (%s)'%(Edep_NaI,save_dir),fontsize='xx-large')\n",
    "\n",
    "if(save_):\n",
    "    plt.savefig(\"%s/Captures_Edep_%d.png\"%(save_dir,Edep_NaI))\n",
    "    print (\"Figure saved: %s/Captures_Edep_%d.png\"%(save_dir,Edep_NaI))\n",
    "\n",
    "plt.show()"
   ]
  },
  {
   "cell_type": "code",
   "execution_count": 23,
   "id": "ff309e6b",
   "metadata": {},
   "outputs": [
    {
     "data": {
      "text/plain": [
       "'with_shield'"
      ]
     },
     "execution_count": 23,
     "metadata": {},
     "output_type": "execute_result"
    }
   ],
   "source": [
    "save_dir"
   ]
  },
  {
   "cell_type": "code",
   "execution_count": 24,
   "id": "0a048956",
   "metadata": {},
   "outputs": [
    {
     "name": "stdout",
     "output_type": "stream",
     "text": [
      "531280    47.474747\n",
      "170360    17.171717\n",
      "260570    13.131313\n",
      "130280     8.080808\n",
      "822080     4.040404\n",
      "160330     3.030303\n",
      "110240     3.030303\n",
      "240540     1.010101\n",
      "140290     1.010101\n",
      "260580     1.010101\n",
      "240510     1.010101\n",
      "Name: fPDGID, dtype: float64\n"
     ]
    },
    {
     "data": {
      "image/png": "[encoded data removed]",
      "text/plain": [
       "<Figure size 1008x432 with 1 Axes>"
      ]
     },
     "metadata": {
      "needs_background": "light"
     },
     "output_type": "display_data"
    }
   ],
   "source": [
    "Edep_NaI = 5.0\n",
    "df2 = df[(df.fPDGID != 22) & (df.fPDGID != 11) & (df['fEvent'].isin(k100.EV[k100.Edep > Edep_NaI]))]\n",
    "iso_cap_frac_EdepNaI = (df2['fPDGID'].value_counts(normalize=True))*100\n",
    "print (iso_cap_frac_EdepNaI)\n",
    "ii = (iso_cap_frac_EdepNaI.index/10000).astype('int')\n",
    "newIndex = [elements[elements.AtomicNumber == i].Symbol.iloc[0] for i in ii]\n",
    "Z = ((iso_cap_frac_EdepNaI.index/10).astype('int'))%1000\n",
    "newIndex_withZ = [i+\"-\"+str(Z[j]-1)for j,i in enumerate(newIndex)]\n",
    "iso_cap_frac_EdepNaI = iso_cap_frac_EdepNaI.set_axis(newIndex_withZ,axis=0)\n",
    "\n",
    "\n",
    "y_pos = iso_cap_frac_EdepNaI.iloc[0] - 2\n",
    "\n",
    "fig = plt.figure(figsize=(14.0,6.0))\n",
    "iso_cap_frac_EdepNaI[iso_cap_frac_EdepNaI > 0.1].plot(kind='bar')\n",
    "\n",
    "plt.xlabel('Capture on element')\n",
    "plt.ylabel('Event fraction [%]')\n",
    "plt.text(2, y_pos, 'Capture fraction when Edep_NaI > %0.1f MeV (%s)'%(Edep_NaI,save_dir),fontsize='xx-large')\n",
    "\n",
    "if(save_):\n",
    "    plt.savefig(\"%s/Captures_Edep_%d.png\"%(save_dir,Edep_NaI))\n",
    "    print (\"Figure saved: %s/Captures_Edep_%d.png\"%(save_dir,Edep_NaI))\n",
    "\n",
    "plt.show()"
   ]
  },
  {
   "cell_type": "code",
   "execution_count": 25,
   "id": "9e91603c",
   "metadata": {},
   "outputs": [
    {
     "name": "stdout",
     "output_type": "stream",
     "text": [
      "531280    54.166667\n",
      "260570    18.055556\n",
      "170360     8.333333\n",
      "130280     4.166667\n",
      "110240     4.166667\n",
      "822080     4.166667\n",
      "240540     1.388889\n",
      "160330     1.388889\n",
      "140290     1.388889\n",
      "260580     1.388889\n",
      "240510     1.388889\n",
      "Name: fPDGID, dtype: float64\n"
     ]
    },
    {
     "data": {
      "image/png": "[encoded data removed]",
      "text/plain": [
       "<Figure size 1008x432 with 1 Axes>"
      ]
     },
     "metadata": {
      "needs_background": "light"
     },
     "output_type": "display_data"
    }
   ],
   "source": [
    "Edep_NaI = 6.0\n",
    "df2 = df[(df.fPDGID != 22) & (df.fPDGID != 11) & (df['fEvent'].isin(k100.EV[k100.Edep > Edep_NaI]))]\n",
    "iso_cap_frac_EdepNaI = (df2['fPDGID'].value_counts(normalize=True))*100\n",
    "print (iso_cap_frac_EdepNaI)\n",
    "ii = (iso_cap_frac_EdepNaI.index/10000).astype('int')\n",
    "newIndex = [elements[elements.AtomicNumber == i].Symbol.iloc[0] for i in ii]\n",
    "Z = ((iso_cap_frac_EdepNaI.index/10).astype('int'))%1000\n",
    "newIndex_withZ = [i+\"-\"+str(Z[j]-1)for j,i in enumerate(newIndex)]\n",
    "iso_cap_frac_EdepNaI = iso_cap_frac_EdepNaI.set_axis(newIndex_withZ,axis=0)\n",
    "\n",
    "\n",
    "y_pos = iso_cap_frac_EdepNaI.iloc[0] - 2\n",
    "\n",
    "fig = plt.figure(figsize=(14.0,6.0))\n",
    "iso_cap_frac_EdepNaI[iso_cap_frac_EdepNaI > 0.1].plot(kind='bar')\n",
    "\n",
    "plt.xlabel('Capture on element')\n",
    "plt.ylabel('Event fraction [%]')\n",
    "plt.text(2, y_pos, 'Capture fraction when Edep_NaI > %0.1f MeV (%s)'%(Edep_NaI,save_dir),fontsize='xx-large')\n",
    "\n",
    "if(save_):\n",
    "    plt.savefig(\"%s/Captures_Edep_%d.png\"%(save_dir,Edep_NaI))\n",
    "    print (\"Figure saved: %s/Captures_Edep_%d.png\"%(save_dir,Edep_NaI))\n",
    "\n",
    "plt.show()"
   ]
  },
  {
   "cell_type": "code",
   "execution_count": 26,
   "id": "e57ee531",
   "metadata": {},
   "outputs": [
    {
     "name": "stdout",
     "output_type": "stream",
     "text": [
      "531280    60.975610\n",
      "260570    14.634146\n",
      "170360     7.317073\n",
      "110240     7.317073\n",
      "160330     2.439024\n",
      "140290     2.439024\n",
      "260580     2.439024\n",
      "240510     2.439024\n",
      "Name: fPDGID, dtype: float64\n"
     ]
    },
    {
     "data": {
      "image/png": "[encoded data removed]",
      "text/plain": [
       "<Figure size 1008x432 with 1 Axes>"
      ]
     },
     "metadata": {
      "needs_background": "light"
     },
     "output_type": "display_data"
    }
   ],
   "source": [
    "Edep_NaI = 7.0\n",
    "df2 = df[(df.fPDGID != 22) & (df.fPDGID != 11) & (df['fEvent'].isin(k100.EV[k100.Edep > Edep_NaI]))]\n",
    "iso_cap_frac_EdepNaI = (df2['fPDGID'].value_counts(normalize=True))*100\n",
    "print (iso_cap_frac_EdepNaI)\n",
    "ii = (iso_cap_frac_EdepNaI.index/10000).astype('int')\n",
    "newIndex = [elements[elements.AtomicNumber == i].Symbol.iloc[0] for i in ii]\n",
    "Z = ((iso_cap_frac_EdepNaI.index/10).astype('int'))%1000\n",
    "newIndex_withZ = [i+\"-\"+str(Z[j]-1)for j,i in enumerate(newIndex)]\n",
    "iso_cap_frac_EdepNaI = iso_cap_frac_EdepNaI.set_axis(newIndex_withZ,axis=0)\n",
    "\n",
    "\n",
    "y_pos = iso_cap_frac_EdepNaI.iloc[0] - 2\n",
    "\n",
    "fig = plt.figure(figsize=(14.0,6.0))\n",
    "iso_cap_frac_EdepNaI[iso_cap_frac_EdepNaI > 0.1].plot(kind='bar')\n",
    "\n",
    "plt.xlabel('Capture on element')\n",
    "plt.ylabel('Event fraction [%]')\n",
    "plt.text(1, y_pos, 'Capture fraction when Edep_NaI > %0.1f MeV (%s)'%(Edep_NaI,save_dir),fontsize='xx-large')\n",
    "\n",
    "if(save_):\n",
    "    plt.savefig(\"%s/Captures_Edep_%d.png\"%(save_dir,Edep_NaI))\n",
    "    print (\"Figure saved: %s/Captures_Edep_%d.png\"%(save_dir,Edep_NaI))\n",
    "\n",
    "plt.show()"
   ]
  },
  {
   "cell_type": "code",
   "execution_count": 27,
   "id": "245b3aff",
   "metadata": {},
   "outputs": [
    {
     "name": "stdout",
     "output_type": "stream",
     "text": [
      "531280    63.636364\n",
      "110240     9.090909\n",
      "140290     9.090909\n",
      "260580     9.090909\n",
      "240510     9.090909\n",
      "Name: fPDGID, dtype: float64\n"
     ]
    },
    {
     "data": {
      "image/png": "[encoded data removed]",
      "text/plain": [
       "<Figure size 1008x432 with 1 Axes>"
      ]
     },
     "metadata": {
      "needs_background": "light"
     },
     "output_type": "display_data"
    }
   ],
   "source": [
    "Edep_NaI = 8.0\n",
    "df2 = df[(df.fPDGID != 22) & (df.fPDGID != 11) & (df['fEvent'].isin(k100.EV[k100.Edep > Edep_NaI]))]\n",
    "iso_cap_frac_EdepNaI = (df2['fPDGID'].value_counts(normalize=True))*100\n",
    "print (iso_cap_frac_EdepNaI)\n",
    "ii = (iso_cap_frac_EdepNaI.index/10000).astype('int')\n",
    "newIndex = [elements[elements.AtomicNumber == i].Symbol.iloc[0] for i in ii]\n",
    "Z = ((iso_cap_frac_EdepNaI.index/10).astype('int'))%1000\n",
    "newIndex_withZ = [i+\"-\"+str(Z[j]-1)for j,i in enumerate(newIndex)]\n",
    "iso_cap_frac_EdepNaI = iso_cap_frac_EdepNaI.set_axis(newIndex_withZ,axis=0)\n",
    "\n",
    "\n",
    "y_pos = iso_cap_frac_EdepNaI.iloc[0] - 2\n",
    "\n",
    "fig = plt.figure(figsize=(14.0,6.0))\n",
    "iso_cap_frac_EdepNaI[iso_cap_frac_EdepNaI > 0.1].plot(kind='bar')\n",
    "\n",
    "plt.xlabel('Capture on element')\n",
    "plt.ylabel('Event fraction [%]')\n",
    "plt.text(1, y_pos, 'Capture fraction when Edep_NaI > %0.1f MeV (%s)'%(Edep_NaI,save_dir),fontsize='xx-large')\n",
    "\n",
    "if(save_):\n",
    "    plt.savefig(\"%s/Captures_Edep_%d.png\"%(save_dir,Edep_NaI))\n",
    "    print (\"Figure saved: %s/Captures_Edep_%d.png\"%(save_dir,Edep_NaI))\n",
    "\n",
    "plt.show()"
   ]
  },
  {
   "cell_type": "code",
   "execution_count": 28,
   "id": "36caa2c2",
   "metadata": {},
   "outputs": [
    {
     "name": "stdout",
     "output_type": "stream",
     "text": [
      "531280    33.333333\n",
      "110240    33.333333\n",
      "260580    33.333333\n",
      "Name: fPDGID, dtype: float64\n"
     ]
    },
    {
     "data": {
      "image/png": "[encoded data removed]",
      "text/plain": [
       "<Figure size 1008x432 with 1 Axes>"
      ]
     },
     "metadata": {
      "needs_background": "light"
     },
     "output_type": "display_data"
    }
   ],
   "source": [
    "Edep_NaI = 9.0\n",
    "df2 = df[(df.fPDGID != 22) & (df.fPDGID != 11) & (df['fEvent'].isin(k100.EV[k100.Edep > Edep_NaI]))]\n",
    "iso_cap_frac_EdepNaI = (df2['fPDGID'].value_counts(normalize=True))*100\n",
    "print (iso_cap_frac_EdepNaI)\n",
    "ii = (iso_cap_frac_EdepNaI.index/10000).astype('int')\n",
    "newIndex = [elements[elements.AtomicNumber == i].Symbol.iloc[0] for i in ii]\n",
    "Z = ((iso_cap_frac_EdepNaI.index/10).astype('int'))%1000\n",
    "newIndex_withZ = [i+\"-\"+str(Z[j]-1)for j,i in enumerate(newIndex)]\n",
    "iso_cap_frac_EdepNaI = iso_cap_frac_EdepNaI.set_axis(newIndex_withZ,axis=0)\n",
    "\n",
    "\n",
    "y_pos = iso_cap_frac_EdepNaI.iloc[0] - 2\n",
    "\n",
    "fig = plt.figure(figsize=(14.0,6.0))\n",
    "iso_cap_frac_EdepNaI[iso_cap_frac_EdepNaI > 0.1].plot(kind='bar')\n",
    "\n",
    "plt.xlabel('Capture on element')\n",
    "plt.ylabel('Event fraction [%]')\n",
    "plt.text(0.1, y_pos+7, 'Capture fraction when Edep_NaI > %0.1f MeV (%s)'%(Edep_NaI,save_dir),fontsize='xx-large')\n",
    "\n",
    "if(save_):\n",
    "    plt.savefig(\"%s/Captures_Edep_%d.png\"%(save_dir,Edep_NaI))\n",
    "    print (\"Figure saved: %s/Captures_Edep_%d.png\"%(save_dir,Edep_NaI))\n",
    "\n",
    "plt.show()"
   ]
  },
  {
   "cell_type": "code",
   "execution_count": 29,
   "id": "9d7195f5",
   "metadata": {},
   "outputs": [
    {
     "name": "stdout",
     "output_type": "stream",
     "text": [
      "110240    50.0\n",
      "260580    50.0\n",
      "Name: fPDGID, dtype: float64\n"
     ]
    },
    {
     "data": {
      "image/png": "[encoded data removed]",
      "text/plain": [
       "<Figure size 1008x432 with 1 Axes>"
      ]
     },
     "metadata": {
      "needs_background": "light"
     },
     "output_type": "display_data"
    }
   ],
   "source": [
    "Edep_NaI = 10.0\n",
    "df2 = df[(df.fPDGID != 22) & (df.fPDGID != 11) & (df['fEvent'].isin(k100.EV[k100.Edep > Edep_NaI]))]\n",
    "iso_cap_frac_EdepNaI = (df2['fPDGID'].value_counts(normalize=True))*100\n",
    "print (iso_cap_frac_EdepNaI)\n",
    "ii = (iso_cap_frac_EdepNaI.index/10000).astype('int')\n",
    "newIndex = [elements[elements.AtomicNumber == i].Symbol.iloc[0] for i in ii]\n",
    "Z = ((iso_cap_frac_EdepNaI.index/10).astype('int'))%1000\n",
    "newIndex_withZ = [i+\"-\"+str(Z[j]-1)for j,i in enumerate(newIndex)]\n",
    "iso_cap_frac_EdepNaI = iso_cap_frac_EdepNaI.set_axis(newIndex_withZ,axis=0)\n",
    "\n",
    "\n",
    "y_pos = iso_cap_frac_EdepNaI.iloc[0] - 2\n",
    "\n",
    "fig = plt.figure(figsize=(14.0,6.0))\n",
    "iso_cap_frac_EdepNaI[iso_cap_frac_EdepNaI > 0.1].plot(kind='bar')\n",
    "\n",
    "plt.xlabel('Capture on element')\n",
    "plt.ylabel('Event fraction [%]')\n",
    "plt.text(0.1, y_pos+7, 'Capture fraction when Edep_NaI > %0.1f MeV (%s)'%(Edep_NaI,save_dir),fontsize='xx-large')\n",
    "\n",
    "if(save_):\n",
    "    plt.savefig(\"%s/Captures_Edep_%d.png\"%(save_dir,Edep_NaI))\n",
    "    print (\"Figure saved: %s/Captures_Edep_%d.png\"%(save_dir,Edep_NaI))\n",
    "\n",
    "plt.show()"
   ]
  },
  {
   "cell_type": "code",
   "execution_count": null,
   "id": "951cfc9a",
   "metadata": {},
   "outputs": [],
   "source": []
  },
  {
   "cell_type": "code",
   "execution_count": null,
   "id": "3a78bd70",
   "metadata": {},
   "outputs": [],
   "source": []
  },
  {
   "cell_type": "code",
   "execution_count": null,
   "id": "c53d9cc2",
   "metadata": {},
   "outputs": [],
   "source": []
  },
  {
   "cell_type": "code",
   "execution_count": 30,
   "id": "79b348f0",
   "metadata": {
    "scrolled": true
   },
   "outputs": [
    {
     "data": {
      "text/plain": [
       "105"
      ]
     },
     "execution_count": 30,
     "metadata": {},
     "output_type": "execute_result"
    }
   ],
   "source": [
    "len(k100[(k100.Edep > 5.)].Edep)"
   ]
  },
  {
   "cell_type": "code",
   "execution_count": 31,
   "id": "0594e717",
   "metadata": {},
   "outputs": [
    {
     "data": {
      "text/plain": [
       "Text(0.5, 1.0, 'KE of each photon after nCap')"
      ]
     },
     "execution_count": 31,
     "metadata": {},
     "output_type": "execute_result"
    },
    {
     "data": {
      "image/png": "[encoded data removed]",
      "text/plain": [
       "<Figure size 1008x432 with 1 Axes>"
      ]
     },
     "metadata": {
      "needs_background": "light"
     },
     "output_type": "display_data"
    }
   ],
   "source": [
    "df3 = df[(df['fEvent'].isin(k100.EV))]\n",
    "photon = df3[df3.fPDGID == 22]\n",
    "photon_KE = df3.fsec_KE\n",
    "photon_KE_sum = photon.groupby(['fEvent']).sum().fsec_KE\n",
    "fig = plt.figure(figsize=(14.0,6.0))\n",
    "\n",
    "\n",
    "plt.hist(photon_KE,bins=100, range=[0,20])\n",
    "\n",
    "plt.xlabel('Energy [MeV]')\n",
    "plt.ylabel('counts')\n",
    "#plt.yscale('log', nonposy='clip')\n",
    "#plt.yscale('log')\n",
    "\n",
    "plt.title(\"KE of each photon after nCap\")"
   ]
  },
  {
   "cell_type": "code",
   "execution_count": null,
   "id": "5f59d977",
   "metadata": {},
   "outputs": [],
   "source": []
  },
  {
   "cell_type": "code",
   "execution_count": 32,
   "id": "965b3168",
   "metadata": {},
   "outputs": [
    {
     "data": {
      "text/plain": [
       "Text(0.5, 1.0, 'KE of each photon after nCap - logY scale')"
      ]
     },
     "execution_count": 32,
     "metadata": {},
     "output_type": "execute_result"
    },
    {
     "data": {
      "image/png": "[encoded data removed]",
      "text/plain": [
       "<Figure size 1008x432 with 1 Axes>"
      ]
     },
     "metadata": {
      "needs_background": "light"
     },
     "output_type": "display_data"
    }
   ],
   "source": [
    "photon = df[df.fPDGID == 22]\n",
    "photon_KE_sum = photon.groupby(['fEvent']).sum().fsec_KE\n",
    "photon_count = photon.groupby(['fEvent']).count().fPDGID\n",
    "\n",
    "fig = plt.figure(figsize=(14.0,6.0))\n",
    "\n",
    "\n",
    "plt.hist(photon_KE_sum,bins=100, range=[0,20])\n",
    "\n",
    "plt.xlabel('Energy [MeV]')\n",
    "plt.ylabel('counts')\n",
    "#plt.yscale('log', nonposy='clip')\n",
    "plt.yscale('log')\n",
    "\n",
    "plt.title(\"KE of each photon after nCap - logY scale\")"
   ]
  },
  {
   "cell_type": "code",
   "execution_count": 33,
   "id": "3d0e2751",
   "metadata": {},
   "outputs": [
    {
     "name": "stdout",
     "output_type": "stream",
     "text": [
      "299291\n"
     ]
    },
    {
     "data": {
      "text/plain": [
       "Text(0.5, 1.0, 'KE of each photon after nCap')"
      ]
     },
     "execution_count": 33,
     "metadata": {},
     "output_type": "execute_result"
    },
    {
     "data": {
      "image/png": "[encoded data removed]",
      "text/plain": [
       "<Figure size 1008x432 with 1 Axes>"
      ]
     },
     "metadata": {
      "needs_background": "light"
     },
     "output_type": "display_data"
    }
   ],
   "source": [
    "photon = df[df.fPDGID == 22]\n",
    "photon_KE_sum = photon.groupby(['fEvent']).sum().fsec_KE\n",
    "photon_count = photon.groupby(['fEvent']).count().fPDGID\n",
    "\n",
    "print (len(photon_count))\n",
    "fig = plt.figure(figsize=(14.0,6.0))\n",
    "\n",
    "\n",
    "plt.hist(photon_KE_sum,bins=100, range=[0,20])\n",
    "\n",
    "plt.xlabel('Energy [MeV]')\n",
    "plt.ylabel('counts')\n",
    "#plt.yscale('log', nonposy='clip')\n",
    "#plt.yscale('log')\n",
    "\n",
    "plt.title(\"KE of each photon after nCap\")"
   ]
  },
  {
   "cell_type": "code",
   "execution_count": 34,
   "id": "041caea4",
   "metadata": {},
   "outputs": [
    {
     "name": "stderr",
     "output_type": "stream",
     "text": [
      "100%|██████████████████████████████████████████████████████████████████████████████████████| 682023/682023 [00:06<00:00, 105900.53it/s]\n"
     ]
    }
   ],
   "source": [
    "count_photon = 0\n",
    "Fe_photon = []\n",
    "photon_energy = []\n",
    "Fe_event = []\n",
    "Cl_event = []\n",
    "H_event = []\n",
    "Si_event = []\n",
    "Al_event = []\n",
    "Ca_event = []\n",
    "Pb_event = []\n",
    "S_event = []\n",
    "C_event = []\n",
    "I_event = []\n",
    "for i in tqdm(range(len(ev))):\n",
    "    if(pdg[i] == 260570):\n",
    "        Fe_event.append(ev[i])\n",
    "    if(pdg[i] == 10020):\n",
    "        H_event.append(ev[i])\n",
    "    if(pdg[i] == 140290):\n",
    "        Si_event.append(ev[i])\n",
    "    if(pdg[i] == 130280):\n",
    "        Al_event.append(ev[i])\n",
    "    if(pdg[i] == 200410):\n",
    "        Ca_event.append(ev[i])\n",
    "    if(pdg[i] == 822080):\n",
    "        Pb_event.append(ev[i])\n",
    "    if(pdg[i] == 160330):\n",
    "        S_event.append(ev[i])\n",
    "    if(pdg[i] == 60130):\n",
    "        C_event.append(ev[i])\n",
    "    if(pdg[i] == 531280):\n",
    "        I_event.append(ev[i])\n",
    "    if(pdg[i] == 170360):\n",
    "        Cl_event.append(ev[i])\n",
    "    if(pdg[i] > 10000):        \n",
    "        if(pdg[i] == 260570):\n",
    "            Fe_photon.append(count_photon)\n",
    "        photon_energy.clear()\n",
    "        count_photon = 0\n",
    "    if(pdg[i] == 22):\n",
    "        count_photon += 1\n",
    "        photon_energy.append(sec_KE[i])\n",
    "#print(Fe_photon)"
   ]
  },
  {
   "cell_type": "code",
   "execution_count": 30,
   "id": "b0cf4ab5",
   "metadata": {},
   "outputs": [
    {
     "data": {
      "text/plain": [
       "[1266,\n",
       " 7694,\n",
       " 11204,\n",
       " 15636,\n",
       " 21751,\n",
       " 23901,\n",
       " 26388,\n",
       " 28675,\n",
       " 31521,\n",
       " 31954,\n",
       " 33260,\n",
       " 36010,\n",
       " 37139,\n",
       " 42044,\n",
       " 47620,\n",
       " 50056,\n",
       " 53145,\n",
       " 54330,\n",
       " 64038,\n",
       " 64185,\n",
       " 78993,\n",
       " 91159,\n",
       " 96333,\n",
       " 100326,\n",
       " 103418,\n",
       " 110810,\n",
       " 112444,\n",
       " 118996,\n",
       " 144365,\n",
       " 148613]"
      ]
     },
     "execution_count": 30,
     "metadata": {},
     "output_type": "execute_result"
    }
   ],
   "source": [
    "I_event[:30]"
   ]
  },
  {
   "cell_type": "code",
   "execution_count": null,
   "id": "8df62fef",
   "metadata": {},
   "outputs": [],
   "source": [
    "len(Si_event)"
   ]
  },
  {
   "cell_type": "markdown",
   "id": "0860fefa",
   "metadata": {},
   "source": [
    "# Capture on Fe"
   ]
  },
  {
   "cell_type": "code",
   "execution_count": 35,
   "id": "d7d9e7c3",
   "metadata": {},
   "outputs": [],
   "source": [
    "isotope_26057 = df[df['fEvent'].isin(Fe_event)]"
   ]
  },
  {
   "cell_type": "code",
   "execution_count": 45,
   "id": "30c75009",
   "metadata": {},
   "outputs": [],
   "source": [
    "save_ = True"
   ]
  },
  {
   "cell_type": "code",
   "execution_count": 47,
   "id": "d040e850",
   "metadata": {},
   "outputs": [
    {
     "data": {
      "image/png": "[encoded data removed]",
      "text/plain": [
       "<Figure size 1008x432 with 1 Axes>"
      ]
     },
     "metadata": {
      "needs_background": "light"
     },
     "output_type": "display_data"
    }
   ],
   "source": [
    "#photon.fsec_KE\n",
    "fig = plt.figure(figsize=(14.0,6.0))\n",
    "\n",
    "\n",
    "plt.hist(isotope_26057[isotope_26057.fPDGID == 22].fsec_KE,bins=500, range=[0,8])\n",
    "\n",
    "plt.xlabel('Energy [MeV]')\n",
    "plt.ylabel('counts')\n",
    "#plt.yscale('log', nonposy='clip')\n",
    "#plt.yscale('log')\n",
    "\n",
    "plt.title(\"KE of each photon after nCap on Fe-56\")\n",
    "if(save_):\n",
    "    plt.savefig(\"Espectra/Egamma_Fe56.png\")\n",
    "    \n",
    "\n",
    "plt.show()"
   ]
  },
  {
   "cell_type": "code",
   "execution_count": null,
   "id": "dc9661d1",
   "metadata": {},
   "outputs": [],
   "source": [
    "photon = isotope_26057[isotope_26057.fPDGID == 22]\n",
    "photon_count = photon.groupby(['fEvent']).count().fPDGID\n",
    "\n",
    "photon_count\n",
    "\n",
    "fig = plt.figure(figsize=(14.0,6.0))\n",
    "\n",
    "\n",
    "plt.hist(photon_count,bins=10, range=[0,10])\n",
    "\n",
    "plt.xlabel('Number of photons')\n",
    "plt.ylabel('counts')\n",
    "#plt.yscale('log', nonposy='clip')\n",
    "#plt.yscale('log')\n",
    "\n",
    "plt.title(\"Number of photons emitted after being nCap Fe\")"
   ]
  },
  {
   "cell_type": "code",
   "execution_count": null,
   "id": "d82eee53",
   "metadata": {},
   "outputs": [],
   "source": [
    "isotope_26057.loc[isotope_26057.fEvent == 3]\n",
    "print(photon_count[photon_count == 8].index)\n",
    "isotope_26057.loc[isotope_26057.fEvent == 168974]"
   ]
  },
  {
   "cell_type": "code",
   "execution_count": null,
   "id": "78fa878e",
   "metadata": {},
   "outputs": [],
   "source": [
    "#photon.fsec_KE\n",
    "photon = isotope_26057[isotope_26057.fPDGID == 22]\n",
    "photon_KE_sum = photon.groupby(['fEvent']).sum().fsec_KE\n",
    "\n",
    "fig = plt.figure(figsize=(14.0,6.0))\n",
    "\n",
    "\n",
    "plt.hist(photon_KE_sum,bins=100, range=[0,20])\n",
    "\n",
    "plt.xlabel('Energy [MeV]')\n",
    "plt.ylabel('counts')\n",
    "#plt.yscale('log', nonposy='clip')\n",
    "plt.yscale('log')\n",
    "\n",
    "plt.title(\"Energy sum of photons after nCap Fe\")"
   ]
  },
  {
   "cell_type": "markdown",
   "id": "52096aa4",
   "metadata": {},
   "source": [
    "# Capture on H"
   ]
  },
  {
   "cell_type": "code",
   "execution_count": null,
   "id": "58dae6f5",
   "metadata": {},
   "outputs": [],
   "source": [
    "isotope_10020 = df[df['fEvent'].isin(H_event)]"
   ]
  },
  {
   "cell_type": "code",
   "execution_count": null,
   "id": "243235e8",
   "metadata": {},
   "outputs": [],
   "source": [
    "#photon.fsec_KE\n",
    "fig = plt.figure(figsize=(14.0,6.0))\n",
    "\n",
    "\n",
    "plt.hist(isotope_10020[isotope_10020.fPDGID == 22].fsec_KE,bins=100, range=[0,20])\n",
    "\n",
    "plt.xlabel('Energy [MeV]')\n",
    "plt.ylabel('counts')\n",
    "#plt.yscale('log', nonposy='clip')\n",
    "#plt.yscale('log')\n",
    "\n",
    "plt.title(\"KE of each photon after nCap H\")"
   ]
  },
  {
   "cell_type": "code",
   "execution_count": null,
   "id": "e46d68d7",
   "metadata": {},
   "outputs": [],
   "source": [
    "photon = isotope_10020[isotope_10020.fPDGID == 22]\n",
    "photon_count = photon.groupby(['fEvent']).count().fPDGID\n",
    "\n",
    "photon_count\n",
    "\n",
    "fig = plt.figure(figsize=(14.0,6.0))\n",
    "\n",
    "\n",
    "plt.hist(photon_count,bins=10, range=[0,10])\n",
    "\n",
    "plt.xlabel('Number of photons')\n",
    "plt.ylabel('counts')\n",
    "#plt.yscale('log', nonposy='clip')\n",
    "#plt.yscale('log')\n",
    "\n",
    "plt.title(\"Number of photons emitted after being nCap H\")"
   ]
  },
  {
   "cell_type": "code",
   "execution_count": null,
   "id": "fb4b622e",
   "metadata": {},
   "outputs": [],
   "source": [
    "#photon.fsec_KE\n",
    "photon = isotope_10020[isotope_10020.fPDGID == 22]\n",
    "photon_KE_sum = photon.groupby(['fEvent']).sum().fsec_KE\n",
    "\n",
    "fig = plt.figure(figsize=(14.0,6.0))\n",
    "\n",
    "\n",
    "plt.hist(photon_KE_sum,bins=100, range=[0,20])\n",
    "\n",
    "plt.xlabel('Energy [MeV]')\n",
    "plt.ylabel('counts')\n",
    "#plt.yscale('log', nonposy='clip')\n",
    "plt.yscale('log')\n",
    "\n",
    "plt.title(\"Energy sum of photons after nCap H\")"
   ]
  },
  {
   "cell_type": "markdown",
   "id": "8f30146e",
   "metadata": {},
   "source": [
    "# Capture on Al"
   ]
  },
  {
   "cell_type": "code",
   "execution_count": null,
   "id": "54c49c45",
   "metadata": {},
   "outputs": [],
   "source": [
    "isotope_130280 = df[df['fEvent'].isin(Al_event)]"
   ]
  },
  {
   "cell_type": "code",
   "execution_count": null,
   "id": "b675b2a8",
   "metadata": {},
   "outputs": [],
   "source": [
    "#photon.fsec_KE\n",
    "fig = plt.figure(figsize=(14.0,6.0))\n",
    "\n",
    "\n",
    "plt.hist(isotope_130280[isotope_130280.fPDGID == 22].fsec_KE,bins=100, range=[0,20])\n",
    "\n",
    "plt.xlabel('Energy [MeV]')\n",
    "plt.ylabel('counts')\n",
    "#plt.yscale('log', nonposy='clip')\n",
    "#plt.yscale('log')\n",
    "\n",
    "plt.title(\"KE of each photon after nCap Al\")"
   ]
  },
  {
   "cell_type": "code",
   "execution_count": null,
   "id": "ec321dee",
   "metadata": {},
   "outputs": [],
   "source": [
    "photon = isotope_130280[isotope_130280.fPDGID == 22]\n",
    "photon_count = photon.groupby(['fEvent']).count().fPDGID\n",
    "\n",
    "photon_count\n",
    "\n",
    "fig = plt.figure(figsize=(14.0,6.0))\n",
    "\n",
    "\n",
    "plt.hist(photon_count,bins=10, range=[0,10])\n",
    "\n",
    "plt.xlabel('Number of photons')\n",
    "plt.ylabel('counts')\n",
    "#plt.yscale('log', nonposy='clip')\n",
    "#plt.yscale('log')\n",
    "\n",
    "plt.title(\"Number of photons emitted after being nCap Al\")"
   ]
  },
  {
   "cell_type": "code",
   "execution_count": null,
   "id": "ecfe0f8b",
   "metadata": {},
   "outputs": [],
   "source": [
    "#photon.fsec_KE\n",
    "photon = isotope_130280[isotope_130280.fPDGID == 22]\n",
    "photon_KE_sum = photon.groupby(['fEvent']).sum().fsec_KE\n",
    "\n",
    "fig = plt.figure(figsize=(14.0,6.0))\n",
    "\n",
    "\n",
    "plt.hist(photon_KE_sum,bins=100, range=[0,20])\n",
    "\n",
    "plt.xlabel('Energy [MeV]')\n",
    "plt.ylabel('counts')\n",
    "#plt.yscale('log', nonposy='clip')\n",
    "plt.yscale('log')\n",
    "\n",
    "plt.title(\"KE of each photon after nCap Al\")"
   ]
  },
  {
   "cell_type": "markdown",
   "id": "0efd007b",
   "metadata": {},
   "source": [
    "# Capture on Si"
   ]
  },
  {
   "cell_type": "code",
   "execution_count": 155,
   "id": "607d8a49",
   "metadata": {},
   "outputs": [],
   "source": [
    "isotope_140290 = df[df['fEvent'].isin(Si_event)]"
   ]
  },
  {
   "cell_type": "code",
   "execution_count": 156,
   "id": "ddde92f3",
   "metadata": {},
   "outputs": [
    {
     "data": {
      "text/plain": [
       "Text(0.5, 1.0, 'KE of each photon after nCap Si')"
      ]
     },
     "execution_count": 156,
     "metadata": {},
     "output_type": "execute_result"
    },
    {
     "data": {
      "image/png": "[encoded data removed]",
      "text/plain": [
       "<Figure size 1008x432 with 1 Axes>"
      ]
     },
     "metadata": {
      "needs_background": "light"
     },
     "output_type": "display_data"
    }
   ],
   "source": [
    "#photon.fsec_KE\n",
    "fig = plt.figure(figsize=(14.0,6.0))\n",
    "\n",
    "\n",
    "plt.hist(isotope_140290[isotope_140290.fPDGID == 22].fsec_KE,bins=100, range=[0,20])\n",
    "\n",
    "plt.xlabel('Energy [MeV]')\n",
    "plt.ylabel('counts')\n",
    "#plt.yscale('log', nonposy='clip')\n",
    "#plt.yscale('log')\n",
    "\n",
    "plt.title(\"KE of each photon after nCap Si\")"
   ]
  },
  {
   "cell_type": "code",
   "execution_count": null,
   "id": "ae236ed0",
   "metadata": {},
   "outputs": [],
   "source": [
    "photon = isotope_140290[isotope_140290.fPDGID == 22]\n",
    "photon_count = photon.groupby(['fEvent']).count().fPDGID\n",
    "\n",
    "photon_count\n",
    "\n",
    "fig = plt.figure(figsize=(14.0,6.0))\n",
    "\n",
    "\n",
    "plt.hist(photon_count,bins=10, range=[0,10])\n",
    "\n",
    "plt.xlabel('Number of photons')\n",
    "plt.ylabel('counts')\n",
    "#plt.yscale('log', nonposy='clip')\n",
    "#plt.yscale('log')\n",
    "\n",
    "plt.title(\"Number of photons emitted after being nCap Si\")"
   ]
  },
  {
   "cell_type": "code",
   "execution_count": null,
   "id": "596f182d",
   "metadata": {},
   "outputs": [],
   "source": [
    "#photon.fsec_KE\n",
    "photon = isotope_140290[isotope_140290.fPDGID == 22]\n",
    "photon_KE_sum = photon.groupby(['fEvent']).sum().fsec_KE\n",
    "\n",
    "fig = plt.figure(figsize=(14.0,6.0))\n",
    "\n",
    "\n",
    "plt.hist(photon_KE_sum,bins=100, range=[0,20])\n",
    "\n",
    "plt.xlabel('Energy [MeV]')\n",
    "plt.ylabel('counts')\n",
    "#plt.yscale('log', nonposy='clip')\n",
    "plt.yscale('log')\n",
    "\n",
    "plt.title(\"KE of each photon after nCap Si\")"
   ]
  },
  {
   "cell_type": "markdown",
   "id": "d34c9660",
   "metadata": {},
   "source": [
    "# Capture on Ca"
   ]
  },
  {
   "cell_type": "code",
   "execution_count": null,
   "id": "b8b4be04",
   "metadata": {},
   "outputs": [],
   "source": [
    "isotope_200410 = df[df['fEvent'].isin(Ca_event)]\n",
    "#photon.fsec_KE\n",
    "fig = plt.figure(figsize=(14.0,6.0))\n",
    "\n",
    "\n",
    "plt.hist(isotope_200410[isotope_200410.fPDGID == 22].fsec_KE,bins=100, range=[0,20])\n",
    "\n",
    "plt.xlabel('Energy [MeV]')\n",
    "plt.ylabel('counts')\n",
    "#plt.yscale('log', nonposy='clip')\n",
    "#plt.yscale('log')\n",
    "\n",
    "plt.title(\"KE of each photon after nCap Ca\")"
   ]
  },
  {
   "cell_type": "markdown",
   "id": "257d0a5e",
   "metadata": {},
   "source": [
    "# Capture on Pb"
   ]
  },
  {
   "cell_type": "code",
   "execution_count": null,
   "id": "fc5d498b",
   "metadata": {},
   "outputs": [],
   "source": [
    "isotope_822080 = df[df['fEvent'].isin(Pb_event)]\n",
    "#photon.fsec_KE\n",
    "fig = plt.figure(figsize=(14.0,6.0))\n",
    "\n",
    "\n",
    "plt.hist(isotope_822080[isotope_822080.fPDGID == 22].fsec_KE,bins=100, range=[0,20])\n",
    "\n",
    "plt.xlabel('Energy [MeV]')\n",
    "plt.ylabel('counts')\n",
    "#plt.yscale('log', nonposy='clip')\n",
    "#plt.yscale('log')\n",
    "\n",
    "plt.title(\"KE of each photon after nCap Pb\")"
   ]
  },
  {
   "cell_type": "markdown",
   "id": "a7e1e9a1",
   "metadata": {},
   "source": [
    "# Capture on S"
   ]
  },
  {
   "cell_type": "code",
   "execution_count": null,
   "id": "d95043ed",
   "metadata": {},
   "outputs": [],
   "source": [
    "isotope_160330 = df[df['fEvent'].isin(S_event)]\n",
    "#photon.fsec_KE\n",
    "fig = plt.figure(figsize=(14.0,6.0))\n",
    "\n",
    "\n",
    "plt.hist(isotope_160330[isotope_160330.fPDGID == 22].fsec_KE,bins=100, range=[0,20])\n",
    "\n",
    "plt.xlabel('Energy [MeV]')\n",
    "plt.ylabel('counts')\n",
    "#plt.yscale('log', nonposy='clip')\n",
    "#plt.yscale('log')\n",
    "\n",
    "plt.title(\"KE of each photon after nCap S\")"
   ]
  },
  {
   "cell_type": "markdown",
   "id": "e394999f",
   "metadata": {},
   "source": [
    "# Capture on C"
   ]
  },
  {
   "cell_type": "code",
   "execution_count": null,
   "id": "62be8986",
   "metadata": {},
   "outputs": [],
   "source": [
    "isotope_60130 = df[df['fEvent'].isin(C_event)]\n",
    "#photon.fsec_KE\n",
    "fig = plt.figure(figsize=(14.0,6.0))\n",
    "\n",
    "\n",
    "plt.hist(isotope_60130[isotope_60130.fPDGID == 22].fsec_KE,bins=100, range=[0,20])\n",
    "\n",
    "plt.xlabel('Energy [MeV]')\n",
    "plt.ylabel('counts')\n",
    "#plt.yscale('log', nonposy='clip')\n",
    "#plt.yscale('log')\n",
    "\n",
    "plt.title(\"KE of each photon after nCap C\")"
   ]
  },
  {
   "cell_type": "code",
   "execution_count": null,
   "id": "e4dcf593",
   "metadata": {},
   "outputs": [],
   "source": []
  },
  {
   "cell_type": "markdown",
   "id": "2c1d9334",
   "metadata": {},
   "source": [
    "# Capture on Cl"
   ]
  },
  {
   "cell_type": "code",
   "execution_count": 63,
   "id": "86004e29",
   "metadata": {},
   "outputs": [
    {
     "data": {
      "image/png": "[encoded data removed]",
      "text/plain": [
       "<Figure size 1008x432 with 1 Axes>"
      ]
     },
     "metadata": {
      "needs_background": "light"
     },
     "output_type": "display_data"
    }
   ],
   "source": [
    "isotope_170360 = df[df['fEvent'].isin(Cl_event)]\n",
    "#photon.fsec_KE\n",
    "fig = plt.figure(figsize=(14.0,6.0))\n",
    "\n",
    "\n",
    "plt.hist(isotope_170360[isotope_170360.fPDGID == 22].fsec_KE,bins=500, range=[0,10])\n",
    "\n",
    "plt.xlabel('Energy [MeV]')\n",
    "plt.ylabel('counts')\n",
    "#plt.yscale('log', nonposy='clip')\n",
    "#plt.yscale('log')\n",
    "\n",
    "plt.title(\"KE of each photon after nCap on Cl-35\")\n",
    "\n",
    "if(save_):\n",
    "    plt.savefig(\"Espectra/Egamma_Cl35.png\")\n",
    "    \n",
    "\n",
    "plt.show()"
   ]
  },
  {
   "cell_type": "code",
   "execution_count": null,
   "id": "40d655b1",
   "metadata": {},
   "outputs": [],
   "source": []
  },
  {
   "cell_type": "markdown",
   "id": "68ec3b18",
   "metadata": {},
   "source": [
    "# Capture on I"
   ]
  },
  {
   "cell_type": "code",
   "execution_count": 77,
   "id": "4b802d72",
   "metadata": {},
   "outputs": [
    {
     "data": {
      "image/png": "[encoded data removed]",
      "text/plain": [
       "<Figure size 1008x432 with 1 Axes>"
      ]
     },
     "metadata": {
      "needs_background": "light"
     },
     "output_type": "display_data"
    }
   ],
   "source": [
    "isotope_531280 = df[df['fEvent'].isin(I_event)]\n",
    "#photon.fsec_KE\n",
    "fig = plt.figure(figsize=(14.0,6.0))\n",
    "\n",
    "\n",
    "plt.hist(isotope_531280[isotope_531280.fPDGID == 22].fsec_KE,bins=500, range=[6.0,7.5])\n",
    "\n",
    "plt.xlabel('Energy [MeV]')\n",
    "plt.ylabel('counts')\n",
    "#plt.yscale('log', nonposy='clip')\n",
    "#plt.yscale('log')\n",
    "\n",
    "plt.title(\"KE of each photon after nCap on I-127\")\n",
    "\n",
    "if(save_):\n",
    "    plt.savefig(\"Espectra/Egamma_I127.png\")\n",
    "    \n",
    "\n",
    "plt.show()"
   ]
  },
  {
   "cell_type": "code",
   "execution_count": null,
   "id": "ca02dc2a",
   "metadata": {},
   "outputs": [],
   "source": []
  },
  {
   "cell_type": "code",
   "execution_count": null,
   "id": "e27586b3",
   "metadata": {},
   "outputs": [],
   "source": [
    "temp_df = df\n",
    "temp_df.set_index(['fEvent'])\n",
    "select_Fe = temp_df.fEvent.iloc[EvntID_Fe] \n",
    "temp_df.iloc[select_Fe.index]\n"
   ]
  },
  {
   "cell_type": "code",
   "execution_count": null,
   "id": "530897fd",
   "metadata": {},
   "outputs": [],
   "source": [
    "photon = df[df.fPDGID == 22]\n",
    "photon_KE_sum = photon.groupby(['fEvent']).sum().fsec_KE\n",
    "photon_count = photon.groupby(['fEvent']).count().fPDGID\n",
    "photon_count"
   ]
  },
  {
   "cell_type": "code",
   "execution_count": null,
   "id": "f91aacbe",
   "metadata": {},
   "outputs": [],
   "source": [
    "fig = plt.figure(figsize=(14.0,6.0))\n",
    "\n",
    "\n",
    "plt.hist(photon_count,bins=10, range=[0,10])\n",
    "\n",
    "plt.xlabel('Number of photons')\n",
    "plt.ylabel('counts')\n",
    "#plt.yscale('log', nonposy='clip')\n",
    "plt.yscale('log')\n",
    "\n",
    "plt.title(\"Number of photons emitted after being nCap\")"
   ]
  },
  {
   "cell_type": "code",
   "execution_count": null,
   "id": "7e4b604e",
   "metadata": {},
   "outputs": [],
   "source": [
    "#photon.fsec_KE\n",
    "fig = plt.figure(figsize=(14.0,6.0))\n",
    "\n",
    "\n",
    "plt.hist(photon.fsec_KE,bins=100, range=[0,20])\n",
    "\n",
    "plt.xlabel('Energy [MeV]')\n",
    "plt.ylabel('counts')\n",
    "#plt.yscale('log', nonposy='clip')\n",
    "#plt.yscale('log')\n",
    "\n",
    "plt.title(\"KE of each photon after nCap\")"
   ]
  },
  {
   "cell_type": "code",
   "execution_count": null,
   "id": "d2b60ad4",
   "metadata": {},
   "outputs": [],
   "source": [
    "fig = plt.figure(figsize=(14.0,6.0))\n",
    "\n",
    "\n",
    "plt.hist(photon_KE_sum,bins=100, range=[0,20])\n",
    "\n",
    "plt.xlabel('Energy [MeV]')\n",
    "plt.ylabel('counts')\n",
    "#plt.yscale('log', nonposy='clip')\n",
    "plt.yscale('log')\n",
    "\n",
    "plt.title(\"sum of Photon KE\")"
   ]
  },
  {
   "cell_type": "code",
   "execution_count": null,
   "id": "271e3607",
   "metadata": {},
   "outputs": [],
   "source": []
  },
  {
   "cell_type": "code",
   "execution_count": null,
   "id": "037fa5c8",
   "metadata": {},
   "outputs": [],
   "source": [
    "check = df.groupby(['fEvent'])\n",
    "isotopes = (check.last()['fPDGID']/10000).astype('int32')\n",
    "isotopes.iloc[:]\n"
   ]
  },
  {
   "cell_type": "code",
   "execution_count": null,
   "id": "f8d1976a",
   "metadata": {},
   "outputs": [],
   "source": [
    "check.count()"
   ]
  },
  {
   "cell_type": "code",
   "execution_count": null,
   "id": "845eed8e",
   "metadata": {},
   "outputs": [],
   "source": [
    "fig = plt.figure(figsize=(14.0,6.0))\n",
    "\n",
    "\n",
    "plt.hist(isotopes.iloc[:],bins=120, range=[0,120])\n",
    "\n",
    "plt.xlabel('Atomic Number')\n",
    "plt.ylabel('counts')\n",
    "#plt.yscale('log', nonposy='clip')\n",
    "plt.yscale('log')\n",
    "\n",
    "plt.title(\"nCap Isotopes\")"
   ]
  },
  {
   "cell_type": "code",
   "execution_count": null,
   "id": "44d704ef",
   "metadata": {},
   "outputs": [],
   "source": [
    "secondaries = df.groupby('fEvent')\n",
    "secondaries.head(10)"
   ]
  },
  {
   "cell_type": "code",
   "execution_count": null,
   "id": "bc302ad0",
   "metadata": {},
   "outputs": [],
   "source": [
    "gammas = df.groupby(['fEvent','fPDGID'])['fsec_KE']\n",
    "KE_sum = (gammas.sum()).to_frame()\n",
    "KE_sum.fsec_KE.iloc[4]"
   ]
  },
  {
   "cell_type": "code",
   "execution_count": null,
   "id": "639ed518",
   "metadata": {},
   "outputs": [],
   "source": [
    "#gammas.__dict__\n",
    "#gammas.obj.iloc[4]\n",
    "df.iloc[4]"
   ]
  },
  {
   "cell_type": "code",
   "execution_count": null,
   "id": "e9323aa0",
   "metadata": {},
   "outputs": [],
   "source": []
  },
  {
   "cell_type": "code",
   "execution_count": null,
   "id": "20dd48cb",
   "metadata": {},
   "outputs": [],
   "source": []
  },
  {
   "cell_type": "code",
   "execution_count": null,
   "id": "15a7b9f8",
   "metadata": {},
   "outputs": [],
   "source": []
  },
  {
   "cell_type": "code",
   "execution_count": null,
   "id": "224b902e",
   "metadata": {},
   "outputs": [],
   "source": []
  },
  {
   "cell_type": "code",
   "execution_count": null,
   "id": "4e9f5f36",
   "metadata": {},
   "outputs": [],
   "source": []
  }
 ],
 "metadata": {
  "kernelspec": {
   "display_name": "Python 3 (ipykernel)",
   "language": "python",
   "name": "python3"
  },
  "language_info": {
   "codemirror_mode": {
    "name": "ipython",
    "version": 3
   },
   "file_extension": ".py",
   "mimetype": "text/x-python",
   "name": "python",
   "nbconvert_exporter": "python",
   "pygments_lexer": "ipython3",
   "version": "3.10.0"
  }
 },
 "nbformat": 4,
 "nbformat_minor": 5
}
