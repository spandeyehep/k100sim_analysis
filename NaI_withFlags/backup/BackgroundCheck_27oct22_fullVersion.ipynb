{
 "cells": [
  {
   "cell_type": "code",
   "execution_count": 1,
   "id": "5e91128d",
   "metadata": {},
   "outputs": [
    {
     "name": "stdout",
     "output_type": "stream",
     "text": [
      "Welcome to JupyROOT 6.26/02\n"
     ]
    }
   ],
   "source": [
    "import os, sys\n",
    "import uproot, awkward\n",
    "import ROOT as rt\n",
    "import numpy as np\n",
    "from array import array\n",
    "from mpl_toolkits import mplot3d\n",
    "import matplotlib.pyplot as plt\n",
    "import numpy as np\n",
    "from tqdm import tqdm\n",
    "import pandas as pd"
   ]
  },
  {
   "cell_type": "code",
   "execution_count": 2,
   "id": "730506cb",
   "metadata": {},
   "outputs": [
    {
     "name": "stdout",
     "output_type": "stream",
     "text": [
      "Total livetime = 82.840 sec\n"
     ]
    }
   ],
   "source": [
    "save_dir = \"with_shield\"\n",
    "events_in_this_sim = 190.0e6\n",
    "livetime = (events_in_this_sim/50.0e6)*21.8\n",
    "print('Total livetime = %0.3f sec'%(livetime))"
   ]
  },
  {
   "cell_type": "code",
   "execution_count": 3,
   "id": "0165466e",
   "metadata": {},
   "outputs": [
    {
     "data": {
      "text/html": [
       "<div>\n",
       "<style scoped>\n",
       "    .dataframe tbody tr th:only-of-type {\n",
       "        vertical-align: middle;\n",
       "    }\n",
       "\n",
       "    .dataframe tbody tr th {\n",
       "        vertical-align: top;\n",
       "    }\n",
       "\n",
       "    .dataframe thead th {\n",
       "        text-align: right;\n",
       "    }\n",
       "</style>\n",
       "<table border=\"1\" class=\"dataframe\">\n",
       "  <thead>\n",
       "    <tr style=\"text-align: right;\">\n",
       "      <th></th>\n",
       "      <th>EV</th>\n",
       "      <th>Type</th>\n",
       "      <th>E1</th>\n",
       "      <th>D3</th>\n",
       "      <th>DT</th>\n",
       "      <th>nCap</th>\n",
       "      <th>time1</th>\n",
       "      <th>Edep</th>\n",
       "      <th>flag</th>\n",
       "      <th>TS</th>\n",
       "    </tr>\n",
       "  </thead>\n",
       "  <tbody>\n",
       "    <tr>\n",
       "      <th>0</th>\n",
       "      <td>166</td>\n",
       "      <td>[2112, 22, 22, 11, 11, 11, 11, 11, 11, 11, 22,...</td>\n",
       "      <td>[2.3117123e-05, 0.47759342, 0.18271975, 2.762e...</td>\n",
       "      <td>[0.0, 0.0, 0.00011346, 2.762e-05, 2.826e-05, 3...</td>\n",
       "      <td>[2019, 2019, 2019, 2019, 2019, 2019, 2019, 201...</td>\n",
       "      <td>[0, 0, 0, 0, 0, 0, 0, 0, 0, 0, 0, 0, 0, 0, 0, ...</td>\n",
       "      <td>[12994.69, 13463.884, 13463.887, 13463.887, 13...</td>\n",
       "      <td>0.477593</td>\n",
       "      <td>False</td>\n",
       "      <td>[100040, 2600004, 2600005, 3800001, 3700001, 3...</td>\n",
       "    </tr>\n",
       "    <tr>\n",
       "      <th>1</th>\n",
       "      <td>174</td>\n",
       "      <td>[22, 11, 11, 11, 11, 11, 11]</td>\n",
       "      <td>[0.1727997, 2.762e-05, 2.94e-05, 0.0001695, 0....</td>\n",
       "      <td>[8.282e-05, 2.762e-05, 2.94e-05, 0.0001695, 0....</td>\n",
       "      <td>[2013, 2013, 2013, 2013, 2013, 2013, 2013]</td>\n",
       "      <td>[0, 0, 0, 0, 0, 0, 0]</td>\n",
       "      <td>[24.067944, 24.067944, 24.067944, 24.067944, 2...</td>\n",
       "      <td>0.172800</td>\n",
       "      <td>False</td>\n",
       "      <td>[500015, 2600001, 2500001, 2400001, 2300001, 2...</td>\n",
       "    </tr>\n",
       "    <tr>\n",
       "      <th>2</th>\n",
       "      <td>366</td>\n",
       "      <td>[22, 22, 22]</td>\n",
       "      <td>[2.223048, 2.223048, 2.223048]</td>\n",
       "      <td>[0.0, 0.0, 0.0]</td>\n",
       "      <td>[2020, 2019, 2018]</td>\n",
       "      <td>[0, 0, 0]</td>\n",
       "      <td>[489024.4, 489024.78, 489024.8]</td>\n",
       "      <td>0.000000</td>\n",
       "      <td>False</td>\n",
       "      <td>[13700006, 13700008, 13700010]</td>\n",
       "    </tr>\n",
       "    <tr>\n",
       "      <th>3</th>\n",
       "      <td>565</td>\n",
       "      <td>[22, 11, 11, 11, 11, 11, 11, 11, 11, 11, 22, 1...</td>\n",
       "      <td>[0.477602, 1.624e-05, 2.826e-05, 2.648e-05, 3....</td>\n",
       "      <td>[0.0001589, 1.624e-05, 2.826e-05, 2.648e-05, 3...</td>\n",
       "      <td>[1001, 1001, 1001, 1001, 1001, 1001, 1001, 100...</td>\n",
       "      <td>[0, 0, 0, 0, 0, 0, 0, 0, 0, 0, 0, 0, 0, 0, 0, ...</td>\n",
       "      <td>[360157.6, 360157.6, 360157.6, 360157.6, 36015...</td>\n",
       "      <td>0.477602</td>\n",
       "      <td>False</td>\n",
       "      <td>[16900004, 18100001, 18000001, 17900001, 17800...</td>\n",
       "    </tr>\n",
       "    <tr>\n",
       "      <th>4</th>\n",
       "      <td>575</td>\n",
       "      <td>[22, 22, 22, 11, 11]</td>\n",
       "      <td>[0.7827267, 0.473947, 0.40591955, 0.06802745, ...</td>\n",
       "      <td>[0.0, 0.0, 0.0, 0.06802745, 0.3087797]</td>\n",
       "      <td>[2020, 2020, 2020, 2020, 2020]</td>\n",
       "      <td>[0, 0, 0, 0, 0]</td>\n",
       "      <td>[2578122.8, 2578122.8, 2578123.0, 2578122.8, 2...</td>\n",
       "      <td>0.376807</td>\n",
       "      <td>False</td>\n",
       "      <td>[10500006, 10500007, 10500008, 10700001, 10600...</td>\n",
       "    </tr>\n",
       "  </tbody>\n",
       "</table>\n",
       "</div>"
      ],
      "text/plain": [
       "    EV                                               Type  \\\n",
       "0  166  [2112, 22, 22, 11, 11, 11, 11, 11, 11, 11, 22,...   \n",
       "1  174                       [22, 11, 11, 11, 11, 11, 11]   \n",
       "2  366                                       [22, 22, 22]   \n",
       "3  565  [22, 11, 11, 11, 11, 11, 11, 11, 11, 11, 22, 1...   \n",
       "4  575                               [22, 22, 22, 11, 11]   \n",
       "\n",
       "                                                  E1  \\\n",
       "0  [2.3117123e-05, 0.47759342, 0.18271975, 2.762e...   \n",
       "1  [0.1727997, 2.762e-05, 2.94e-05, 0.0001695, 0....   \n",
       "2                     [2.223048, 2.223048, 2.223048]   \n",
       "3  [0.477602, 1.624e-05, 2.826e-05, 2.648e-05, 3....   \n",
       "4  [0.7827267, 0.473947, 0.40591955, 0.06802745, ...   \n",
       "\n",
       "                                                  D3  \\\n",
       "0  [0.0, 0.0, 0.00011346, 2.762e-05, 2.826e-05, 3...   \n",
       "1  [8.282e-05, 2.762e-05, 2.94e-05, 0.0001695, 0....   \n",
       "2                                    [0.0, 0.0, 0.0]   \n",
       "3  [0.0001589, 1.624e-05, 2.826e-05, 2.648e-05, 3...   \n",
       "4             [0.0, 0.0, 0.0, 0.06802745, 0.3087797]   \n",
       "\n",
       "                                                  DT  \\\n",
       "0  [2019, 2019, 2019, 2019, 2019, 2019, 2019, 201...   \n",
       "1         [2013, 2013, 2013, 2013, 2013, 2013, 2013]   \n",
       "2                                 [2020, 2019, 2018]   \n",
       "3  [1001, 1001, 1001, 1001, 1001, 1001, 1001, 100...   \n",
       "4                     [2020, 2020, 2020, 2020, 2020]   \n",
       "\n",
       "                                                nCap  \\\n",
       "0  [0, 0, 0, 0, 0, 0, 0, 0, 0, 0, 0, 0, 0, 0, 0, ...   \n",
       "1                              [0, 0, 0, 0, 0, 0, 0]   \n",
       "2                                          [0, 0, 0]   \n",
       "3  [0, 0, 0, 0, 0, 0, 0, 0, 0, 0, 0, 0, 0, 0, 0, ...   \n",
       "4                                    [0, 0, 0, 0, 0]   \n",
       "\n",
       "                                               time1      Edep   flag  \\\n",
       "0  [12994.69, 13463.884, 13463.887, 13463.887, 13...  0.477593  False   \n",
       "1  [24.067944, 24.067944, 24.067944, 24.067944, 2...  0.172800  False   \n",
       "2                    [489024.4, 489024.78, 489024.8]  0.000000  False   \n",
       "3  [360157.6, 360157.6, 360157.6, 360157.6, 36015...  0.477602  False   \n",
       "4  [2578122.8, 2578122.8, 2578123.0, 2578122.8, 2...  0.376807  False   \n",
       "\n",
       "                                                  TS  \n",
       "0  [100040, 2600004, 2600005, 3800001, 3700001, 3...  \n",
       "1  [500015, 2600001, 2500001, 2400001, 2300001, 2...  \n",
       "2                     [13700006, 13700008, 13700010]  \n",
       "3  [16900004, 18100001, 18000001, 17900001, 17800...  \n",
       "4  [10500006, 10500007, 10500008, 10700001, 10600...  "
      ]
     },
     "execution_count": 3,
     "metadata": {},
     "output_type": "execute_result"
    }
   ],
   "source": [
    "dir_ = '/Users/shubhampandey/work/geant4/k100sim_anthony/sim_files'\n",
    "inFile_k100 = '%s/sim_190M_PuBe_sourceAndshields_boronBox_walls_floor_boronShield_V6H6_1inch_withFlags.root'%(dir_)\n",
    "\n",
    "\n",
    "file_k100 = uproot.open(inFile_k100)\n",
    "if(not file_k100):\n",
    "    print(\"could not open file: %s\"%(inFile_k100))\n",
    "    sys.exit(0)\n",
    "    \n",
    "tree_k100 = file_k100[\"simtree\"]\n",
    "\n",
    "if(not tree_k100):\n",
    "    print(\"simtree does not exist in file: %s\"%(file_k100))\n",
    "    sys.exit(0)\n",
    "\n",
    "EV = tree_k100[\"EV\"].array(library=\"np\")\n",
    "EV = EV - 1\n",
    "Type = tree_k100[\"Type\"].array(library=\"np\")\n",
    "E1 = tree_k100[\"E1\"].array(library=\"np\")\n",
    "D3 = tree_k100[\"D3\"].array(library=\"np\")\n",
    "DT = tree_k100[\"DT\"].array(library=\"np\")\n",
    "nCap = tree_k100[\"nCap\"].array(library=\"np\")\n",
    "time1 = tree_k100[\"time1\"].array(library=\"np\")\n",
    "\n",
    "k100 = pd.DataFrame( {'EV' : EV,\n",
    "                  'Type' : Type,\n",
    "                  'E1' : E1,\n",
    "                  'D3' : D3,\n",
    "                      'DT' : DT,\n",
    "                     'nCap' : nCap,\n",
    "                     'time1' : time1}\n",
    "                 )\n",
    "k100['Edep'] = k100.D3.map(sum)\n",
    "k100['flag'] = k100.nCap.map(sum).astype(bool)\n",
    "k100['TS'] = tree_k100[\"TS\"].array(library=\"np\")\n",
    "k100.head(5)"
   ]
  },
  {
   "cell_type": "code",
   "execution_count": 4,
   "id": "7b4a8567",
   "metadata": {},
   "outputs": [],
   "source": [
    "def tile_energy(df_):\n",
    "    #a = (np.dstack((df_.DT,df_.D3)))[0]\n",
    "    a = (np.dstack((df_.DT,df_.D3,df_.time1)))[0]\n",
    "    #print (a)\n",
    "    temp = {}\n",
    "    for i in a:\n",
    "        if(i[2] > 1.e11):\n",
    "            continue\n",
    "        if(i[0] in temp):\n",
    "            temp[i[0]] += i[1]\n",
    "        else:\n",
    "            temp[i[0]] = i[1]\n",
    "    #print (temp)\n",
    "    return np.array([temp[i] for i in temp.keys()])"
   ]
  },
  {
   "cell_type": "code",
   "execution_count": 5,
   "id": "a9cffbb2",
   "metadata": {},
   "outputs": [],
   "source": [
    "k100['tile_energy'] = k100.apply(tile_energy,axis=1)"
   ]
  },
  {
   "cell_type": "code",
   "execution_count": 6,
   "id": "2a478e7f",
   "metadata": {},
   "outputs": [],
   "source": [
    "def Egamma(df_):\n",
    "    indices = np.where(df_.Type == 22)[0]\n",
    "    energy = []\n",
    "    gammas = {}\n",
    "    for i in indices:\n",
    "        #print(df_.TS)\n",
    "        track = int((df_.TS)[i]/1e5)\n",
    "        if(not (track in gammas)):\n",
    "            gammas[track] = 'yolo'+str(track)\n",
    "            energy.append((df_.E1)[i])\n",
    "    return energy"
   ]
  },
  {
   "cell_type": "code",
   "execution_count": 7,
   "id": "ebc673ac",
   "metadata": {},
   "outputs": [],
   "source": [
    "k100['Egamma'] = k100.apply(Egamma,axis=1)"
   ]
  },
  {
   "cell_type": "code",
   "execution_count": 8,
   "id": "ee127f87",
   "metadata": {},
   "outputs": [],
   "source": [
    "def nCap_isoTope(df_):\n",
    "    if(df_.flag == 0):\n",
    "        if(76 in ([int(i*10) for i in (df_.Egamma)])):\n",
    "            return 57026\n",
    "        else:\n",
    "            return -1\n",
    "    else:\n",
    "        index = np.where(df_.nCap ==1)[0][0]\n",
    "        return (df_.Type)[index+1]"
   ]
  },
  {
   "cell_type": "code",
   "execution_count": 9,
   "id": "c84c6c9b",
   "metadata": {},
   "outputs": [],
   "source": [
    "k100['nCapType'] = k100.apply(nCap_isoTope,axis=1)"
   ]
  },
  {
   "cell_type": "code",
   "execution_count": null,
   "id": "8fde90b7",
   "metadata": {},
   "outputs": [],
   "source": []
  },
  {
   "cell_type": "code",
   "execution_count": null,
   "id": "3afae96a",
   "metadata": {},
   "outputs": [],
   "source": []
  },
  {
   "cell_type": "code",
   "execution_count": 10,
   "id": "5351d9a8",
   "metadata": {},
   "outputs": [
    {
     "data": {
      "text/plain": [
       "[26, 26, 31, 30]"
      ]
     },
     "execution_count": 10,
     "metadata": {},
     "output_type": "execute_result"
    }
   ],
   "source": [
    "indices = np.where(k100[k100.EV == 166].Type.explode() == 22)[0]\n",
    "[int((k100[k100.EV == 166].TS.explode()).iloc[i]/1e5) for i in indices]"
   ]
  },
  {
   "cell_type": "code",
   "execution_count": null,
   "id": "f2e45d50",
   "metadata": {},
   "outputs": [],
   "source": []
  },
  {
   "cell_type": "code",
   "execution_count": 11,
   "id": "7c6bfbeb",
   "metadata": {},
   "outputs": [
    {
     "data": {
      "text/html": [
       "<div>\n",
       "<style scoped>\n",
       "    .dataframe tbody tr th:only-of-type {\n",
       "        vertical-align: middle;\n",
       "    }\n",
       "\n",
       "    .dataframe tbody tr th {\n",
       "        vertical-align: top;\n",
       "    }\n",
       "\n",
       "    .dataframe thead th {\n",
       "        text-align: right;\n",
       "    }\n",
       "</style>\n",
       "<table border=\"1\" class=\"dataframe\">\n",
       "  <thead>\n",
       "    <tr style=\"text-align: right;\">\n",
       "      <th></th>\n",
       "      <th>EV</th>\n",
       "      <th>Type</th>\n",
       "      <th>E1</th>\n",
       "      <th>D3</th>\n",
       "      <th>DT</th>\n",
       "      <th>nCap</th>\n",
       "      <th>time1</th>\n",
       "      <th>Edep</th>\n",
       "      <th>flag</th>\n",
       "      <th>TS</th>\n",
       "      <th>tile_energy</th>\n",
       "      <th>Egamma</th>\n",
       "      <th>nCapType</th>\n",
       "    </tr>\n",
       "  </thead>\n",
       "  <tbody>\n",
       "    <tr>\n",
       "      <th>0</th>\n",
       "      <td>166</td>\n",
       "      <td>[2112, 22, 22, 11, 11, 11, 11, 11, 11, 11, 22,...</td>\n",
       "      <td>[2.3117123e-05, 0.47759342, 0.18271975, 2.762e...</td>\n",
       "      <td>[0.0, 0.0, 0.00011346, 2.762e-05, 2.826e-05, 3...</td>\n",
       "      <td>[2019, 2019, 2019, 2019, 2019, 2019, 2019, 201...</td>\n",
       "      <td>[0, 0, 0, 0, 0, 0, 0, 0, 0, 0, 0, 0, 0, 0, 0, ...</td>\n",
       "      <td>[12994.69, 13463.884, 13463.887, 13463.887, 13...</td>\n",
       "      <td>0.477593</td>\n",
       "      <td>False</td>\n",
       "      <td>[100040, 2600004, 2600005, 3800001, 3700001, 3...</td>\n",
       "      <td>[0.4775934128301742]</td>\n",
       "      <td>[0.47759342, 0.00421604, 0.0283065]</td>\n",
       "      <td>-1</td>\n",
       "    </tr>\n",
       "    <tr>\n",
       "      <th>1</th>\n",
       "      <td>174</td>\n",
       "      <td>[22, 11, 11, 11, 11, 11, 11]</td>\n",
       "      <td>[0.1727997, 2.762e-05, 2.94e-05, 0.0001695, 0....</td>\n",
       "      <td>[8.282e-05, 2.762e-05, 2.94e-05, 0.0001695, 0....</td>\n",
       "      <td>[2013, 2013, 2013, 2013, 2013, 2013, 2013]</td>\n",
       "      <td>[0, 0, 0, 0, 0, 0, 0]</td>\n",
       "      <td>[24.067944, 24.067944, 24.067944, 24.067944, 2...</td>\n",
       "      <td>0.172800</td>\n",
       "      <td>False</td>\n",
       "      <td>[500015, 2600001, 2500001, 2400001, 2300001, 2...</td>\n",
       "      <td>[0.17279971121206472]</td>\n",
       "      <td>[0.1727997]</td>\n",
       "      <td>-1</td>\n",
       "    </tr>\n",
       "    <tr>\n",
       "      <th>2</th>\n",
       "      <td>366</td>\n",
       "      <td>[22, 22, 22]</td>\n",
       "      <td>[2.223048, 2.223048, 2.223048]</td>\n",
       "      <td>[0.0, 0.0, 0.0]</td>\n",
       "      <td>[2020, 2019, 2018]</td>\n",
       "      <td>[0, 0, 0]</td>\n",
       "      <td>[489024.4, 489024.78, 489024.8]</td>\n",
       "      <td>0.000000</td>\n",
       "      <td>False</td>\n",
       "      <td>[13700006, 13700008, 13700010]</td>\n",
       "      <td>[0.0, 0.0, 0.0]</td>\n",
       "      <td>[2.223048]</td>\n",
       "      <td>-1</td>\n",
       "    </tr>\n",
       "    <tr>\n",
       "      <th>3</th>\n",
       "      <td>565</td>\n",
       "      <td>[22, 11, 11, 11, 11, 11, 11, 11, 11, 11, 22, 1...</td>\n",
       "      <td>[0.477602, 1.624e-05, 2.826e-05, 2.648e-05, 3....</td>\n",
       "      <td>[0.0001589, 1.624e-05, 2.826e-05, 2.648e-05, 3...</td>\n",
       "      <td>[1001, 1001, 1001, 1001, 1001, 1001, 1001, 100...</td>\n",
       "      <td>[0, 0, 0, 0, 0, 0, 0, 0, 0, 0, 0, 0, 0, 0, 0, ...</td>\n",
       "      <td>[360157.6, 360157.6, 360157.6, 360157.6, 36015...</td>\n",
       "      <td>0.477602</td>\n",
       "      <td>False</td>\n",
       "      <td>[16900004, 18100001, 18000001, 17900001, 17800...</td>\n",
       "      <td>[0.4776020107765362]</td>\n",
       "      <td>[0.477602, 0.0286095]</td>\n",
       "      <td>-1</td>\n",
       "    </tr>\n",
       "    <tr>\n",
       "      <th>4</th>\n",
       "      <td>575</td>\n",
       "      <td>[22, 22, 22, 11, 11]</td>\n",
       "      <td>[0.7827267, 0.473947, 0.40591955, 0.06802745, ...</td>\n",
       "      <td>[0.0, 0.0, 0.0, 0.06802745, 0.3087797]</td>\n",
       "      <td>[2020, 2020, 2020, 2020, 2020]</td>\n",
       "      <td>[0, 0, 0, 0, 0]</td>\n",
       "      <td>[2578122.8, 2578122.8, 2578123.0, 2578122.8, 2...</td>\n",
       "      <td>0.376807</td>\n",
       "      <td>False</td>\n",
       "      <td>[10500006, 10500007, 10500008, 10700001, 10600...</td>\n",
       "      <td>[0.3768071383237839]</td>\n",
       "      <td>[0.7827267]</td>\n",
       "      <td>-1</td>\n",
       "    </tr>\n",
       "  </tbody>\n",
       "</table>\n",
       "</div>"
      ],
      "text/plain": [
       "    EV                                               Type  \\\n",
       "0  166  [2112, 22, 22, 11, 11, 11, 11, 11, 11, 11, 22,...   \n",
       "1  174                       [22, 11, 11, 11, 11, 11, 11]   \n",
       "2  366                                       [22, 22, 22]   \n",
       "3  565  [22, 11, 11, 11, 11, 11, 11, 11, 11, 11, 22, 1...   \n",
       "4  575                               [22, 22, 22, 11, 11]   \n",
       "\n",
       "                                                  E1  \\\n",
       "0  [2.3117123e-05, 0.47759342, 0.18271975, 2.762e...   \n",
       "1  [0.1727997, 2.762e-05, 2.94e-05, 0.0001695, 0....   \n",
       "2                     [2.223048, 2.223048, 2.223048]   \n",
       "3  [0.477602, 1.624e-05, 2.826e-05, 2.648e-05, 3....   \n",
       "4  [0.7827267, 0.473947, 0.40591955, 0.06802745, ...   \n",
       "\n",
       "                                                  D3  \\\n",
       "0  [0.0, 0.0, 0.00011346, 2.762e-05, 2.826e-05, 3...   \n",
       "1  [8.282e-05, 2.762e-05, 2.94e-05, 0.0001695, 0....   \n",
       "2                                    [0.0, 0.0, 0.0]   \n",
       "3  [0.0001589, 1.624e-05, 2.826e-05, 2.648e-05, 3...   \n",
       "4             [0.0, 0.0, 0.0, 0.06802745, 0.3087797]   \n",
       "\n",
       "                                                  DT  \\\n",
       "0  [2019, 2019, 2019, 2019, 2019, 2019, 2019, 201...   \n",
       "1         [2013, 2013, 2013, 2013, 2013, 2013, 2013]   \n",
       "2                                 [2020, 2019, 2018]   \n",
       "3  [1001, 1001, 1001, 1001, 1001, 1001, 1001, 100...   \n",
       "4                     [2020, 2020, 2020, 2020, 2020]   \n",
       "\n",
       "                                                nCap  \\\n",
       "0  [0, 0, 0, 0, 0, 0, 0, 0, 0, 0, 0, 0, 0, 0, 0, ...   \n",
       "1                              [0, 0, 0, 0, 0, 0, 0]   \n",
       "2                                          [0, 0, 0]   \n",
       "3  [0, 0, 0, 0, 0, 0, 0, 0, 0, 0, 0, 0, 0, 0, 0, ...   \n",
       "4                                    [0, 0, 0, 0, 0]   \n",
       "\n",
       "                                               time1      Edep   flag  \\\n",
       "0  [12994.69, 13463.884, 13463.887, 13463.887, 13...  0.477593  False   \n",
       "1  [24.067944, 24.067944, 24.067944, 24.067944, 2...  0.172800  False   \n",
       "2                    [489024.4, 489024.78, 489024.8]  0.000000  False   \n",
       "3  [360157.6, 360157.6, 360157.6, 360157.6, 36015...  0.477602  False   \n",
       "4  [2578122.8, 2578122.8, 2578123.0, 2578122.8, 2...  0.376807  False   \n",
       "\n",
       "                                                  TS            tile_energy  \\\n",
       "0  [100040, 2600004, 2600005, 3800001, 3700001, 3...   [0.4775934128301742]   \n",
       "1  [500015, 2600001, 2500001, 2400001, 2300001, 2...  [0.17279971121206472]   \n",
       "2                     [13700006, 13700008, 13700010]        [0.0, 0.0, 0.0]   \n",
       "3  [16900004, 18100001, 18000001, 17900001, 17800...   [0.4776020107765362]   \n",
       "4  [10500006, 10500007, 10500008, 10700001, 10600...   [0.3768071383237839]   \n",
       "\n",
       "                                Egamma  nCapType  \n",
       "0  [0.47759342, 0.00421604, 0.0283065]        -1  \n",
       "1                          [0.1727997]        -1  \n",
       "2                           [2.223048]        -1  \n",
       "3                [0.477602, 0.0286095]        -1  \n",
       "4                          [0.7827267]        -1  "
      ]
     },
     "execution_count": 11,
     "metadata": {},
     "output_type": "execute_result"
    }
   ],
   "source": [
    "k100.head(5)"
   ]
  },
  {
   "cell_type": "code",
   "execution_count": 12,
   "id": "485aca25",
   "metadata": {},
   "outputs": [
    {
     "data": {
      "text/plain": [
       "-1        9271\n",
       " 57026    3150\n",
       " 24011      96\n",
       " 23010       5\n",
       " 20009       4\n",
       "Name: nCapType, dtype: int64"
      ]
     },
     "execution_count": 12,
     "metadata": {},
     "output_type": "execute_result"
    }
   ],
   "source": [
    "k100[(k100.Edep > 6) & (k100.Edep < 8) & (k100.nCapType != 128053)].nCapType.value_counts()"
   ]
  },
  {
   "cell_type": "code",
   "execution_count": null,
   "id": "e52a198e",
   "metadata": {},
   "outputs": [],
   "source": []
  },
  {
   "cell_type": "code",
   "execution_count": null,
   "id": "98602edd",
   "metadata": {},
   "outputs": [],
   "source": []
  },
  {
   "cell_type": "code",
   "execution_count": 18,
   "id": "bf167aba",
   "metadata": {},
   "outputs": [
    {
     "data": {
      "text/plain": [
       "2282       6.494371\n",
       "4495       3.206758\n",
       "6302       5.229578\n",
       "9306       0.967278\n",
       "9459       6.631008\n",
       "             ...   \n",
       "1185665    1.086984\n",
       "1187640    2.590129\n",
       "1196069    4.829568\n",
       "1196080    6.959676\n",
       "1198114    0.948612\n",
       "Name: tile_energy, Length: 502, dtype: float64"
      ]
     },
     "execution_count": 18,
     "metadata": {},
     "output_type": "execute_result"
    }
   ],
   "source": [
    "k100[k100.nCapType == 24011].tile_energy.map(sum)"
   ]
  },
  {
   "cell_type": "code",
   "execution_count": 69,
   "id": "92f4e920",
   "metadata": {},
   "outputs": [],
   "source": [
    "\n"
   ]
  },
  {
   "cell_type": "code",
   "execution_count": 13,
   "id": "9995af87",
   "metadata": {},
   "outputs": [
    {
     "data": {
      "image/png": "[encoded data removed]",
      "text/plain": [
       "<IPython.core.display.Image object>"
      ]
     },
     "metadata": {},
     "output_type": "display_data"
    }
   ],
   "source": [
    "#gamma_energy = k100[(k100.Edep > 6) & (k100.Edep < 8) & (k100.nCapType != 128053)].Egamma.explode()\n",
    "gamma_energy = k100[(k100.nCapType == 57026)].Egamma.explode()\n",
    "h_gamma_energy = rt.TH1F(\"h_gamma_energy\",\"Tile Energy\",500,6.5,8)\n",
    "h_gamma_energy.Sumw2()\n",
    "\n",
    "for energy in gamma_energy:\n",
    "#     temp = int(energy*10)\n",
    "#     if(temp == 76):\n",
    "#         continue\n",
    "    h_gamma_energy.Fill(energy)\n",
    "    \n",
    "c = rt.TCanvas()\n",
    "h_gamma_energy.Draw('hist')\n",
    "rt.gStyle.SetOptStat(1111)\n",
    "#rt.gPad.SetLogy()\n",
    "c.Draw()"
   ]
  },
  {
   "cell_type": "code",
   "execution_count": 14,
   "id": "0f7f9f60",
   "metadata": {},
   "outputs": [
    {
     "data": {
      "image/png": "[encoded data removed]",
      "text/plain": [
       "<IPython.core.display.Image object>"
      ]
     },
     "metadata": {},
     "output_type": "display_data"
    }
   ],
   "source": [
    "h_k100sim_tile_energy = rt.TH1F(\"h_k100sim_tile_energy\",\"Tile Energy\",240,0,12)\n",
    "h_k100sim_tile_energy.Sumw2()\n",
    "tileEnergy = k100.tile_energy.explode()\n",
    "for energy in tileEnergy:\n",
    "    h_k100sim_tile_energy.Fill(energy)\n",
    "    \n",
    "c = rt.TCanvas()\n",
    "h_k100sim_tile_energy.Draw('hist')\n",
    "rt.gPad.SetLogy()\n",
    "c.Draw()"
   ]
  },
  {
   "cell_type": "code",
   "execution_count": 15,
   "id": "a270d904",
   "metadata": {},
   "outputs": [
    {
     "data": {
      "image/png": "[encoded data removed]",
      "text/plain": [
       "<IPython.core.display.Image object>"
      ]
     },
     "metadata": {},
     "output_type": "display_data"
    }
   ],
   "source": [
    "h_k100sim_tile_energy_sansI127 = rt.TH1F(\"h_k100sim_tile_energy_sansI127\",\"Tile Energy sans I127\",240,0,12)\n",
    "h_k100sim_tile_energy_sansI127.Sumw2()\n",
    "tileEnergy = k100[k100.nCapType != 128053].tile_energy.explode()\n",
    "\n",
    "for energy in tileEnergy:\n",
    "    h_k100sim_tile_energy_sansI127.Fill(energy)\n",
    "    \n",
    "c = rt.TCanvas()\n",
    "h_k100sim_tile_energy.Draw('hist')\n",
    "h_k100sim_tile_energy_sansI127.SetLineColor(rt.kRed)\n",
    "h_k100sim_tile_energy_sansI127.Draw('hist same')\n",
    "rt.gPad.SetLogy()\n",
    "c.Draw()"
   ]
  },
  {
   "cell_type": "code",
   "execution_count": 17,
   "id": "fd9efcde",
   "metadata": {},
   "outputs": [
    {
     "data": {
      "image/png": "[encoded data removed]",
      "text/plain": [
       "<IPython.core.display.Image object>"
      ]
     },
     "metadata": {},
     "output_type": "display_data"
    }
   ],
   "source": [
    "h_k100sim_tile_energy_sansI127_Na23 = rt.TH1F(\"h_k100sim_tile_energy_sansI127_Na23\",\"Tile Energy sans I127 & Na23\",240,0,12)\n",
    "h_k100sim_tile_energy_sansI127_Na23.Sumw2()\n",
    "tileEnergy = k100[(k100.nCapType != 128053) & (k100.nCapType != 24011)].tile_energy.explode()\n",
    "\n",
    "for energy in tileEnergy:\n",
    "    h_k100sim_tile_energy_sansI127_Na23.Fill(energy)\n",
    "    \n",
    "c = rt.TCanvas()\n",
    "h_k100sim_tile_energy.Draw('hist')\n",
    "h_k100sim_tile_energy_sansI127.SetLineColor(rt.kRed)\n",
    "h_k100sim_tile_energy_sansI127.Draw('hist same')\n",
    "h_k100sim_tile_energy_sansI127_Na23.SetLineColor(rt.kGreen)\n",
    "h_k100sim_tile_energy_sansI127_Na23.SetLineStyle(2)\n",
    "h_k100sim_tile_energy_sansI127_Na23.Draw('hist same')\n",
    "rt.gPad.SetLogy()\n",
    "c.Draw()"
   ]
  },
  {
   "cell_type": "code",
   "execution_count": 18,
   "id": "330d27c8",
   "metadata": {},
   "outputs": [
    {
     "data": {
      "image/png": "[encoded data removed]",
      "text/plain": [
       "<IPython.core.display.Image object>"
      ]
     },
     "metadata": {},
     "output_type": "display_data"
    }
   ],
   "source": [
    "NaI_Esum = [np.sum(i) for i in k100.tile_energy]\n",
    "h_k100sim_NaIEsum = rt.TH1F(\"h_k100sim_NaIEsum\",\"Esum NaI\",240,0,12)\n",
    "h_k100sim_NaIEsum.Sumw2()\n",
    "\n",
    "for energy in NaI_Esum:\n",
    "    h_k100sim_NaIEsum.Fill(energy)\n",
    "    \n",
    "c = rt.TCanvas()\n",
    "h_k100sim_NaIEsum.Draw('hist')\n",
    "rt.gPad.SetLogy()\n",
    "c.Draw()"
   ]
  },
  {
   "cell_type": "code",
   "execution_count": null,
   "id": "573a1963",
   "metadata": {},
   "outputs": [],
   "source": []
  },
  {
   "cell_type": "code",
   "execution_count": 17,
   "id": "b4903077",
   "metadata": {},
   "outputs": [
    {
     "name": "stdout",
     "output_type": "stream",
     "text": [
      "low  =  [0.1, 0.15, 0.2, 0.25, 0.3, 0.35, 0.4, 0.45, 0.5, 0.55]\n",
      "high =  [0.15, 0.2, 0.25, 0.3, 0.35, 0.4, 0.45, 0.5, 0.55, 0.6]\n",
      "center =  [0.125, 0.175, 0.225, 0.275, 0.325, 0.375, 0.425, 0.475, 0.525, 0.575]\n"
     ]
    }
   ],
   "source": [
    "#[round(i,3) for i in np.arange(0.125,11.975,0.05)]\n",
    "len([round(i,3) for i in np.arange(0.15,12.,0.05)])\n",
    "up_thresholds = [round(i,3) for i in np.arange(0.15,12.,0.05)]\n",
    "low_thresholds = [round(i,3) for i in np.arange(0.1,11.95,0.05)]\n",
    "mid = [round(i,3) for i in np.arange(0.125,11.975,0.05)]\n",
    "print('low  = ',(low_thresholds[0:10]))\n",
    "print('high = ',(up_thresholds[0:10]))\n",
    "print('center = ',(mid[0:10]))"
   ]
  },
  {
   "cell_type": "code",
   "execution_count": 23,
   "id": "1d027e4c",
   "metadata": {},
   "outputs": [],
   "source": [
    "def calculate_trigger():\n",
    "    print ('Calculating trigger rate...')\n",
    "    triggered_events = 0\n",
    "    up_thresholds = [round(i,3) for i in np.arange(0.15,12.,0.05)]\n",
    "    low_thresholds = [round(i,3) for i in np.arange(0.1,11.95,0.05)]\n",
    "    mid = [round(i,3) for i in np.arange(0.125,11.975,0.05)]\n",
    "    triggered_list = {}\n",
    "    n = len(mid)\n",
    "    trig_event_list = np.zeros(n)\n",
    "    skipped_events = 0\n",
    "    for threshold in mid:\n",
    "        triggered_list['%f'%(threshold)] = 0\n",
    "\n",
    "\n",
    "\n",
    "    for i in tqdm(range(len(k100))):\n",
    "        temp_trigger = np.zeros(n)\n",
    "        temp_veto = np.zeros(n)\n",
    "        for energy in k100.tile_energy.iloc[i]:\n",
    "            veto = False\n",
    "            trigger = False\n",
    "\n",
    "            for j,threshold in enumerate(up_thresholds):\n",
    "                if(energy > threshold):\n",
    "                    temp_veto[j] = True\n",
    "                elif(energy > low_thresholds[j]):\n",
    "                    temp_trigger[j] = True\n",
    "\n",
    "        for j in range(n):\n",
    "            if(not temp_veto[j] and temp_trigger[j]):\n",
    "                triggered_list['%f'%(mid[j])] += 1\n",
    "            #triggered_events += 1\n",
    "    #         print('%d : %f'%(i,energy))\n",
    "    #         break\n",
    "#         print ('event = ',i)\n",
    "#         print ('tile_energy = ',k100.tile_energy.iloc[i])\n",
    "#         print ('trigger = ',temp_trigger)\n",
    "#         print ('veto = ',temp_veto)\n",
    "\n",
    "    \n",
    "    #print (triggered_list)\n",
    "#     print('Total trigger events = %d'%(triggered_list['3.125']))\n",
    "#     print('Total trigger rate = %f Hz'%(triggered_list['3.125']/0.218))\n",
    "    print('Skipped events = ',skipped_events)\n",
    "    livetime = (events_in_this_sim - skipped_events) * (21.8/50e6)\n",
    "    print ('Full livetime = %0.4f sec'%(events_in_this_sim*((21.8/50e6))))\n",
    "    print ('After removal livetime = %0.4f sec'%(livetime))\n",
    "    x = np.zeros(n)\n",
    "    y = np.zeros(n)\n",
    "    erry = np.zeros(n)\n",
    "    for i,j in enumerate(triggered_list.keys()):\n",
    "        x[i] = float(j)\n",
    "        y[i] = (triggered_list[j])/livetime\n",
    "        \n",
    "        erry[i] = np.sqrt(triggered_list[j])/livetime\n",
    "    return np.c_[np.c_[x,y],erry]"
   ]
  },
  {
   "cell_type": "code",
   "execution_count": 24,
   "id": "201b0864",
   "metadata": {},
   "outputs": [
    {
     "name": "stdout",
     "output_type": "stream",
     "text": [
      "Calculating trigger rate...\n"
     ]
    },
    {
     "name": "stderr",
     "output_type": "stream",
     "text": [
      "100%|███████████████████████████████████████████████████████████████████████████████████████████████████████████████████████████████████████████████████████████████████████████████| 1200635/1200635 [00:55<00:00, 21736.97it/s]\n"
     ]
    },
    {
     "name": "stdout",
     "output_type": "stream",
     "text": [
      "Skipped events =  0\n",
      "Full livetime = 82.8400 sec\n",
      "After removal livetime = 82.8400 sec\n"
     ]
    }
   ],
   "source": [
    "trigger_rate = calculate_trigger()\n"
   ]
  },
  {
   "cell_type": "code",
   "execution_count": null,
   "id": "b79e0bf5",
   "metadata": {},
   "outputs": [],
   "source": []
  },
  {
   "cell_type": "code",
   "execution_count": 20,
   "id": "af38ca10",
   "metadata": {},
   "outputs": [
    {
     "data": {
      "image/png": "[encoded data removed]",
      "text/plain": [
       "<Figure size 1008x576 with 1 Axes>"
      ]
     },
     "metadata": {
      "needs_background": "light"
     },
     "output_type": "display_data"
    }
   ],
   "source": [
    "fig = plt.figure(figsize=(14.0,8.0))\n",
    "\n",
    "plt.errorbar(trigger_rate[:,0], trigger_rate[:,1], yerr=trigger_rate[:,2], marker='s', color='blue', alpha=0.5, label='Sim all')\n",
    "\n",
    "# plt.scatter(trigger_rate_inclusive[:,0], trigger_rate_inclusive[:,1], marker='s', color='blue', alpha=0.5, label='Sim all')\n",
    "# plt.scatter(trigger_rate_sansFe56[:,0], trigger_rate_sansFe56[:,1], marker='v', color='green', alpha=0.5, label='Sim w/o Fe56')\n",
    "# plt.scatter(trigger_rate_sansCl35[:,0], trigger_rate_sansCl35[:,1], marker='X', color='magenta', alpha=0.5, label='Sim w/o Cl35')\n",
    "# plt.scatter(trigger_rate_sansI127[:,0], trigger_rate_sansI127[:,1], marker='^', color='red', alpha=0.5, label='Sim w/o I127')\n",
    "#plt.scatter(data_rate[:,0], data_rate[:,1], color='black', label='data')\n",
    "\n",
    "plt.xlabel('Threshold [MeV]')\n",
    "plt.ylabel('Trigger rate [Hz]')\n",
    "\n",
    "plt.legend()\n",
    "\n",
    "plt.title(\"Trigger rate comparison\")\n",
    "plt.show()"
   ]
  },
  {
   "cell_type": "code",
   "execution_count": 25,
   "id": "78543300",
   "metadata": {},
   "outputs": [],
   "source": [
    "h_k100sim_bkg_NaI_Edep_all_zoomed = rt.TH1F(\"h_k100sim_bkg_NaI_Edep_all_zoomed\",\"Energy deposited in NaI (zoomed)\",240,0,12)\n",
    "h_k100sim_bkg_NaI_Edep_all_zoomed.Sumw2()\n",
    "\n",
    "i = 3\n",
    "while (i < h_k100sim_bkg_NaI_Edep_all_zoomed.GetNbinsX()):\n",
    "    if((i-3) > len(trigger_rate)):\n",
    "        break\n",
    "    bincenter = round(h_k100sim_bkg_NaI_Edep_all_zoomed.GetBinCenter(i),3)\n",
    "    if(bincenter != trigger_rate[i-3][0]):\n",
    "        print(bincenter, ' : ', trigger_rate[i-3][0])\n",
    "        break\n",
    "    else:\n",
    "        h_k100sim_bkg_NaI_Edep_all_zoomed.SetBinContent(i,trigger_rate[i-3][1])\n",
    "        h_k100sim_bkg_NaI_Edep_all_zoomed.SetBinError(i,trigger_rate[i-3][2])\n",
    "    i += 1\n"
   ]
  },
  {
   "cell_type": "code",
   "execution_count": 26,
   "id": "657f8d5d",
   "metadata": {},
   "outputs": [
    {
     "data": {
      "image/png": "[encoded data removed]",
      "text/plain": [
       "<IPython.core.display.Image object>"
      ]
     },
     "metadata": {},
     "output_type": "display_data"
    }
   ],
   "source": [
    "c = rt.TCanvas()\n",
    "h_k100sim_bkg_NaI_Edep_all_zoomed.Draw('hist')\n",
    "\n",
    "#h_k100sim_bkg_NaI_Edep_all_zoomed.GetXaxis().SetRangeUser(0,8)\n",
    "rt.gPad.SetLogy()\n",
    "c.Draw()"
   ]
  },
  {
   "cell_type": "code",
   "execution_count": null,
   "id": "e1321afd",
   "metadata": {},
   "outputs": [],
   "source": [
    "tileEnergy.iloc[10]"
   ]
  },
  {
   "cell_type": "raw",
   "id": "f91a80c4",
   "metadata": {},
   "source": [
    "h_k100sim_bkg_NaI_Edep_all = rt.TH1F(\"h_k100sim_bkg_NaI_Edep_all\",\"Energy deposited in NaI\",500,0,50)\n",
    "h_k100sim_bkg_NaI_Edep_all.GetXaxis().SetTitle(\"Energy [MeV]\")\n",
    "\n",
    "h_k100sim_bkg_NaI_Edep_all_zoomed = rt.TH1F(\"h_k100sim_bkg_NaI_Edep_all_zoomed\",\"Energy deposited in NaI (zoomed)\",200,0,10)\n",
    "h_k100sim_bkg_NaI_Edep_all_zoomed.GetXaxis().SetTitle(\"Energy [MeV]\")\n",
    "for i in tqdm(range(len(tileEnergy))):\n",
    "    EdepNaI = tileEnergy.iloc[i]\n",
    "    if(EdepNaI > 0.):\n",
    "        h_k100sim_bkg_NaI_Edep_all.Fill(EdepNaI)\n",
    "        h_k100sim_bkg_NaI_Edep_all_zoomed.Fill(EdepNaI)"
   ]
  },
  {
   "cell_type": "code",
   "execution_count": null,
   "id": "da4a516e",
   "metadata": {},
   "outputs": [],
   "source": []
  },
  {
   "cell_type": "code",
   "execution_count": 27,
   "id": "8f3a084e",
   "metadata": {},
   "outputs": [],
   "source": [
    "df = pd.read_excel('./r76_NaI_spectrum.xlsx')\n",
    "df = df.dropna()\n",
    "\n",
    "df = df.rename(columns={'lower (MeV)': 'lower', ' upper (MeV)': 'upper','bin center [MeV]': 'bin_center',' rate':'rate', 'Unnamed: 4':'error'})"
   ]
  },
  {
   "cell_type": "code",
   "execution_count": 28,
   "id": "8b5277bc",
   "metadata": {},
   "outputs": [
    {
     "data": {
      "text/plain": [
       "Index(['lower', 'upper', 'bin_center', 'rate', 'error', 'cumulative, max 11'], dtype='object')"
      ]
     },
     "execution_count": 28,
     "metadata": {},
     "output_type": "execute_result"
    }
   ],
   "source": [
    "df.head()\n",
    "df.columns"
   ]
  },
  {
   "cell_type": "code",
   "execution_count": 29,
   "id": "9ff8da43",
   "metadata": {},
   "outputs": [],
   "source": [
    "h_data = rt.TH1F(\"h_data\",\"Energy deposited in NaI (data)\",240,0,12)\n",
    "h_data.Sumw2()\n",
    "\n",
    "i = 3\n",
    "while (i < h_data.GetNbinsX()):\n",
    "#     if((i-3) > len(trigger_rate)):\n",
    "#         break\n",
    "    bincenter = round(h_data.GetBinCenter(i),3)\n",
    "    if(i == 220):\n",
    "        break\n",
    "    \n",
    "    df_center = round(df.bin_center.iloc[i-3],3)\n",
    "    if(bincenter != df_center ):\n",
    "    #if(bincenter != round( df.bin_center.iloc[i-3] ,3) ):\n",
    "        print(i, ' : ' ,bincenter, ' : ', df.bin_center.iloc[i-3])\n",
    "        break\n",
    "    else:\n",
    "        h_data.SetBinContent(i,df.rate.iloc[i-3])\n",
    "        h_data.SetBinError(i,df.error.iloc[i-3])\n",
    "    i += 1\n"
   ]
  },
  {
   "cell_type": "code",
   "execution_count": 30,
   "id": "b06dd27d",
   "metadata": {},
   "outputs": [
    {
     "data": {
      "image/png": "[encoded data removed]",
      "text/plain": [
       "<IPython.core.display.Image object>"
      ]
     },
     "metadata": {},
     "output_type": "display_data"
    }
   ],
   "source": [
    "c = rt.TCanvas()\n",
    "h_data.Draw()\n",
    "\n",
    "#h_k100sim_bkg_NaI_Edep_all_zoomed.GetXaxis().SetRangeUser(0,8)\n",
    "rt.gPad.SetLogy()\n",
    "c.Draw()"
   ]
  },
  {
   "cell_type": "code",
   "execution_count": 31,
   "id": "8a926bfb",
   "metadata": {},
   "outputs": [
    {
     "data": {
      "image/png": "[encoded data removed]",
      "text/plain": [
       "<IPython.core.display.Image object>"
      ]
     },
     "metadata": {},
     "output_type": "display_data"
    }
   ],
   "source": [
    "c = rt.TCanvas()\n",
    "h_data.Draw()\n",
    "h_data.SetMarkerStyle(rt.kFullCircle)\n",
    "h_data.SetMarkerColor(rt.kBlack)\n",
    "h_data.SetMarkerSize(0.6)\n",
    "h_data.SetLineColor(rt.kBlack)\n",
    "rt.gStyle.SetOptStat(0)\n",
    "h_k100sim_bkg_NaI_Edep_all_zoomed.SetLineColor(rt.kBlue)\n",
    "h_k100sim_bkg_NaI_Edep_all_zoomed.SetTitle(\"\")\n",
    "h_k100sim_bkg_NaI_Edep_all_zoomed.GetXaxis().SetTitle('Energy [MeV]')\n",
    "h_k100sim_bkg_NaI_Edep_all_zoomed.GetYaxis().SetTitle('Differential rate (Hz/0.05 MeV)')\n",
    "h_k100sim_bkg_NaI_Edep_all_zoomed.Draw('hist')\n",
    "h_data.Draw('same')\n",
    "\n",
    "legend = rt.TLegend(0.3,0.88,0.9,0.7)\n",
    "legend.SetTextSize(0.04)\n",
    "legend.SetBorderSize(0)\n",
    "legend.AddEntry(h_data,'Data','pe')\n",
    "legend.AddEntry(h_k100sim_bkg_NaI_Edep_all_zoomed,'Simulation (1\" boron shield + G4Flags)','l')\n",
    "legend.Draw()\n",
    "\n",
    "#h_k100sim_bkg_NaI_Edep_all_zoomed.GetXaxis().SetRangeUser(0,8)\n",
    "rt.gPad.SetLogy()\n",
    "c.Draw()"
   ]
  },
  {
   "cell_type": "code",
   "execution_count": 28,
   "id": "c59848ab",
   "metadata": {},
   "outputs": [
    {
     "name": "stdout",
     "output_type": "stream",
     "text": [
      " FCN=51.2421 FROM HESSE     STATUS=NOT POSDEF     31 CALLS        1096 TOTAL\n",
      "                     EDM=1.10044e-06    STRATEGY= 1      ERR MATRIX NOT POS-DEF\n",
      "  EXT PARAMETER                APPROXIMATE        STEP         FIRST   \n",
      "  NO.   NAME      VALUE            ERROR          SIZE      DERIVATIVE \n",
      "   1  p0           1.33035e+01   1.00433e-02   3.17179e-06   1.49933e+00\n",
      "   2  p1          -4.42255e+00   4.50080e-03   1.05442e-06   3.01337e+00\n",
      "   3  p2          -1.34815e+02   1.29869e+00   1.22321e-04   7.84646e-03\n",
      "   4  p3           1.77138e+00   2.25249e-03   4.22330e-07  -6.70885e+00\n",
      "   5  p4           1.87553e-01   1.05433e-03   1.16620e-07  -8.34847e+00\n"
     ]
    },
    {
     "data": {
      "image/png": "[encoded data removed]",
      "text/plain": [
       "<IPython.core.display.Image object>"
      ]
     },
     "metadata": {},
     "output_type": "display_data"
    }
   ],
   "source": [
    "reso = rt.TF1(\"reso\",\"expo+gaus(2)\",0,2.5)\n",
    "reso.SetParameters(10,-3,-40,2,0.05)\n",
    "h_data.Fit(reso,\"R\",\"\",1.9,2.4)\n",
    "c = rt.TCanvas()\n",
    "h_data.Draw()\n",
    "rt.gPad.SetLogy()\n",
    "c.Draw()"
   ]
  },
  {
   "cell_type": "code",
   "execution_count": 29,
   "id": "7ecb8985",
   "metadata": {},
   "outputs": [
    {
     "name": "stdout",
     "output_type": "stream",
     "text": [
      " FCN=31291.4 FROM MIGRAD    STATUS=CALL LIMIT   1636 CALLS        1637 TOTAL\n",
      "                     EDM=3.11593    STRATEGY= 1  ERROR MATRIX UNCERTAINTY  43.2 per cent\n",
      "  EXT PARAMETER                APPROXIMATE        STEP         FIRST   \n",
      "  NO.   NAME      VALUE            ERROR          SIZE      DERIVATIVE \n",
      "   1  p0           6.34964e+00   9.05323e-03  -8.93961e-03  -3.14532e+03\n",
      "   2  p1          -1.68273e+00   7.45136e-03   4.54808e-03  -9.43698e+02\n",
      "   3  p2          -2.65062e+05   9.51866e+02  -9.03088e+02  -1.12294e-03\n",
      "   4  p3          -8.58644e+00   2.19162e-02  -1.84507e-02   6.23281e+02\n",
      "   5  p4           2.09038e+00   5.23625e-03  -4.97110e-03   2.70346e+03\n"
     ]
    },
    {
     "name": "stderr",
     "output_type": "stream",
     "text": [
      "Warning in <Fit>: Abnormal termination of minimization.\n"
     ]
    },
    {
     "data": {
      "image/png": "[encoded data removed]",
      "text/plain": [
       "<IPython.core.display.Image object>"
      ]
     },
     "metadata": {},
     "output_type": "display_data"
    }
   ],
   "source": [
    "reso_511kev = rt.TF1(\"reso_511kev\",\"expo+gaus(2)\",0,1.5)\n",
    "reso_511kev.SetParameters(10,-2,-40,0.5,0.05)\n",
    "h_data.Fit(reso_511kev,\"R\",\"\",0.15,0.5)\n",
    "c = rt.TCanvas()\n",
    "h_data.GetXaxis().SetRangeUser(0,12)\n",
    "h_data.Draw()\n",
    "rt.gPad.SetLogy()\n",
    "c.Draw()"
   ]
  },
  {
   "cell_type": "code",
   "execution_count": 30,
   "id": "16353dc6",
   "metadata": {},
   "outputs": [
    {
     "name": "stdout",
     "output_type": "stream",
     "text": [
      " FCN=1722.04 FROM MIGRAD    STATUS=CONVERGED     646 CALLS         647 TOTAL\n",
      "                     EDM=1.13915e-08    STRATEGY= 1  ERROR MATRIX UNCERTAINTY   2.4 per cent\n",
      "  EXT PARAMETER                                   STEP         FIRST   \n",
      "  NO.   NAME      VALUE            ERROR          SIZE      DERIVATIVE \n",
      "   1  p0           9.71428e+00   1.02383e-01  -4.29107e-05  -7.88801e-02\n",
      "   2  p1          -3.72628e+00   6.27766e-02   3.01494e-05  -9.26849e-02\n",
      "   3  p2          -1.95102e+02   1.21361e+01   1.97437e-03  -2.02827e-04\n",
      "   4  p3           1.04256e+00   7.25819e-03  -3.28460e-07   1.03922e-01\n",
      "   5  p4           1.65618e-01   3.62888e-03   5.74059e-07   1.19101e-01\n"
     ]
    },
    {
     "data": {
      "image/png": "[encoded data removed]",
      "text/plain": [
       "<IPython.core.display.Image object>"
      ]
     },
     "metadata": {},
     "output_type": "display_data"
    }
   ],
   "source": [
    "fit_min = 1.1\n",
    "fit_max = 1.7\n",
    "reso_1440kev = rt.TF1(\"reso_1440kev\",\"expo+gaus(2)\",fit_min,fit_max)\n",
    "reso_1440kev.SetParameters(10,-3,-40,1.4,0.1)\n",
    "h_data.Fit(reso_1440kev,\"R\",\"\",fit_min,fit_max)\n",
    "c = rt.TCanvas()\n",
    "h_data.GetXaxis().SetRangeUser(0,12)\n",
    "h_data.Draw()\n",
    "rt.gPad.SetLogy()\n",
    "c.Draw()"
   ]
  },
  {
   "cell_type": "code",
   "execution_count": 31,
   "id": "b717c40e",
   "metadata": {},
   "outputs": [
    {
     "name": "stdout",
     "output_type": "stream",
     "text": [
      " FCN=111.501 FROM MIGRAD    STATUS=CONVERGED     399 CALLS         400 TOTAL\n",
      "                     EDM=1.02805e-08    STRATEGY= 1  ERROR MATRIX UNCERTAINTY   7.9 per cent\n",
      "  EXT PARAMETER                                   STEP         FIRST   \n",
      "  NO.   NAME      VALUE            ERROR          SIZE      DERIVATIVE \n",
      "   1  p0           6.10222e+00   9.50652e-02  -3.29473e-04  -4.58833e-02\n",
      "   2  p1          -1.33473e+00   3.41695e-02   1.16832e-04  -1.21301e-01\n",
      "   3  p2          -3.59788e+00   2.51801e-01   1.12547e-03  -1.91512e-04\n",
      "   4  p3           2.41558e+00   3.63208e-03   1.25503e-05  -4.16349e-02\n",
      "   5  p4           7.26177e-02   4.62825e-03  -9.32407e-06   2.17781e-02\n"
     ]
    },
    {
     "data": {
      "image/png": "[encoded data removed]",
      "text/plain": [
       "<IPython.core.display.Image object>"
      ]
     },
     "metadata": {},
     "output_type": "display_data"
    }
   ],
   "source": [
    "fit_min = 2.3\n",
    "fit_max = 3.0\n",
    "reso_2500kev = rt.TF1(\"reso_2500kev\",\"expo+gaus(2)\",fit_min,fit_max)\n",
    "reso_2500kev.SetParameters(1,-2,-3,2.4,0.2)\n",
    "h_data.Fit(reso_2500kev,\"R\",\"\",fit_min,fit_max)\n",
    "c = rt.TCanvas()\n",
    "h_data.GetXaxis().SetRangeUser(0,12)\n",
    "h_data.Draw()\n",
    "rt.gPad.SetLogy()\n",
    "c.Draw()"
   ]
  },
  {
   "cell_type": "code",
   "execution_count": null,
   "id": "eaa3ecff",
   "metadata": {},
   "outputs": [],
   "source": []
  },
  {
   "cell_type": "code",
   "execution_count": 32,
   "id": "93764f50",
   "metadata": {},
   "outputs": [
    {
     "data": {
      "image/png": "[encoded data removed]",
      "text/plain": [
       "<IPython.core.display.Image object>"
      ]
     },
     "metadata": {},
     "output_type": "display_data"
    }
   ],
   "source": [
    "c = rt.TCanvas()\n",
    "gr = rt.TGraph()\n",
    "gr.SetPoint(0,1.4,0.15)\n",
    "gr.SetPoint(1,2.1,0.1)\n",
    "gr.SetPoint(2,2.4,0.03)\n",
    "gr.SetMarkerStyle(rt.kFullCircle)\n",
    "gr.SetMarkerColor(rt.kBlack)\n",
    "gr.GetXaxis().SetRangeUser(0,5)\n",
    "gr.GetYaxis().SetRangeUser(0,0.2)\n",
    "gr.Draw('AP')\n",
    "c.Draw()"
   ]
  },
  {
   "cell_type": "code",
   "execution_count": 32,
   "id": "b7146ffc",
   "metadata": {},
   "outputs": [
    {
     "name": "stdout",
     "output_type": "stream",
     "text": [
      "at 0.5 = 0.064\n",
      "at 1.4 = 0.051\n",
      "at 2.1 = 0.047\n",
      "at 2.4 = 0.045\n"
     ]
    },
    {
     "data": {
      "image/png": "[encoded data removed]",
      "text/plain": [
       "<IPython.core.display.Image object>"
      ]
     },
     "metadata": {},
     "output_type": "display_data"
    }
   ],
   "source": [
    "resoNaI = rt.TF1(\"resoNaI\",\"0.05*x^(-0.25)+0.005\",0.5,10)\n",
    "c = rt.TCanvas()\n",
    "resoNaI.Draw()\n",
    "c.Draw()\n",
    "print('at 0.5 = %0.3f'%(resoNaI.Eval(0.5)))\n",
    "print('at 1.4 = %0.3f'%(resoNaI.Eval(1.4)))\n",
    "print('at 2.1 = %0.3f'%(resoNaI.Eval(2.1)))\n",
    "print('at 2.4 = %0.3f'%(resoNaI.Eval(2.4)))"
   ]
  },
  {
   "cell_type": "code",
   "execution_count": null,
   "id": "914533f2",
   "metadata": {},
   "outputs": [],
   "source": []
  },
  {
   "cell_type": "code",
   "execution_count": 33,
   "id": "8cce06a4",
   "metadata": {},
   "outputs": [
    {
     "data": {
      "image/png": "[encoded data removed]",
      "text/plain": [
       "<IPython.core.display.Image object>"
      ]
     },
     "metadata": {},
     "output_type": "display_data"
    }
   ],
   "source": [
    "test = rt.TH1F('test','test',500,0,5)\n",
    "test.Sumw2()\n",
    "rand = rt.TRandom3()\n",
    "#resoNaI = rt.TF1(\"resoNaI\",\"0.1*x^(-0.25)+0.005\",0.5,10)\n",
    "for i in range(10000):\n",
    "    energy = 2.1\n",
    "    smear = resoNaI.Eval(energy)\n",
    "    smeared_energy = rand.Gaus(energy,energy*smear)\n",
    "    test.Fill(smeared_energy)\n",
    "    \n",
    "c = rt.TCanvas()\n",
    "test.Draw()\n",
    "c.Draw()"
   ]
  },
  {
   "cell_type": "code",
   "execution_count": null,
   "id": "2253d4b2",
   "metadata": {},
   "outputs": [],
   "source": []
  },
  {
   "cell_type": "code",
   "execution_count": null,
   "id": "4cb8ef15",
   "metadata": {},
   "outputs": [],
   "source": []
  },
  {
   "cell_type": "code",
   "execution_count": 34,
   "id": "1bad2f6e",
   "metadata": {},
   "outputs": [],
   "source": [
    "def calculate_trigger_smeared():\n",
    "    print ('Calculating trigger rate...')\n",
    "    triggered_events = 0\n",
    "    up_thresholds = [round(i,3) for i in np.arange(0.15,12.,0.05)]\n",
    "    low_thresholds = [round(i,3) for i in np.arange(0.1,11.95,0.05)]\n",
    "    mid = [round(i,3) for i in np.arange(0.125,11.975,0.05)]\n",
    "    triggered_list = {}\n",
    "    n = len(mid)\n",
    "    trig_event_list = np.zeros(n)\n",
    "    skipped_events = 0\n",
    "    for threshold in mid:\n",
    "        triggered_list['%f'%(threshold)] = 0\n",
    "\n",
    "\n",
    "    rand = rt.TRandom3()\n",
    "    resoNaI = rt.TF1(\"resoNaI\",\"0.05*x^(-0.25)+0.005\",0.5,10)\n",
    "    for i in tqdm(range(len(k100))):\n",
    "        temp_trigger = np.zeros(n)\n",
    "        temp_veto = np.zeros(n)\n",
    "        for energy in k100.tile_energy.iloc[i]:\n",
    "            smear = resoNaI.Eval(energy)\n",
    "            smeared_energy = rand.Gaus(energy,energy*smear)\n",
    "            if(smeared_energy < 0):\n",
    "                energy = 0.\n",
    "            else:\n",
    "                energy = smeared_energy\n",
    "            veto = False\n",
    "            trigger = False\n",
    "\n",
    "            for j,threshold in enumerate(up_thresholds):\n",
    "                \n",
    "                if(energy > threshold):\n",
    "                    temp_veto[j] = True\n",
    "                elif(energy > low_thresholds[j]):\n",
    "                    temp_trigger[j] = True\n",
    "\n",
    "        for j in range(n):\n",
    "            if(not temp_veto[j] and temp_trigger[j]):\n",
    "                triggered_list['%f'%(mid[j])] += 1\n",
    "            #triggered_events += 1\n",
    "    #         print('%d : %f'%(i,energy))\n",
    "    #         break\n",
    "#         print ('event = ',i)\n",
    "#         print ('tile_energy = ',k100.tile_energy.iloc[i])\n",
    "#         print ('trigger = ',temp_trigger)\n",
    "#         print ('veto = ',temp_veto)\n",
    "\n",
    "    \n",
    "    #print (triggered_list)\n",
    "#     print('Total trigger events = %d'%(triggered_list['3.125']))\n",
    "#     print('Total trigger rate = %f Hz'%(triggered_list['3.125']/0.218))\n",
    "    print('Skipped events = ',skipped_events)\n",
    "    livetime = (events_in_this_sim - skipped_events) * (21.8/50e6)\n",
    "    print ('Full livetime = %0.4f sec'%(events_in_this_sim*((21.8/50e6))))\n",
    "    print ('After removal livetime = %0.4f sec'%(livetime))\n",
    "    x = np.zeros(n)\n",
    "    y = np.zeros(n)\n",
    "    erry = np.zeros(n)\n",
    "    for i,j in enumerate(triggered_list.keys()):\n",
    "        x[i] = float(j)\n",
    "        y[i] = (triggered_list[j])/livetime\n",
    "        \n",
    "        erry[i] = np.sqrt(triggered_list[j])/livetime\n",
    "    return np.c_[np.c_[x,y],erry]"
   ]
  },
  {
   "cell_type": "code",
   "execution_count": 35,
   "id": "aa37be65",
   "metadata": {},
   "outputs": [
    {
     "name": "stdout",
     "output_type": "stream",
     "text": [
      "Calculating trigger rate...\n"
     ]
    },
    {
     "name": "stderr",
     "output_type": "stream",
     "text": [
      "  0%|                                                                                                                                                                                                | 0/1200635 [00:00<?, ?it/s]/var/folders/x7/33tkj9dx0bzcnj7gh4sb5tlc0000gn/T/ipykernel_9630/755070798.py:22: RuntimeWarning: invalid value encountered in double_scalars\n",
      "  smeared_energy = rand.Gaus(energy,energy*smear)\n",
      "100%|███████████████████████████████████████████████████████████████████████████████████████████████████████████████████████████████████████████████████████████████████████████████| 1200635/1200635 [01:21<00:00, 14698.14it/s]\n"
     ]
    },
    {
     "name": "stdout",
     "output_type": "stream",
     "text": [
      "Skipped events =  0\n",
      "Full livetime = 82.8400 sec\n",
      "After removal livetime = 82.8400 sec\n"
     ]
    }
   ],
   "source": [
    "trigger_rate_smeared = calculate_trigger_smeared()"
   ]
  },
  {
   "cell_type": "code",
   "execution_count": 36,
   "id": "25f8ba79",
   "metadata": {},
   "outputs": [],
   "source": [
    "h_k100sim_bkg_NaI_Edep_all_smeared = rt.TH1F(\"h_k100sim_bkg_NaI_Edep_all_smeared\",\"Energy deposited in NaI (smeared)\",240,0,12)\n",
    "h_k100sim_bkg_NaI_Edep_all_smeared.Sumw2()\n",
    "\n",
    "i = 3\n",
    "while (i < h_k100sim_bkg_NaI_Edep_all_smeared.GetNbinsX()):\n",
    "    if((i-3) > len(trigger_rate_smeared)):\n",
    "        break\n",
    "    bincenter = round(h_k100sim_bkg_NaI_Edep_all_smeared.GetBinCenter(i),3)\n",
    "    if(bincenter != trigger_rate_smeared[i-3][0]):\n",
    "        print(bincenter, ' : ', trigger_rate_smeared[i-3][0])\n",
    "        break\n",
    "    else:\n",
    "        h_k100sim_bkg_NaI_Edep_all_smeared.SetBinContent(i,trigger_rate_smeared[i-3][1])\n",
    "        h_k100sim_bkg_NaI_Edep_all_smeared.SetBinError(i,trigger_rate_smeared[i-3][2])\n",
    "    i += 1"
   ]
  },
  {
   "cell_type": "code",
   "execution_count": null,
   "id": "e7c394c0",
   "metadata": {},
   "outputs": [],
   "source": []
  },
  {
   "cell_type": "code",
   "execution_count": null,
   "id": "e1ce1676",
   "metadata": {},
   "outputs": [],
   "source": []
  },
  {
   "cell_type": "code",
   "execution_count": 37,
   "id": "ab04867b",
   "metadata": {},
   "outputs": [
    {
     "data": {
      "image/png": "[encoded data removed]",
      "text/plain": [
       "<IPython.core.display.Image object>"
      ]
     },
     "metadata": {},
     "output_type": "display_data"
    }
   ],
   "source": [
    "c = rt.TCanvas()\n",
    "h_k100sim_bkg_NaI_Edep_all_smeared.Draw('hist')\n",
    "h_k100sim_bkg_NaI_Edep_all_smeared.SetLineWidth(2)\n",
    "h_k100sim_bkg_NaI_Edep_all_zoomed.SetLineColor(rt.kRed)\n",
    "h_k100sim_bkg_NaI_Edep_all_zoomed.Draw('hist same')\n",
    "\n",
    "legend = rt.TLegend(0.3,0.88,0.9,0.7)\n",
    "legend.SetTextSize(0.035)\n",
    "legend.SetBorderSize(0)\n",
    "legend.AddEntry(h_k100sim_bkg_NaI_Edep_all_zoomed,'Sim (before smearing)','l')\n",
    "legend.AddEntry(h_k100sim_bkg_NaI_Edep_all_smeared,'Sim (after smearing)','l')\n",
    "legend.Draw()\n",
    "\n",
    "#h_k100sim_bkg_NaI_Edep_all_zoomed.GetXaxis().SetRangeUser(0,8)\n",
    "rt.gPad.SetLogy()\n",
    "c.Draw()"
   ]
  },
  {
   "cell_type": "code",
   "execution_count": null,
   "id": "4058f13b",
   "metadata": {},
   "outputs": [],
   "source": []
  },
  {
   "cell_type": "code",
   "execution_count": 38,
   "id": "67e2ab13",
   "metadata": {},
   "outputs": [
    {
     "data": {
      "image/png": "[encoded data removed]",
      "text/plain": [
       "<IPython.core.display.Image object>"
      ]
     },
     "metadata": {},
     "output_type": "display_data"
    }
   ],
   "source": [
    "c = rt.TCanvas()\n",
    "h_data.Draw()\n",
    "h_data.SetMarkerStyle(rt.kFullCircle)\n",
    "h_data.SetMarkerColor(rt.kBlack)\n",
    "h_data.SetMarkerSize(0.6)\n",
    "h_data.SetLineColor(rt.kBlack)\n",
    "rt.gStyle.SetOptStat(0)\n",
    "h_k100sim_bkg_NaI_Edep_all_smeared.SetLineColor(rt.kBlue)\n",
    "h_k100sim_bkg_NaI_Edep_all_smeared.SetTitle(\"\")\n",
    "h_k100sim_bkg_NaI_Edep_all_smeared.GetXaxis().SetTitle('Energy [MeV]')\n",
    "h_k100sim_bkg_NaI_Edep_all_smeared.GetYaxis().SetTitle('Differential rate (Hz/0.05 MeV)')\n",
    "h_k100sim_bkg_NaI_Edep_all_smeared.Draw('hist')\n",
    "h_data.Draw('same')\n",
    "\n",
    "legend = rt.TLegend(0.25,0.88,0.9,0.7)\n",
    "legend.SetTextSize(0.035)\n",
    "legend.SetBorderSize(0)\n",
    "legend.AddEntry(h_data,'Data','pe')\n",
    "legend.AddEntry(h_k100sim_bkg_NaI_Edep_all_zoomed,'Simulation (1\" boron shield + G4Flags + smeared)','l')\n",
    "legend.Draw()\n",
    "\n",
    "#h_k100sim_bkg_NaI_Edep_all_zoomed.GetXaxis().SetRangeUser(0,8)\n",
    "rt.gPad.SetLogy()\n",
    "c.Draw()"
   ]
  },
  {
   "cell_type": "code",
   "execution_count": null,
   "id": "76b3c5c4",
   "metadata": {},
   "outputs": [],
   "source": []
  },
  {
   "cell_type": "code",
   "execution_count": 43,
   "id": "4c2204e8",
   "metadata": {},
   "outputs": [],
   "source": [
    "def calculate_trigger_smeared_PID(pid):\n",
    "    print ('Calculating trigger rate...')\n",
    "    triggered_events = 0\n",
    "    up_thresholds = [round(i,3) for i in np.arange(0.15,12.,0.05)]\n",
    "    low_thresholds = [round(i,3) for i in np.arange(0.1,11.95,0.05)]\n",
    "    mid = [round(i,3) for i in np.arange(0.125,11.975,0.05)]\n",
    "    triggered_list = {}\n",
    "    n = len(mid)\n",
    "    trig_event_list = np.zeros(n)\n",
    "    skipped_events = 0\n",
    "    for threshold in mid:\n",
    "        triggered_list['%f'%(threshold)] = 0\n",
    "\n",
    "\n",
    "    rand = rt.TRandom3()\n",
    "    resoNaI = rt.TF1(\"resoNaI\",\"0.05*x^(-0.25)+0.005\",0.5,10)\n",
    "    for i in tqdm(range(len(k100))):\n",
    "        if(pid == k100.nCapType.iloc[i]):\n",
    "            continue\n",
    "        temp_trigger = np.zeros(n)\n",
    "        temp_veto = np.zeros(n)\n",
    "        for energy in k100.tile_energy.iloc[i]:\n",
    "            smear = resoNaI.Eval(energy)\n",
    "            smeared_energy = rand.Gaus(energy,energy*smear)\n",
    "            if(smeared_energy < 0):\n",
    "                energy = 0.\n",
    "            else:\n",
    "                energy = smeared_energy\n",
    "            veto = False\n",
    "            trigger = False\n",
    "\n",
    "            for j,threshold in enumerate(up_thresholds):\n",
    "                \n",
    "                if(energy > threshold):\n",
    "                    temp_veto[j] = True\n",
    "                elif(energy > low_thresholds[j]):\n",
    "                    temp_trigger[j] = True\n",
    "\n",
    "        for j in range(n):\n",
    "            if(not temp_veto[j] and temp_trigger[j]):\n",
    "                triggered_list['%f'%(mid[j])] += 1\n",
    "            #triggered_events += 1\n",
    "    #         print('%d : %f'%(i,energy))\n",
    "    #         break\n",
    "#         print ('event = ',i)\n",
    "#         print ('tile_energy = ',k100.tile_energy.iloc[i])\n",
    "#         print ('trigger = ',temp_trigger)\n",
    "#         print ('veto = ',temp_veto)\n",
    "\n",
    "    \n",
    "    #print (triggered_list)\n",
    "#     print('Total trigger events = %d'%(triggered_list['3.125']))\n",
    "#     print('Total trigger rate = %f Hz'%(triggered_list['3.125']/0.218))\n",
    "    print('Skipped events = ',skipped_events)\n",
    "    livetime = (events_in_this_sim - skipped_events) * (21.8/50e6)\n",
    "    print ('Full livetime = %0.4f sec'%(events_in_this_sim*((21.8/50e6))))\n",
    "    print ('After removal livetime = %0.4f sec'%(livetime))\n",
    "    x = np.zeros(n)\n",
    "    y = np.zeros(n)\n",
    "    erry = np.zeros(n)\n",
    "    for i,j in enumerate(triggered_list.keys()):\n",
    "        x[i] = float(j)\n",
    "        y[i] = (triggered_list[j])/livetime\n",
    "        \n",
    "        erry[i] = np.sqrt(triggered_list[j])/livetime\n",
    "    return np.c_[np.c_[x,y],erry]"
   ]
  },
  {
   "cell_type": "code",
   "execution_count": 44,
   "id": "35e73ba6",
   "metadata": {},
   "outputs": [
    {
     "name": "stdout",
     "output_type": "stream",
     "text": [
      "Calculating trigger rate...\n"
     ]
    },
    {
     "name": "stderr",
     "output_type": "stream",
     "text": [
      "  0%|                                                                                                                                                                                                | 0/1200635 [00:00<?, ?it/s]/var/folders/x7/33tkj9dx0bzcnj7gh4sb5tlc0000gn/T/ipykernel_9630/48536012.py:24: RuntimeWarning: invalid value encountered in double_scalars\n",
      "  smeared_energy = rand.Gaus(energy,energy*smear)\n",
      "100%|███████████████████████████████████████████████████████████████████████████████████████████████████████████████████████████████████████████████████████████████████████████████| 1200635/1200635 [01:22<00:00, 14541.82it/s]\n"
     ]
    },
    {
     "name": "stdout",
     "output_type": "stream",
     "text": [
      "Skipped events =  0\n",
      "Full livetime = 82.8400 sec\n",
      "After removal livetime = 82.8400 sec\n"
     ]
    }
   ],
   "source": [
    "trigger_rate_smeared_pid = calculate_trigger_smeared_PID(128053)"
   ]
  },
  {
   "cell_type": "code",
   "execution_count": 45,
   "id": "d76efd75",
   "metadata": {},
   "outputs": [],
   "source": [
    "h_k100sim_bkg_NaI_Edep_sansI127_smeared = rt.TH1F(\"h_k100sim_bkg_NaI_Edep_sansI127_smeared\",\"Energy deposited in NaI sans I127 (smeared)\",240,0,12)\n",
    "h_k100sim_bkg_NaI_Edep_sansI127_smeared.Sumw2()\n",
    "\n",
    "i = 3\n",
    "while (i < h_k100sim_bkg_NaI_Edep_sansI127_smeared.GetNbinsX()):\n",
    "    if((i-3) > len(trigger_rate_smeared_pid)):\n",
    "        break\n",
    "    bincenter = round(h_k100sim_bkg_NaI_Edep_sansI127_smeared.GetBinCenter(i),3)\n",
    "    if(bincenter != trigger_rate_smeared_pid[i-3][0]):\n",
    "        print(bincenter, ' : ', trigger_rate_smeared_pid[i-3][0])\n",
    "        break\n",
    "    else:\n",
    "        h_k100sim_bkg_NaI_Edep_sansI127_smeared.SetBinContent(i,trigger_rate_smeared_pid[i-3][1])\n",
    "        h_k100sim_bkg_NaI_Edep_sansI127_smeared.SetBinError(i,trigger_rate_smeared_pid[i-3][2])\n",
    "    i += 1"
   ]
  },
  {
   "cell_type": "code",
   "execution_count": 128,
   "id": "53734741",
   "metadata": {},
   "outputs": [
    {
     "data": {
      "image/png": "[encoded data removed]",
      "text/plain": [
       "<IPython.core.display.Image object>"
      ]
     },
     "metadata": {},
     "output_type": "display_data"
    }
   ],
   "source": [
    "c = rt.TCanvas()\n",
    "h_data.Draw()\n",
    "h_data.SetMarkerStyle(rt.kFullCircle)\n",
    "h_data.SetMarkerColor(rt.kBlack)\n",
    "h_data.SetMarkerSize(0.6)\n",
    "h_data.SetLineColor(rt.kBlack)\n",
    "rt.gStyle.SetOptStat(0)\n",
    "h_k100sim_bkg_NaI_Edep_all_smeared.SetLineColor(rt.kRed)\n",
    "h_k100sim_bkg_NaI_Edep_all_smeared.SetTitle(\"\")\n",
    "h_k100sim_bkg_NaI_Edep_all_smeared.GetXaxis().SetTitle('Energy [MeV]')\n",
    "h_k100sim_bkg_NaI_Edep_all_smeared.GetYaxis().SetTitle('Differential rate (Hz/0.05 MeV)')\n",
    "h_k100sim_bkg_NaI_Edep_all_smeared.Draw('hist')\n",
    "h_k100sim_bkg_NaI_Edep_sansI127_smeared.SetLineColor(rt.kBlue)\n",
    "h_k100sim_bkg_NaI_Edep_sansI127_smeared.SetTitle(\"\")\n",
    "h_k100sim_bkg_NaI_Edep_sansI127_smeared.GetXaxis().SetTitle('Energy [MeV]')\n",
    "h_k100sim_bkg_NaI_Edep_sansI127_smeared.GetYaxis().SetTitle('Differential rate (Hz/0.05 MeV)')\n",
    "h_k100sim_bkg_NaI_Edep_sansI127_smeared.Draw('hist same')\n",
    "h_data.Draw('same')\n",
    "\n",
    "legend = rt.TLegend(0.25,0.88,0.9,0.7)\n",
    "legend.SetTextSize(0.035)\n",
    "legend.SetBorderSize(0)\n",
    "legend.AddEntry(h_data,'Data','pe')\n",
    "legend.AddEntry(h_k100sim_bkg_NaI_Edep_all_zoomed,'Simulation (smeared all)','l')\n",
    "legend.AddEntry(h_k100sim_bkg_NaI_Edep_sansI127_smeared,'Simulation (smeared + sans I127)','l')\n",
    "legend.Draw()\n",
    "\n",
    "#h_k100sim_bkg_NaI_Edep_all_zoomed.GetXaxis().SetRangeUser(0,8)\n",
    "rt.gPad.SetLogy()\n",
    "c.Draw()"
   ]
  },
  {
   "cell_type": "code",
   "execution_count": null,
   "id": "9974f599",
   "metadata": {},
   "outputs": [],
   "source": []
  },
  {
   "cell_type": "code",
   "execution_count": 201,
   "id": "1bd141d6",
   "metadata": {},
   "outputs": [
    {
     "name": "stdout",
     "output_type": "stream",
     "text": [
      "Calculating trigger rate...\n"
     ]
    },
    {
     "name": "stderr",
     "output_type": "stream",
     "text": [
      "  0%|                                                                                                      | 0/1200635 [00:00<?, ?it/s]/var/folders/x7/33tkj9dx0bzcnj7gh4sb5tlc0000gn/T/ipykernel_9491/48536012.py:24: RuntimeWarning: invalid value encountered in double_scalars\n",
      "  smeared_energy = rand.Gaus(energy,energy*smear)\n",
      "100%|█████████████████████████████████████████████████████████████████████████████████████| 1200635/1200635 [01:31<00:00, 13191.51it/s]\n"
     ]
    },
    {
     "name": "stdout",
     "output_type": "stream",
     "text": [
      "Skipped events =  0\n",
      "Full livetime = 82.8400 sec\n",
      "After removal livetime = 82.8400 sec\n"
     ]
    }
   ],
   "source": [
    "trigger_rate_smeared_pid = calculate_trigger_smeared_PID(57026)"
   ]
  },
  {
   "cell_type": "code",
   "execution_count": 202,
   "id": "07d4d2ba",
   "metadata": {},
   "outputs": [],
   "source": [
    "h_k100sim_bkg_NaI_Edep_sansFe56_smeared = rt.TH1F(\"h_k100sim_bkg_NaI_Edep_sansFe56_smeared\",\"Energy deposited in NaI sans Fe56 (smeared)\",240,0,12)\n",
    "h_k100sim_bkg_NaI_Edep_sansFe56_smeared.Sumw2()\n",
    "\n",
    "i = 3\n",
    "while (i < h_k100sim_bkg_NaI_Edep_sansFe56_smeared.GetNbinsX()):\n",
    "    if((i-3) > len(trigger_rate_smeared_pid)):\n",
    "        break\n",
    "    bincenter = round(h_k100sim_bkg_NaI_Edep_sansFe56_smeared.GetBinCenter(i),3)\n",
    "    if(bincenter != trigger_rate_smeared_pid[i-3][0]):\n",
    "        print(bincenter, ' : ', trigger_rate_smeared_pid[i-3][0])\n",
    "        break\n",
    "    else:\n",
    "        h_k100sim_bkg_NaI_Edep_sansFe56_smeared.SetBinContent(i,trigger_rate_smeared_pid[i-3][1])\n",
    "        h_k100sim_bkg_NaI_Edep_sansFe56_smeared.SetBinError(i,trigger_rate_smeared_pid[i-3][2])\n",
    "    i += 1"
   ]
  },
  {
   "cell_type": "code",
   "execution_count": 204,
   "id": "2afcaa73",
   "metadata": {},
   "outputs": [
    {
     "data": {
      "image/png": "[encoded data removed]",
      "text/plain": [
       "<IPython.core.display.Image object>"
      ]
     },
     "metadata": {},
     "output_type": "display_data"
    }
   ],
   "source": [
    "c = rt.TCanvas()\n",
    "h_data.Draw()\n",
    "h_data.SetMarkerStyle(rt.kFullCircle)\n",
    "h_data.SetMarkerColor(rt.kBlack)\n",
    "h_data.SetMarkerSize(0.6)\n",
    "h_data.SetLineColor(rt.kBlack)\n",
    "rt.gStyle.SetOptStat(0)\n",
    "h_k100sim_bkg_NaI_Edep_all_smeared.SetLineColor(rt.kRed)\n",
    "h_k100sim_bkg_NaI_Edep_all_smeared.SetTitle(\"\")\n",
    "h_k100sim_bkg_NaI_Edep_all_smeared.GetXaxis().SetTitle('Energy [MeV]')\n",
    "h_k100sim_bkg_NaI_Edep_all_smeared.GetYaxis().SetTitle('Differential rate (Hz/0.05 MeV)')\n",
    "h_k100sim_bkg_NaI_Edep_all_smeared.Draw('hist')\n",
    "h_k100sim_bkg_NaI_Edep_sansI127_smeared.SetLineColor(rt.kBlue)\n",
    "h_k100sim_bkg_NaI_Edep_sansI127_smeared.SetTitle(\"\")\n",
    "h_k100sim_bkg_NaI_Edep_sansI127_smeared.GetXaxis().SetTitle('Energy [MeV]')\n",
    "h_k100sim_bkg_NaI_Edep_sansI127_smeared.GetYaxis().SetTitle('Differential rate (Hz/0.05 MeV)')\n",
    "h_k100sim_bkg_NaI_Edep_sansI127_smeared.Draw('hist same')\n",
    "\n",
    "h_k100sim_bkg_NaI_Edep_sansFe56_smeared.SetLineColor(rt.kGreen)\n",
    "h_k100sim_bkg_NaI_Edep_sansFe56_smeared.SetTitle(\"\")\n",
    "h_k100sim_bkg_NaI_Edep_sansFe56_smeared.GetXaxis().SetTitle('Energy [MeV]')\n",
    "h_k100sim_bkg_NaI_Edep_sansFe56_smeared.GetYaxis().SetTitle('Differential rate (Hz/0.05 MeV)')\n",
    "h_k100sim_bkg_NaI_Edep_sansFe56_smeared.Draw('hist same')\n",
    "h_data.Draw('same')\n",
    "\n",
    "legend = rt.TLegend(0.25,0.88,0.9,0.7)\n",
    "legend.SetTextSize(0.035)\n",
    "legend.SetBorderSize(0)\n",
    "legend.AddEntry(h_data,'Data','pe')\n",
    "legend.AddEntry(h_k100sim_bkg_NaI_Edep_all_zoomed,'Simulation (smeared all)','l')\n",
    "legend.AddEntry(h_k100sim_bkg_NaI_Edep_sansI127_smeared,'Simulation (smeared + sans I127)','l')\n",
    "legend.AddEntry(h_k100sim_bkg_NaI_Edep_sansFe56_smeared,'Simulation (smeared + sans Fe56)','l')\n",
    "legend.Draw()\n",
    "\n",
    "#h_k100sim_bkg_NaI_Edep_all_zoomed.GetXaxis().SetRangeUser(0,8)\n",
    "rt.gPad.SetLogy()\n",
    "c.Draw()"
   ]
  },
  {
   "cell_type": "code",
   "execution_count": null,
   "id": "5a102b57",
   "metadata": {},
   "outputs": [],
   "source": []
  },
  {
   "cell_type": "code",
   "execution_count": 1,
   "id": "0768beef",
   "metadata": {},
   "outputs": [
    {
     "ename": "NameError",
     "evalue": "name 'k100' is not defined",
     "output_type": "error",
     "traceback": [
      "\u001b[0;31m---------------------------------------------------------------------------\u001b[0m",
      "\u001b[0;31mNameError\u001b[0m                                 Traceback (most recent call last)",
      "Input \u001b[0;32mIn [1]\u001b[0m, in \u001b[0;36m<cell line: 1>\u001b[0;34m()\u001b[0m\n\u001b[0;32m----> 1\u001b[0m \u001b[43mk100\u001b[49m\n",
      "\u001b[0;31mNameError\u001b[0m: name 'k100' is not defined"
     ]
    }
   ],
   "source": [
    "k100"
   ]
  },
  {
   "cell_type": "code",
   "execution_count": 49,
   "id": "e0ffd35b",
   "metadata": {},
   "outputs": [],
   "source": [
    "def calculate_trigger_smeared_PID_multiple(pids):\n",
    "    print ('Calculating trigger rate...')\n",
    "    triggered_events = 0\n",
    "    up_thresholds = [round(i,3) for i in np.arange(0.15,12.,0.05)]\n",
    "    low_thresholds = [round(i,3) for i in np.arange(0.1,11.95,0.05)]\n",
    "    mid = [round(i,3) for i in np.arange(0.125,11.975,0.05)]\n",
    "    triggered_list = {}\n",
    "    n = len(mid)\n",
    "    trig_event_list = np.zeros(n)\n",
    "    skipped_events = 0\n",
    "    for threshold in mid:\n",
    "        triggered_list['%f'%(threshold)] = 0\n",
    "\n",
    "\n",
    "    rand = rt.TRandom3()\n",
    "    resoNaI = rt.TF1(\"resoNaI\",\"0.05*x^(-0.25)+0.005\",0.5,10)\n",
    "    for i in tqdm(range(len(k100))):\n",
    "        if(k100.nCapType.iloc[i] in pids):\n",
    "            continue\n",
    "#         if((128053 == k100.nCapType.iloc[i]) | (57026 == k100.nCapType.iloc[i]) | (24011 == k100.nCapType.iloc[i])):\n",
    "#             continue\n",
    "        temp_trigger = np.zeros(n)\n",
    "        temp_veto = np.zeros(n)\n",
    "        for energy in k100.tile_energy.iloc[i]:\n",
    "            smear = resoNaI.Eval(energy)\n",
    "            smeared_energy = rand.Gaus(energy,energy*smear)\n",
    "            if(smeared_energy < 0):\n",
    "                energy = 0.\n",
    "            else:\n",
    "                energy = smeared_energy\n",
    "            veto = False\n",
    "            trigger = False\n",
    "\n",
    "            for j,threshold in enumerate(up_thresholds):\n",
    "                \n",
    "                if(energy > threshold):\n",
    "                    temp_veto[j] = True\n",
    "                elif(energy > low_thresholds[j]):\n",
    "                    temp_trigger[j] = True\n",
    "\n",
    "        for j in range(n):\n",
    "            if(not temp_veto[j] and temp_trigger[j]):\n",
    "                triggered_list['%f'%(mid[j])] += 1\n",
    "            #triggered_events += 1\n",
    "    #         print('%d : %f'%(i,energy))\n",
    "    #         break\n",
    "#         print ('event = ',i)\n",
    "#         print ('tile_energy = ',k100.tile_energy.iloc[i])\n",
    "#         print ('trigger = ',temp_trigger)\n",
    "#         print ('veto = ',temp_veto)\n",
    "\n",
    "    \n",
    "    #print (triggered_list)\n",
    "#     print('Total trigger events = %d'%(triggered_list['3.125']))\n",
    "#     print('Total trigger rate = %f Hz'%(triggered_list['3.125']/0.218))\n",
    "    print('Skipped events = ',skipped_events)\n",
    "    livetime = (events_in_this_sim - skipped_events) * (21.8/50e6)\n",
    "    print ('Full livetime = %0.4f sec'%(events_in_this_sim*((21.8/50e6))))\n",
    "    print ('After removal livetime = %0.4f sec'%(livetime))\n",
    "    x = np.zeros(n)\n",
    "    y = np.zeros(n)\n",
    "    erry = np.zeros(n)\n",
    "    for i,j in enumerate(triggered_list.keys()):\n",
    "        x[i] = float(j)\n",
    "        y[i] = (triggered_list[j])/livetime\n",
    "        \n",
    "        erry[i] = np.sqrt(triggered_list[j])/livetime\n",
    "    return np.c_[np.c_[x,y],erry]"
   ]
  },
  {
   "cell_type": "code",
   "execution_count": 40,
   "id": "d08123ca",
   "metadata": {},
   "outputs": [
    {
     "name": "stdout",
     "output_type": "stream",
     "text": [
      "Calculating trigger rate...\n"
     ]
    },
    {
     "name": "stderr",
     "output_type": "stream",
     "text": [
      "  0%|                                                                                                                                                                                                | 0/1200635 [00:00<?, ?it/s]/var/folders/x7/33tkj9dx0bzcnj7gh4sb5tlc0000gn/T/ipykernel_9630/2171972276.py:24: RuntimeWarning: invalid value encountered in double_scalars\n",
      "  smeared_energy = rand.Gaus(energy,energy*smear)\n",
      "100%|███████████████████████████████████████████████████████████████████████████████████████████████████████████████████████████████████████████████████████████████████████████████| 1200635/1200635 [01:34<00:00, 12771.09it/s]\n"
     ]
    },
    {
     "name": "stdout",
     "output_type": "stream",
     "text": [
      "Skipped events =  0\n",
      "Full livetime = 82.8400 sec\n",
      "After removal livetime = 82.8400 sec\n"
     ]
    }
   ],
   "source": [
    "trigger_rate_smeared_pid_multiple = calculate_trigger_smeared_PID_multiple()"
   ]
  },
  {
   "cell_type": "code",
   "execution_count": 47,
   "id": "80c73c29",
   "metadata": {},
   "outputs": [],
   "source": [
    "h_k100sim_bkg_NaI_Edep_No_I_Na_Fe_smeared = rt.TH1F(\"h_k100sim_bkg_NaI_Edep_No_I_Na_Fe_smeared\",\"Energy deposited in no I Na Fe (smeared)\",240,0,12)\n",
    "h_k100sim_bkg_NaI_Edep_No_I_Na_Fe_smeared.Sumw2()\n",
    "\n",
    "i = 3\n",
    "while (i < h_k100sim_bkg_NaI_Edep_No_I_Na_Fe_smeared.GetNbinsX()):\n",
    "    if((i-3) > len(trigger_rate_smeared_pid_multiple)):\n",
    "        break\n",
    "    bincenter = round(h_k100sim_bkg_NaI_Edep_No_I_Na_Fe_smeared.GetBinCenter(i),3)\n",
    "    if(bincenter != trigger_rate_smeared_pid_multiple[i-3][0]):\n",
    "        print(bincenter, ' : ', trigger_rate_smeared_pid_multiple[i-3][0])\n",
    "        break\n",
    "    else:\n",
    "        h_k100sim_bkg_NaI_Edep_No_I_Na_Fe_smeared.SetBinContent(i,trigger_rate_smeared_pid_multiple[i-3][1])\n",
    "        h_k100sim_bkg_NaI_Edep_No_I_Na_Fe_smeared.SetBinError(i,trigger_rate_smeared_pid_multiple[i-3][2])\n",
    "    i += 1"
   ]
  },
  {
   "cell_type": "code",
   "execution_count": 51,
   "id": "5e41953f",
   "metadata": {},
   "outputs": [],
   "source": [
    "trigger_rate_smeared_I_Na = calculate_trigger_smeared_PID_multiple([128053,24011])\n",
    "h_k100sim_bkg_NaI_Edep_No_I_Na_smeared = rt.TH1F(\"h_k100sim_bkg_NaI_Edep_No_I_Na_smeared\",\"Energy deposited in no I Na (smeared)\",240,0,12)\n",
    "h_k100sim_bkg_NaI_Edep_No_I_Na_smeared.Sumw2()\n",
    "\n",
    "i = 3\n",
    "while (i < h_k100sim_bkg_NaI_Edep_No_I_Na_smeared.GetNbinsX()):\n",
    "    if((i-3) > len(trigger_rate_smeared_I_Na)):\n",
    "        break\n",
    "    bincenter = round(h_k100sim_bkg_NaI_Edep_No_I_Na_smeared.GetBinCenter(i),3)\n",
    "    if(bincenter != trigger_rate_smeared_I_Na[i-3][0]):\n",
    "        print(bincenter, ' : ', trigger_rate_smeared_I_Na[i-3][0])\n",
    "        break\n",
    "    else:\n",
    "        h_k100sim_bkg_NaI_Edep_No_I_Na_smeared.SetBinContent(i,trigger_rate_smeared_I_Na[i-3][1])\n",
    "        h_k100sim_bkg_NaI_Edep_No_I_Na_smeared.SetBinError(i,trigger_rate_smeared_I_Na[i-3][2])\n",
    "    i += 1"
   ]
  },
  {
   "cell_type": "code",
   "execution_count": 55,
   "id": "632f9f61",
   "metadata": {},
   "outputs": [
    {
     "name": "stderr",
     "output_type": "stream",
     "text": [
      "Warning in <TROOT::Append>: Replacing existing TH1: h_k100sim_bkg_NaI_Edep_No_I_Fe_smeared (Potential memory leak).\n"
     ]
    }
   ],
   "source": [
    "#trigger_rate_smeared_I_Fe = calculate_trigger_smeared_PID_multiple([128053,57026])\n",
    "h_k100sim_bkg_NaI_Edep_No_I_Fe_smeared = rt.TH1F(\"h_k100sim_bkg_NaI_Edep_No_I_Fe_smeared\",\"Energy deposited in no I Fe (smeared)\",240,0,12)\n",
    "h_k100sim_bkg_NaI_Edep_No_I_Fe_smeared.Sumw2()\n",
    "\n",
    "temp_hist = h_k100sim_bkg_NaI_Edep_No_I_Fe_smeared\n",
    "temp_trigger = trigger_rate_smeared_I_Fe\n",
    "i = 3\n",
    "while (i < temp_hist.GetNbinsX()):\n",
    "    if((i-3) > len(temp_trigger)):\n",
    "        break\n",
    "    bincenter = round(temp_hist.GetBinCenter(i),3)\n",
    "    if(bincenter != temp_trigger[i-3][0]):\n",
    "        print(bincenter, ' : ', temp_trigger[i-3][0])\n",
    "        break\n",
    "    else:\n",
    "        temp_hist.SetBinContent(i,temp_trigger[i-3][1])\n",
    "        temp_hist.SetBinError(i,temp_trigger[i-3][2])\n",
    "    i += 1\n",
    "\n",
    "trigger_rate_smeared_I_Fe = temp_hist"
   ]
  },
  {
   "cell_type": "code",
   "execution_count": null,
   "id": "6c8e8ffe",
   "metadata": {},
   "outputs": [],
   "source": []
  },
  {
   "cell_type": "code",
   "execution_count": 53,
   "id": "91d1d42d",
   "metadata": {},
   "outputs": [
    {
     "data": {
      "image/png": "[encoded data removed]",
      "text/plain": [
       "<IPython.core.display.Image object>"
      ]
     },
     "metadata": {},
     "output_type": "display_data"
    }
   ],
   "source": [
    "c = rt.TCanvas()\n",
    "h_data.Draw()\n",
    "h_data.SetMarkerStyle(rt.kFullCircle)\n",
    "h_data.SetMarkerColor(rt.kBlack)\n",
    "h_data.SetMarkerSize(0.6)\n",
    "h_data.SetLineColor(rt.kBlack)\n",
    "rt.gStyle.SetOptStat(0)\n",
    "\n",
    "h_k100sim_bkg_NaI_Edep_all_smeared.SetLineColor(rt.kBlue)\n",
    "h_k100sim_bkg_NaI_Edep_all_smeared.SetTitle(\"\")\n",
    "h_k100sim_bkg_NaI_Edep_all_smeared.GetXaxis().SetTitle('Energy [MeV]')\n",
    "h_k100sim_bkg_NaI_Edep_all_smeared.GetYaxis().SetTitle('Differential rate (Hz/0.05 MeV)')\n",
    "h_k100sim_bkg_NaI_Edep_all_smeared.Draw('hist')\n",
    "\n",
    "h_k100sim_bkg_NaI_Edep_sansI127_smeared.SetLineColor(rt.kRed)\n",
    "h_k100sim_bkg_NaI_Edep_sansI127_smeared.Draw('hist same')\n",
    "\n",
    "h_k100sim_bkg_NaI_Edep_No_I_Na_smeared.SetLineColor(rt.kOrange)\n",
    "h_k100sim_bkg_NaI_Edep_No_I_Na_smeared.Draw('hist same')\n",
    "\n",
    "h_k100sim_bkg_NaI_Edep_No_I_Na_Fe_smeared.SetLineColor(rt.kGreen)\n",
    "h_k100sim_bkg_NaI_Edep_No_I_Na_Fe_smeared.Draw('hist same')\n",
    "\n",
    "h_data.Draw('same')\n",
    "\n",
    "legend = rt.TLegend(0.25,0.88,0.9,0.7)\n",
    "legend.SetTextSize(0.035)\n",
    "legend.SetBorderSize(0)\n",
    "legend.AddEntry(h_data,'Data','pe')\n",
    "legend.AddEntry(h_k100sim_bkg_NaI_Edep_all_smeared,'Simulation (smeared all)','l')\n",
    "legend.AddEntry(h_k100sim_bkg_NaI_Edep_sansI127_smeared,'Simulation (smeared + No_I)','l')\n",
    "legend.AddEntry(h_k100sim_bkg_NaI_Edep_No_I_Na_smeared,'Simulation (smeared + No_I_Na)','l')\n",
    "legend.AddEntry(h_k100sim_bkg_NaI_Edep_No_I_Na_Fe_smeared,'Simulation (smeared + No_I_Na_Fe)','l')\n",
    "\n",
    "legend.Draw()\n",
    "\n",
    "#h_k100sim_bkg_NaI_Edep_all_zoomed.GetXaxis().SetRangeUser(0,8)\n",
    "rt.gPad.SetLogy()\n",
    "c.Draw()"
   ]
  },
  {
   "cell_type": "code",
   "execution_count": null,
   "id": "b5a2314e",
   "metadata": {},
   "outputs": [],
   "source": []
  },
  {
   "cell_type": "code",
   "execution_count": 58,
   "id": "65cdaadf",
   "metadata": {},
   "outputs": [
    {
     "data": {
      "image/png": "[encoded data removed]",
      "text/plain": [
       "<IPython.core.display.Image object>"
      ]
     },
     "metadata": {},
     "output_type": "display_data"
    }
   ],
   "source": [
    "c = rt.TCanvas()\n",
    "h_data.Draw()\n",
    "h_data.SetMarkerStyle(rt.kFullCircle)\n",
    "h_data.SetMarkerColor(rt.kBlack)\n",
    "h_data.SetMarkerSize(0.6)\n",
    "h_data.SetLineColor(rt.kBlack)\n",
    "rt.gStyle.SetOptStat(0)\n",
    "\n",
    "h_k100sim_bkg_NaI_Edep_all_smeared.SetLineColor(rt.kBlue)\n",
    "h_k100sim_bkg_NaI_Edep_all_smeared.SetTitle(\"\")\n",
    "h_k100sim_bkg_NaI_Edep_all_smeared.GetXaxis().SetTitle('Energy [MeV]')\n",
    "h_k100sim_bkg_NaI_Edep_all_smeared.GetYaxis().SetTitle('Differential rate (Hz/0.05 MeV)')\n",
    "h_k100sim_bkg_NaI_Edep_all_smeared.Draw('hist')\n",
    "\n",
    "h_k100sim_bkg_NaI_Edep_sansI127_smeared.SetLineColor(rt.kRed)\n",
    "h_k100sim_bkg_NaI_Edep_sansI127_smeared.Draw('hist same')\n",
    "\n",
    "trigger_rate_smeared_I_Fe.SetLineColor(rt.kGreen)\n",
    "trigger_rate_smeared_I_Fe.Draw('hist same')\n",
    "\n",
    "# h_k100sim_bkg_NaI_Edep_No_I_Na_Fe_smeared.SetLineColor(rt.kGreen)\n",
    "# h_k100sim_bkg_NaI_Edep_No_I_Na_Fe_smeared.Draw('hist same')\n",
    "\n",
    "h_data.Draw('same')\n",
    "\n",
    "legend = rt.TLegend(0.25,0.88,0.9,0.7)\n",
    "legend.SetTextSize(0.035)\n",
    "legend.SetBorderSize(0)\n",
    "legend.AddEntry(h_data,'Data','pe')\n",
    "legend.AddEntry(h_k100sim_bkg_NaI_Edep_all_smeared,'Simulation (smeared all)','l')\n",
    "legend.AddEntry(h_k100sim_bkg_NaI_Edep_sansI127_smeared,'Simulation (smeared + No I-127)','l')\n",
    "legend.AddEntry(trigger_rate_smeared_I_Fe,'Simulation (smeared + No I-127 & Fe-56)','l')\n",
    "#legend.AddEntry(h_k100sim_bkg_NaI_Edep_No_I_Na_Fe_smeared,'Simulation (smeared + No_I_Na_Fe)','l')\n",
    "\n",
    "legend.Draw()\n",
    "\n",
    "#h_k100sim_bkg_NaI_Edep_all_zoomed.GetXaxis().SetRangeUser(0,8)\n",
    "rt.gPad.SetLogy()\n",
    "c.Draw()"
   ]
  },
  {
   "cell_type": "code",
   "execution_count": null,
   "id": "f667014f",
   "metadata": {},
   "outputs": [],
   "source": []
  },
  {
   "cell_type": "code",
   "execution_count": null,
   "id": "625e25c5",
   "metadata": {},
   "outputs": [],
   "source": []
  }
 ],
 "metadata": {
  "kernelspec": {
   "display_name": "Python 3 (ipykernel)",
   "language": "python",
   "name": "python3"
  },
  "language_info": {
   "codemirror_mode": {
    "name": "ipython",
    "version": 3
   },
   "file_extension": ".py",
   "mimetype": "text/x-python",
   "name": "python",
   "nbconvert_exporter": "python",
   "pygments_lexer": "ipython3",
   "version": "3.10.0"
  }
 },
 "nbformat": 4,
 "nbformat_minor": 5
}
